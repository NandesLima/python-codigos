{
 "cells": [
  {
   "attachments": {},
   "cell_type": "markdown",
   "id": "3d42d2d6",
   "metadata": {},
   "source": [
    "# 17 - Manipulando Arquivos\n",
    "\n",
    "### open() -  Abre um arquivo, com o nome e formato colocado no primeiro parâmetro e a ação no segundo parâmetro\n",
    "\n",
    "\n",
    "### Tipos de ações\n",
    "#### 'w' --> Permite a abertura do arquivo para escrever ou sorbreescrever o arquivo\n",
    "#### 'r' --> Permite a abertura do arquivo para leitura\n",
    "#### 'a' --> Permite a abertura do arquivo no modo append, pemite concatenar novos conteúdos\n",
    "#### 'x' --> Permite a abertura do arquivo no modo exclusivo\n",
    "#### 't' --> Permite a abertura do arquivo com o conteúdo como string\n",
    "#### 'b' --> Permite a abertura do arquivo com o conteúdo em binário"
   ]
  },
  {
   "cell_type": "markdown",
   "id": "111467d6",
   "metadata": {},
   "source": [
    "#### Colocando o arquivo em uma variável, é preciso do método .close() para fechar o arquivo."
   ]
  },
  {
   "cell_type": "code",
   "execution_count": 1,
   "id": "2b5296ca",
   "metadata": {},
   "outputs": [],
   "source": [
    "texto = '17-texto.txt'\n",
    "arquivo = open(texto, 'w')\n",
    "arquivo.close()"
   ]
  },
  {
   "cell_type": "markdown",
   "id": "5a3a1016",
   "metadata": {},
   "source": [
    "#### with - Abre o arquivo e o apelida/associa a uma variável mas não precisa do método .close() para ser fechado\n",
    "\n",
    "#### as - da um apelido ao arquivo, que é o que fica a direita\n"
   ]
  },
  {
   "cell_type": "code",
   "execution_count": 2,
   "id": "63ab80b1",
   "metadata": {},
   "outputs": [
    {
     "name": "stdout",
     "output_type": "stream",
     "text": [
      "\n"
     ]
    }
   ],
   "source": [
    "with open(texto,'r') as arquivo:\n",
    "    print(arquivo.read())"
   ]
  },
  {
   "cell_type": "markdown",
   "id": "9d7fd872",
   "metadata": {},
   "source": [
    "#### .write() - Escreve o conteúdo interno no arquivo"
   ]
  },
  {
   "cell_type": "code",
   "execution_count": 3,
   "id": "94f30665",
   "metadata": {},
   "outputs": [],
   "source": [
    "arquivo = open(texto,'w')\n",
    "arquivo.write('Conteúdo interno\\n')\n",
    "arquivo.write('Segunda linha\\n')\n",
    "arquivo.close()"
   ]
  },
  {
   "cell_type": "markdown",
   "id": "a042988a",
   "metadata": {},
   "source": [
    "#### .read() - Faz a leitura do arquivo"
   ]
  },
  {
   "cell_type": "code",
   "execution_count": 4,
   "id": "2dac6b33",
   "metadata": {},
   "outputs": [
    {
     "name": "stdout",
     "output_type": "stream",
     "text": [
      "Conteúdo interno\n",
      "Segunda linha\n",
      "\n"
     ]
    }
   ],
   "source": [
    "with open(texto,'r') as arquivo:\n",
    "    print(arquivo.read())"
   ]
  },
  {
   "cell_type": "markdown",
   "id": "3245fa3b",
   "metadata": {},
   "source": [
    "#### .readline() - Lê apenas uma linha por vez, o método mexe com o cursor do Python, então toda vez que for executado, mostrará uma linha diferente"
   ]
  },
  {
   "cell_type": "code",
   "execution_count": 5,
   "id": "07f00a89",
   "metadata": {},
   "outputs": [
    {
     "name": "stdout",
     "output_type": "stream",
     "text": [
      "Conteúdo interno\n",
      " Segunda linha\n",
      "\n"
     ]
    }
   ],
   "source": [
    "arquivo = open(texto, 'r')\n",
    "linha = arquivo.readline()\n",
    "linha2 = arquivo.readline()\n",
    "print(linha, linha2)\n",
    "arquivo.close()"
   ]
  },
  {
   "cell_type": "code",
   "execution_count": 6,
   "id": "df365469",
   "metadata": {},
   "outputs": [
    {
     "name": "stdout",
     "output_type": "stream",
     "text": [
      " Conteúdo interno\n",
      "Segunda linha\n"
     ]
    }
   ],
   "source": [
    "with open(texto,'r') as arquivo:\n",
    "    linha = ' '\n",
    "    while linha != '':\n",
    "        print(linha, end='')\n",
    "        linha = arquivo.readline()"
   ]
  },
  {
   "cell_type": "markdown",
   "id": "276e4c5a",
   "metadata": {},
   "source": [
    "#### Mostrando cada linha utilizando o for"
   ]
  },
  {
   "cell_type": "code",
   "execution_count": 7,
   "id": "adec6f9e",
   "metadata": {},
   "outputs": [
    {
     "name": "stdout",
     "output_type": "stream",
     "text": [
      "Conteúdo interno\n",
      "Segunda linha\n"
     ]
    }
   ],
   "source": [
    "arquivo = open(texto, 'r')\n",
    "for linha in arquivo:\n",
    "    print(linha, end='')\n",
    "arquivo.close()"
   ]
  },
  {
   "cell_type": "markdown",
   "id": "6ac3c045",
   "metadata": {},
   "source": [
    "#### .readlines() - Cria uma lista onde cada elemento é uma linha do arquivo"
   ]
  },
  {
   "cell_type": "code",
   "execution_count": 8,
   "id": "7a0782c7",
   "metadata": {},
   "outputs": [
    {
     "name": "stdout",
     "output_type": "stream",
     "text": [
      "['Conteúdo interno\\n', 'Segunda linha\\n']\n"
     ]
    }
   ],
   "source": [
    "arquivo = open(texto, 'r')\n",
    "print(arquivo.readlines())\n",
    "arquivo.close()"
   ]
  },
  {
   "cell_type": "markdown",
   "id": "bd610a16",
   "metadata": {},
   "source": [
    "#### A manipulação funciona igual ao de strings"
   ]
  },
  {
   "cell_type": "code",
   "execution_count": 9,
   "id": "8e6302fd",
   "metadata": {},
   "outputs": [
    {
     "name": "stdout",
     "output_type": "stream",
     "text": [
      "['Segunda linha\\n']\n"
     ]
    }
   ],
   "source": [
    "with open(texto, 'r') as arquivo:\n",
    "    print(arquivo.readlines()[1:])"
   ]
  },
  {
   "cell_type": "markdown",
   "id": "cf7a029c",
   "metadata": {},
   "source": [
    "#### Abertura no modo appende permite concatenar novos textos"
   ]
  },
  {
   "cell_type": "code",
   "execution_count": 10,
   "id": "0afc17c7",
   "metadata": {},
   "outputs": [],
   "source": [
    "with open(texto,'a') as arquivo:\n",
    "    arquivo.write('Terceira linha\\n')"
   ]
  },
  {
   "cell_type": "code",
   "execution_count": 11,
   "id": "66c3b77e",
   "metadata": {},
   "outputs": [
    {
     "name": "stdout",
     "output_type": "stream",
     "text": [
      "['Conteúdo interno\\n', 'Segunda linha\\n', 'Terceira linha\\n']\n"
     ]
    }
   ],
   "source": [
    "arquivo = open(texto, 'r')\n",
    "print(arquivo.readlines())\n",
    "arquivo.close()"
   ]
  },
  {
   "attachments": {},
   "cell_type": "markdown",
   "id": "97c66475",
   "metadata": {},
   "source": [
    "|  [Funções](https://github.com/NandesLima/python-codigos/blob/master/codigos/16-funcoes.ipynb) | [Tratamento de erros e exceções](https://github.com/NandesLima/python-codigos/blob/master/codigos/18-tratamento-de-erros-e-excecoes.ipynb) |\n",
    "| --------------------------------------------------------------------------- | ------------------------------------------------------------------------------------------------------------------------ |"
   ]
  }
 ],
 "metadata": {
  "kernelspec": {
   "display_name": "Python 3.9.12 ('base')",
   "language": "python",
   "name": "python3"
  },
  "language_info": {
   "codemirror_mode": {
    "name": "ipython",
    "version": 3
   },
   "file_extension": ".py",
   "mimetype": "text/x-python",
   "name": "python",
   "nbconvert_exporter": "python",
   "pygments_lexer": "ipython3",
   "version": "3.9.12 (main, Apr  5 2022, 06:56:58) \n[GCC 7.5.0]"
  },
  "vscode": {
   "interpreter": {
    "hash": "406138e5a602b00810fbe7ee529c90a879f88a9479754810ee7f6ab28412affb"
   }
  }
 },
 "nbformat": 4,
 "nbformat_minor": 5
}
