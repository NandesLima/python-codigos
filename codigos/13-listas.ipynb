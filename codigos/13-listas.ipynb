{
 "cells": [
  {
   "cell_type": "markdown",
   "id": "d0616873",
   "metadata": {},
   "source": [
    "# Listas\n",
    "\n",
    "- Objetos que podem armazenar mais de um elemento, podem haver elementos de tipos diferentes, repetidos, e as listas podem ser alteradas diferentes das tuplas. Os elementos das listas ficam entre colchetes []"
   ]
  },
  {
   "cell_type": "markdown",
   "id": "6d71c228",
   "metadata": {},
   "source": [
    "## Representando listas\n",
    "\n",
    "#### Utilização de colchetes"
   ]
  },
  {
   "cell_type": "code",
   "execution_count": 77,
   "id": "0e668ea1",
   "metadata": {
    "scrolled": true
   },
   "outputs": [
    {
     "name": "stdout",
     "output_type": "stream",
     "text": [
      "[1, 2, 3, 4, 5, 6]\n",
      "<class 'list'>\n"
     ]
    }
   ],
   "source": [
    "lista1 = [1,2,3,4,5,6]\n",
    "\n",
    "print(lista1)\n",
    "print(type(lista1))"
   ]
  },
  {
   "cell_type": "markdown",
   "id": "cc9648b9",
   "metadata": {},
   "source": [
    "#### Convertendo outros objetos em listas"
   ]
  },
  {
   "cell_type": "code",
   "execution_count": 78,
   "id": "2ee23683",
   "metadata": {},
   "outputs": [
    {
     "name": "stdout",
     "output_type": "stream",
     "text": [
      "[6, 7, 8, 9, 6, 7, 6, 8, 6, 9]\n",
      "<class 'list'>\n"
     ]
    }
   ],
   "source": [
    "tupla = (6,7,8,9,6,7,6,8,6,9)\n",
    "lista2 = list(tupla)\n",
    "\n",
    "print(lista2)\n",
    "print(type(lista2))"
   ]
  },
  {
   "cell_type": "code",
   "execution_count": 79,
   "id": "94e30ce3",
   "metadata": {},
   "outputs": [
    {
     "name": "stdout",
     "output_type": "stream",
     "text": [
      "[]\n",
      "<class 'list'>\n"
     ]
    }
   ],
   "source": [
    "lista3 = list()\n",
    "\n",
    "print(lista3)\n",
    "print(type(lista3))"
   ]
  },
  {
   "cell_type": "markdown",
   "id": "4f2dbb82",
   "metadata": {},
   "source": [
    "## enumerate - criando uma lista de tuplas\n",
    "\n",
    "#### enumerate() - Cria uma lista de tuplas, onde cada tupla tem dois elementos, um índice, e um elemento referente ao objeto utilizado"
   ]
  },
  {
   "cell_type": "code",
   "execution_count": 80,
   "id": "23f7d4a1",
   "metadata": {},
   "outputs": [
    {
     "name": "stdout",
     "output_type": "stream",
     "text": [
      "0 6\n",
      "1 7\n",
      "2 8\n",
      "3 9\n",
      "4 6\n",
      "5 7\n",
      "6 6\n",
      "7 8\n",
      "8 6\n",
      "9 9\n"
     ]
    }
   ],
   "source": [
    "lista = enumerate(lista2)\n",
    "\n",
    "for i, e in lista:\n",
    "    print(i, e)"
   ]
  },
  {
   "cell_type": "markdown",
   "id": "a569eb4d",
   "metadata": {},
   "source": [
    "## Atribuição de lista para lista\n",
    "\n",
    "#### Ligação entre as listas, se uma lista sofrer uma alteração a outra também sofrerá, é utilizado o sinal de igual."
   ]
  },
  {
   "cell_type": "code",
   "execution_count": 81,
   "id": "40e1b343",
   "metadata": {},
   "outputs": [
    {
     "name": "stdout",
     "output_type": "stream",
     "text": [
      "[6, 7, 8, 9, 6, 7, 6, 8, 6, 9]\n",
      "[6, 7, 8, 9, 6, 7, 6, 8, 6, 9]\n"
     ]
    }
   ],
   "source": [
    "lista3 = lista2\n",
    "\n",
    "print(lista2)\n",
    "print(lista3)"
   ]
  },
  {
   "cell_type": "code",
   "execution_count": 82,
   "id": "c1bf0d5b",
   "metadata": {},
   "outputs": [],
   "source": [
    "lista3.append(10)"
   ]
  },
  {
   "cell_type": "code",
   "execution_count": 83,
   "id": "a2852ccf",
   "metadata": {},
   "outputs": [
    {
     "name": "stdout",
     "output_type": "stream",
     "text": [
      "[6, 7, 8, 9, 6, 7, 6, 8, 6, 9, 10]\n",
      "[6, 7, 8, 9, 6, 7, 6, 8, 6, 9, 10]\n"
     ]
    }
   ],
   "source": [
    "print(lista2)\n",
    "print(lista3)"
   ]
  },
  {
   "cell_type": "markdown",
   "id": "81c7c63b",
   "metadata": {},
   "source": [
    "#### Com a utilização do colchete e dois pontos, em vez de fazer uma ligação, faz uma cópia"
   ]
  },
  {
   "cell_type": "code",
   "execution_count": 84,
   "id": "214dfe55",
   "metadata": {},
   "outputs": [
    {
     "name": "stdout",
     "output_type": "stream",
     "text": [
      "[6, 7, 8, 9, 6, 7, 6, 8, 6, 9, 10]\n",
      "[6, 7, 8, 9, 6, 7, 6, 8, 6, 9, 10]\n"
     ]
    }
   ],
   "source": [
    "lista3 = lista2[:]\n",
    "\n",
    "print(lista2)\n",
    "print(lista3)"
   ]
  },
  {
   "cell_type": "code",
   "execution_count": 85,
   "id": "57ed3a17",
   "metadata": {},
   "outputs": [],
   "source": [
    "lista3.append(11)"
   ]
  },
  {
   "cell_type": "code",
   "execution_count": 86,
   "id": "46b5700e",
   "metadata": {},
   "outputs": [
    {
     "name": "stdout",
     "output_type": "stream",
     "text": [
      "[6, 7, 8, 9, 6, 7, 6, 8, 6, 9, 10]\n",
      "[6, 7, 8, 9, 6, 7, 6, 8, 6, 9, 10, 11]\n"
     ]
    }
   ],
   "source": [
    "print(lista2)\n",
    "print(lista3)"
   ]
  },
  {
   "cell_type": "markdown",
   "id": "3244a02e",
   "metadata": {},
   "source": [
    "## Manipulação de listas\n",
    "\n",
    "#### Elemento da posição indicada"
   ]
  },
  {
   "cell_type": "code",
   "execution_count": 87,
   "id": "5f14a35f",
   "metadata": {},
   "outputs": [
    {
     "name": "stdout",
     "output_type": "stream",
     "text": [
      "9\n"
     ]
    }
   ],
   "source": [
    "print(lista3[3])"
   ]
  },
  {
   "cell_type": "markdown",
   "id": "0467df68",
   "metadata": {},
   "source": [
    "#### Elementos entre a posição inicial e a final, o último número é excludente"
   ]
  },
  {
   "cell_type": "code",
   "execution_count": 88,
   "id": "bccfb7a5",
   "metadata": {},
   "outputs": [
    {
     "name": "stdout",
     "output_type": "stream",
     "text": [
      "[9, 6, 7, 6]\n"
     ]
    }
   ],
   "source": [
    "print(lista3[3:7])"
   ]
  },
  {
   "cell_type": "markdown",
   "id": "c78cd898",
   "metadata": {},
   "source": [
    "#### Elementos entre a posição incical e a final, com saltos diferentes de 1"
   ]
  },
  {
   "cell_type": "code",
   "execution_count": 89,
   "id": "2895947f",
   "metadata": {},
   "outputs": [
    {
     "name": "stdout",
     "output_type": "stream",
     "text": [
      "[9, 7, 8, 9]\n"
     ]
    }
   ],
   "source": [
    "print(lista3[3:10:2])"
   ]
  },
  {
   "cell_type": "markdown",
   "id": "d302aa3c",
   "metadata": {},
   "source": [
    "#### Elementos antes do último indicado"
   ]
  },
  {
   "cell_type": "code",
   "execution_count": 90,
   "id": "607ae34f",
   "metadata": {},
   "outputs": [
    {
     "name": "stdout",
     "output_type": "stream",
     "text": [
      "[6, 7, 8, 9, 6, 7, 6, 8, 6, 9]\n"
     ]
    }
   ],
   "source": [
    "print(lista3[:10])"
   ]
  },
  {
   "cell_type": "markdown",
   "id": "3b2936f1",
   "metadata": {},
   "source": [
    "#### Elementos após o primeiro indicado"
   ]
  },
  {
   "cell_type": "code",
   "execution_count": 91,
   "id": "8097651c",
   "metadata": {},
   "outputs": [
    {
     "name": "stdout",
     "output_type": "stream",
     "text": [
      "[10, 11]\n"
     ]
    }
   ],
   "source": [
    "print(lista3[10:])"
   ]
  },
  {
   "cell_type": "markdown",
   "id": "d524f657",
   "metadata": {},
   "source": [
    "#### Todos os elementos com passo diferente de 1"
   ]
  },
  {
   "cell_type": "code",
   "execution_count": 92,
   "id": "786d2a60",
   "metadata": {},
   "outputs": [
    {
     "name": "stdout",
     "output_type": "stream",
     "text": [
      "[6, 9, 6, 9]\n"
     ]
    }
   ],
   "source": [
    "print(lista3[::3])"
   ]
  },
  {
   "cell_type": "markdown",
   "id": "cf88c125",
   "metadata": {},
   "source": [
    "#### Passo inverso"
   ]
  },
  {
   "cell_type": "code",
   "execution_count": 93,
   "id": "4e8a64db",
   "metadata": {},
   "outputs": [
    {
     "name": "stdout",
     "output_type": "stream",
     "text": [
      "[11, 10, 9, 6, 8, 6, 7, 6, 9, 8, 7, 6]\n"
     ]
    }
   ],
   "source": [
    "print(lista3[::-1])"
   ]
  },
  {
   "cell_type": "markdown",
   "id": "2ac9c4ec",
   "metadata": {},
   "source": [
    "#### Todos os elementos antes do último indicado, com passo diferente de 1"
   ]
  },
  {
   "cell_type": "code",
   "execution_count": 94,
   "id": "cd68f722",
   "metadata": {},
   "outputs": [
    {
     "name": "stdout",
     "output_type": "stream",
     "text": [
      "[6, 8, 6, 6]\n"
     ]
    }
   ],
   "source": [
    "print(lista3[:8:2])"
   ]
  },
  {
   "cell_type": "markdown",
   "id": "e0128988",
   "metadata": {},
   "source": [
    "#### Todos os elementos após o primeiro indicado, com passo diferente de 1"
   ]
  },
  {
   "cell_type": "code",
   "execution_count": 95,
   "id": "e39f23c3",
   "metadata": {},
   "outputs": [
    {
     "name": "stdout",
     "output_type": "stream",
     "text": [
      "[9, 7, 8, 9, 11]\n"
     ]
    }
   ],
   "source": [
    "print(lista3[3::2])"
   ]
  },
  {
   "cell_type": "markdown",
   "id": "abea6b3c",
   "metadata": {},
   "source": [
    "#### Retorna uma cópia da lista completa"
   ]
  },
  {
   "cell_type": "code",
   "execution_count": 96,
   "id": "00bd1dd0",
   "metadata": {},
   "outputs": [
    {
     "name": "stdout",
     "output_type": "stream",
     "text": [
      "[6, 7, 8, 9, 6, 7, 6, 8, 6, 9, 10, 11]\n"
     ]
    }
   ],
   "source": [
    "print(lista3[:])"
   ]
  },
  {
   "cell_type": "markdown",
   "id": "27a8b7ea",
   "metadata": {},
   "source": [
    "## Modificando um valor da lista"
   ]
  },
  {
   "cell_type": "code",
   "execution_count": 97,
   "id": "3454541b",
   "metadata": {},
   "outputs": [
    {
     "name": "stdout",
     "output_type": "stream",
     "text": [
      "0\n",
      "[6, 7, 0, 9, 6, 7, 6, 8, 6, 9, 10, 11]\n"
     ]
    }
   ],
   "source": [
    "lista3[2] = 0\n",
    "\n",
    "print(lista3[2])\n",
    "print(lista3)"
   ]
  },
  {
   "cell_type": "markdown",
   "id": "e1646710",
   "metadata": {},
   "source": [
    "## Métodos e funções\n",
    "\n",
    "#### .count() - Retorna quantas vezes aparece o elemento no objeto indicado"
   ]
  },
  {
   "cell_type": "code",
   "execution_count": 98,
   "id": "e695fece",
   "metadata": {},
   "outputs": [
    {
     "name": "stdout",
     "output_type": "stream",
     "text": [
      "4\n"
     ]
    }
   ],
   "source": [
    "print(lista3.count(6))"
   ]
  },
  {
   "cell_type": "markdown",
   "id": "7d8e8794",
   "metadata": {},
   "source": [
    "#### .index() - Retorna a posição de um elemento, a partir da primeira ocorrência ou a partir da posição indicada"
   ]
  },
  {
   "cell_type": "code",
   "execution_count": 99,
   "id": "931af882",
   "metadata": {},
   "outputs": [
    {
     "name": "stdout",
     "output_type": "stream",
     "text": [
      "0\n",
      "4\n"
     ]
    }
   ],
   "source": [
    "print(lista3.index(6))\n",
    "print(lista3.index(6,2))"
   ]
  },
  {
   "cell_type": "markdown",
   "id": "f3f3c3fe",
   "metadata": {},
   "source": [
    "#### min() - Retorna o menor valor do objeto\n",
    "#### max() - Retorna o maior valor do objeto\n",
    "#### sum() - Soma os valores do objeto"
   ]
  },
  {
   "cell_type": "code",
   "execution_count": 100,
   "id": "a25c89c8",
   "metadata": {},
   "outputs": [
    {
     "name": "stdout",
     "output_type": "stream",
     "text": [
      "0\n",
      "11\n",
      "85\n"
     ]
    }
   ],
   "source": [
    "print(min(lista3))\n",
    "print(max(lista3))\n",
    "print(sum(lista3))"
   ]
  },
  {
   "cell_type": "markdown",
   "id": "5d8581f6",
   "metadata": {},
   "source": [
    "#### len() - Mostra a quantidade de elementos do objeto"
   ]
  },
  {
   "cell_type": "code",
   "execution_count": 101,
   "id": "48df4466",
   "metadata": {},
   "outputs": [
    {
     "name": "stdout",
     "output_type": "stream",
     "text": [
      "12\n"
     ]
    }
   ],
   "source": [
    "print(len(lista3))"
   ]
  },
  {
   "cell_type": "markdown",
   "id": "ee039f3c",
   "metadata": {},
   "source": [
    "#### .append() - Adiciona um novo elemento no final da lista"
   ]
  },
  {
   "cell_type": "code",
   "execution_count": 102,
   "id": "3777ea7c",
   "metadata": {},
   "outputs": [
    {
     "name": "stdout",
     "output_type": "stream",
     "text": [
      "[6, 7, 0, 9, 6, 7, 6, 8, 6, 9, 10, 11, 20]\n"
     ]
    }
   ],
   "source": [
    "lista3.append(20)\n",
    "\n",
    "print(lista3)"
   ]
  },
  {
   "cell_type": "markdown",
   "id": "c27a3b5f",
   "metadata": {},
   "source": [
    "#### .insert() - Adiciona um valor na lista (segunda parâmetro), na posição indicada (primeiro parâmetro) desloca os demais valores para a direita."
   ]
  },
  {
   "cell_type": "code",
   "execution_count": 103,
   "id": "bbe57802",
   "metadata": {},
   "outputs": [
    {
     "name": "stdout",
     "output_type": "stream",
     "text": [
      "[6, 7, 0, 9, 'Teste', 6, 7, 6, 8, 6, 9, 10, 11, 20]\n"
     ]
    }
   ],
   "source": [
    "lista3.insert(4,'Teste')\n",
    "\n",
    "print(lista3)"
   ]
  },
  {
   "cell_type": "markdown",
   "id": "1803d423",
   "metadata": {},
   "source": [
    "#### .extend() - Adiciona os elementos da sequência entre parênteses, na lista\n"
   ]
  },
  {
   "cell_type": "code",
   "execution_count": 104,
   "id": "7b29e5da",
   "metadata": {},
   "outputs": [
    {
     "name": "stdout",
     "output_type": "stream",
     "text": [
      "[6, 7, 0, 9, 'Teste', 6, 7, 6, 8, 6, 9, 10, 11, 20, 6, 7, 8, 9, 6, 7, 6, 8, 6, 9]\n"
     ]
    }
   ],
   "source": [
    "lista3.extend(tupla)\n",
    "\n",
    "print(lista3)"
   ]
  },
  {
   "cell_type": "markdown",
   "id": "5714ab9b",
   "metadata": {},
   "source": [
    "#### .pop() - Elimina um elemento da posição indicada, se não for indicado elimina o último. O pop retorna o valor excluído.\n"
   ]
  },
  {
   "cell_type": "code",
   "execution_count": 105,
   "id": "90061bf7",
   "metadata": {},
   "outputs": [
    {
     "name": "stdout",
     "output_type": "stream",
     "text": [
      "[6, 7, 9, 'Teste', 6, 7, 6, 8, 6, 9, 10, 11, 20, 6, 7, 8, 9, 6, 7, 6, 8, 6, 9]\n"
     ]
    }
   ],
   "source": [
    "lista3.pop(2)\n",
    "\n",
    "print(lista3)"
   ]
  },
  {
   "cell_type": "code",
   "execution_count": 106,
   "id": "65177f60",
   "metadata": {},
   "outputs": [
    {
     "name": "stdout",
     "output_type": "stream",
     "text": [
      "Teste\n",
      "[6, 7, 9, 6, 7, 6, 8, 6, 9, 10, 11, 20, 6, 7, 8, 9, 6, 7, 6, 8, 6, 9]\n"
     ]
    }
   ],
   "source": [
    "retorno = lista3.pop(3)\n",
    "\n",
    "print(retorno)\n",
    "print(lista3)"
   ]
  },
  {
   "cell_type": "markdown",
   "id": "40420667",
   "metadata": {},
   "source": [
    "#### .remove() - Elimina o elemento indicado na sua primeira ocorrência"
   ]
  },
  {
   "cell_type": "code",
   "execution_count": 107,
   "id": "104f0279",
   "metadata": {},
   "outputs": [
    {
     "name": "stdout",
     "output_type": "stream",
     "text": [
      "[6, 9, 6, 7, 6, 8, 6, 9, 10, 11, 20, 6, 7, 8, 9, 6, 7, 6, 8, 6, 9]\n"
     ]
    }
   ],
   "source": [
    "lista3.remove(7)\n",
    "\n",
    "print(lista3)"
   ]
  },
  {
   "cell_type": "markdown",
   "id": "86757fbb",
   "metadata": {},
   "source": [
    "#### .clear() - Limpa os dados da lista"
   ]
  },
  {
   "cell_type": "code",
   "execution_count": 108,
   "id": "5aa610fc",
   "metadata": {},
   "outputs": [
    {
     "name": "stdout",
     "output_type": "stream",
     "text": [
      "[]\n"
     ]
    }
   ],
   "source": [
    "lista1.clear()\n",
    "\n",
    "print(lista1)"
   ]
  },
  {
   "cell_type": "markdown",
   "id": "1ed1ccbb",
   "metadata": {},
   "source": [
    "### Elementos em ordem crescente\n",
    "\n",
    "#### .sort()"
   ]
  },
  {
   "cell_type": "code",
   "execution_count": 109,
   "id": "f2cf9feb",
   "metadata": {},
   "outputs": [
    {
     "name": "stdout",
     "output_type": "stream",
     "text": [
      "[6, 6, 6, 6, 7, 7, 8, 8, 9, 9, 10]\n"
     ]
    }
   ],
   "source": [
    "lista2.sort()\n",
    "\n",
    "print(lista2)"
   ]
  },
  {
   "cell_type": "markdown",
   "id": "26af8785",
   "metadata": {},
   "source": [
    "#### sorted()"
   ]
  },
  {
   "cell_type": "code",
   "execution_count": 110,
   "id": "c18bf013",
   "metadata": {},
   "outputs": [
    {
     "name": "stdout",
     "output_type": "stream",
     "text": [
      "[6, 6, 6, 6, 6, 6, 6, 6, 7, 7, 7, 8, 8, 8, 9, 9, 9, 9, 10, 11, 20]\n"
     ]
    }
   ],
   "source": [
    "print(sorted(lista3))"
   ]
  },
  {
   "cell_type": "markdown",
   "id": "e740e093",
   "metadata": {},
   "source": [
    "### Elementos em ordem decrescente\n",
    "\n",
    "#### .sort()"
   ]
  },
  {
   "cell_type": "code",
   "execution_count": 111,
   "id": "bf553ab3",
   "metadata": {},
   "outputs": [
    {
     "name": "stdout",
     "output_type": "stream",
     "text": [
      "[20, 11, 10, 9, 9, 9, 9, 8, 8, 8, 7, 7, 7, 6, 6, 6, 6, 6, 6, 6, 6]\n"
     ]
    }
   ],
   "source": [
    "lista3.sort(reverse=True)\n",
    "\n",
    "print(lista3)"
   ]
  },
  {
   "cell_type": "markdown",
   "id": "8f6b03d8",
   "metadata": {},
   "source": [
    "#### sorted()"
   ]
  },
  {
   "cell_type": "code",
   "execution_count": 112,
   "id": "0e3cbbac",
   "metadata": {},
   "outputs": [
    {
     "name": "stdout",
     "output_type": "stream",
     "text": [
      "[10, 9, 9, 8, 8, 7, 7, 6, 6, 6, 6]\n"
     ]
    }
   ],
   "source": [
    "print(sorted(lista2, reverse=True))"
   ]
  },
  {
   "cell_type": "markdown",
   "id": "72c19652",
   "metadata": {},
   "source": [
    "## Comando DEL"
   ]
  },
  {
   "cell_type": "markdown",
   "id": "cf3d6510",
   "metadata": {},
   "source": [
    "#### Deleta um objeto selecionado ou somente um elemento"
   ]
  },
  {
   "cell_type": "code",
   "execution_count": 115,
   "id": "12ecd0b5",
   "metadata": {},
   "outputs": [
    {
     "name": "stdout",
     "output_type": "stream",
     "text": [
      "[11, 10, 9, 9, 9, 9, 8, 8, 8, 7, 7, 7, 6, 6, 6, 6, 6, 6, 6, 6]\n"
     ]
    }
   ],
   "source": [
    "del lista3[0]\n",
    "\n",
    "print(lista3)"
   ]
  },
  {
   "cell_type": "code",
   "execution_count": 116,
   "id": "c89aa970",
   "metadata": {},
   "outputs": [],
   "source": [
    "del lista3"
   ]
  },
  {
   "cell_type": "code",
   "execution_count": 117,
   "id": "25e93fbb",
   "metadata": {},
   "outputs": [
    {
     "ename": "NameError",
     "evalue": "name 'lista3' is not defined",
     "output_type": "error",
     "traceback": [
      "\u001b[0;31m---------------------------------------------------------------------------\u001b[0m",
      "\u001b[0;31mNameError\u001b[0m                                 Traceback (most recent call last)",
      "Input \u001b[0;32mIn [117]\u001b[0m, in \u001b[0;36m<cell line: 1>\u001b[0;34m()\u001b[0m\n\u001b[0;32m----> 1\u001b[0m \u001b[38;5;28mprint\u001b[39m(\u001b[43mlista3\u001b[49m)\n",
      "\u001b[0;31mNameError\u001b[0m: name 'lista3' is not defined"
     ]
    }
   ],
   "source": [
    "print(lista3)"
   ]
  }
 ],
 "metadata": {
  "kernelspec": {
   "display_name": "Python 3 (ipykernel)",
   "language": "python",
   "name": "python3"
  },
  "language_info": {
   "codemirror_mode": {
    "name": "ipython",
    "version": 3
   },
   "file_extension": ".py",
   "mimetype": "text/x-python",
   "name": "python",
   "nbconvert_exporter": "python",
   "pygments_lexer": "ipython3",
   "version": "3.9.12"
  }
 },
 "nbformat": 4,
 "nbformat_minor": 5
}
