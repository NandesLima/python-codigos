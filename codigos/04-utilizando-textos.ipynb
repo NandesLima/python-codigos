{
 "cells": [
  {
   "cell_type": "markdown",
   "id": "009c9cc5",
   "metadata": {},
   "source": [
    "# 04 - Utilizando Textos"
   ]
  },
  {
   "cell_type": "markdown",
   "id": "bd6d0070",
   "metadata": {},
   "source": [
    "## Tipos de string em python"
   ]
  },
  {
   "cell_type": "markdown",
   "id": "6d2935ab",
   "metadata": {},
   "source": [
    "#### Aspas duplas"
   ]
  },
  {
   "cell_type": "code",
   "execution_count": 226,
   "id": "2b6c9195",
   "metadata": {},
   "outputs": [],
   "source": [
    "n = \"Primeiro texto\""
   ]
  },
  {
   "cell_type": "markdown",
   "id": "f84e8238",
   "metadata": {},
   "source": [
    "#### Aspas simples"
   ]
  },
  {
   "cell_type": "code",
   "execution_count": 227,
   "id": "90ba623e",
   "metadata": {},
   "outputs": [],
   "source": [
    "m = ' - Segundo texto'"
   ]
  },
  {
   "cell_type": "markdown",
   "id": "109427da",
   "metadata": {},
   "source": [
    "#### Uso de três aspas, simples ou dupla\n",
    "\n",
    "Permite colocar o texto em mais de uma linha"
   ]
  },
  {
   "cell_type": "code",
   "execution_count": 228,
   "id": "1a3c0c8e",
   "metadata": {},
   "outputs": [],
   "source": [
    "menu = '''\n",
    "===========================\n",
    "           Menu\n",
    "===========================\n",
    "'''\n",
    "\n",
    "texto = \"\"\"\n",
    "Utilizando três aspas, simples ou duplas,\n",
    "pode-se  criar strings de múltiplas linhas\n",
    "\"\"\""
   ]
  },
  {
   "cell_type": "markdown",
   "id": "2b8fa8db",
   "metadata": {},
   "source": [
    "## Multiplicando Strings\n",
    "\n",
    "Utilizando o símbolo * pode se mutiplicar um caractere ou sequência de caracteres de uma string, pelo número da direita."
   ]
  },
  {
   "cell_type": "code",
   "execution_count": 229,
   "id": "725cd460",
   "metadata": {},
   "outputs": [
    {
     "name": "stdout",
     "output_type": "stream",
     "text": [
      "=~=~=~=~=~=~=~=~=~=~=~=~=~=~=~=~=~=~=~=~=~=~=~=~=~\n"
     ]
    }
   ],
   "source": [
    "print('=~' * 25)"
   ]
  },
  {
   "cell_type": "markdown",
   "id": "c2956efa",
   "metadata": {},
   "source": [
    "## Juntando Strings\n",
    "\n",
    "#### Utiliza-se o sinal de + para juntar duas strings"
   ]
  },
  {
   "cell_type": "code",
   "execution_count": 230,
   "id": "e2d6db2e",
   "metadata": {},
   "outputs": [
    {
     "name": "stdout",
     "output_type": "stream",
     "text": [
      "Angelo Bardy\n",
      "Primeiro texto - Segundo texto\n"
     ]
    }
   ],
   "source": [
    "nome = \"Angelo\" + \" Bardy\"\n",
    "print(nome)\n",
    "\n",
    "print(n + m)"
   ]
  },
  {
   "cell_type": "markdown",
   "id": "ea53b73b",
   "metadata": {},
   "source": [
    "#### Para juntar uma string e um tipo diferente, precisa primeiro transformar o dado"
   ]
  },
  {
   "cell_type": "code",
   "execution_count": 231,
   "id": "7864a9bc",
   "metadata": {},
   "outputs": [
    {
     "name": "stdout",
     "output_type": "stream",
     "text": [
      "Angelo Bardy\n",
      "idade: 67\n",
      "jovem: False\n"
     ]
    }
   ],
   "source": [
    "idade = 67\n",
    "jovem = False\n",
    "dados = nome + \"\\nidade: \" + str(idade) + \"\\njovem: \" + str(jovem)\n",
    "print(dados)"
   ]
  },
  {
   "cell_type": "markdown",
   "id": "5884023f",
   "metadata": {},
   "source": [
    "#### A vírgula consegue juntar variáveis, e coloca um espaço entre elas"
   ]
  },
  {
   "cell_type": "code",
   "execution_count": 232,
   "id": "f8c702e2",
   "metadata": {},
   "outputs": [
    {
     "name": "stdout",
     "output_type": "stream",
     "text": [
      "Angelo Bardy 67 False\n"
     ]
    }
   ],
   "source": [
    "print(nome, idade, jovem)"
   ]
  },
  {
   "cell_type": "markdown",
   "id": "80650b6b",
   "metadata": {},
   "source": [
    "## .format()\n",
    "\n",
    "#### Permite fazer a junção de objetos dentro da própria string\n",
    "\n",
    "Máscara - são as chaves utilizadas dentro da string, essa máscara será substituida pelo objeto dentro do método format."
   ]
  },
  {
   "cell_type": "code",
   "execution_count": 233,
   "id": "498cc02d",
   "metadata": {},
   "outputs": [
    {
     "name": "stdout",
     "output_type": "stream",
     "text": [
      "Nome: Angelo Bardy\n"
     ]
    }
   ],
   "source": [
    "mostrar_nome = \"Nome: {}\".format(nome)\n",
    "print(mostrar_nome)"
   ]
  },
  {
   "cell_type": "markdown",
   "id": "6f55564a",
   "metadata": {},
   "source": [
    "Pode-se utilizar mais de uma máscara, e mais de um objeto, mas colocando na mesma ordem que está no format."
   ]
  },
  {
   "cell_type": "code",
   "execution_count": 234,
   "id": "15a6e144",
   "metadata": {},
   "outputs": [
    {
     "name": "stdout",
     "output_type": "stream",
     "text": [
      "\n",
      "Nome: Angelo Bardy\n",
      "Idade: 67\n",
      "Jovem: False\n",
      "\n"
     ]
    }
   ],
   "source": [
    "mostrar_dados = '''\n",
    "Nome: {}\n",
    "Idade: {}\n",
    "Jovem: {}\n",
    "'''.format(nome, idade, jovem)\n",
    "print (mostrar_dados)"
   ]
  },
  {
   "cell_type": "markdown",
   "id": "2d12b669",
   "metadata": {},
   "source": [
    "Também é possível colocar em outras ordens o valor do format, ou repetir um valor mais de uma vez.\n",
    "\n",
    "Basta associar as variáveis com um parâmetro, que você nomeia, e os parâmetros criados são retornados dentro das máscaras."
   ]
  },
  {
   "cell_type": "code",
   "execution_count": 235,
   "id": "fe7e0f16",
   "metadata": {},
   "outputs": [
    {
     "name": "stdout",
     "output_type": "stream",
     "text": [
      "\n",
      "Nome: Angelo Bardy\n",
      "Idade: 67\n",
      "Jovem: False\n",
      "Idade 67 e nome Angelo Bardy\n",
      "\n"
     ]
    }
   ],
   "source": [
    "mostrar_dados = '''\n",
    "Nome: {s}\n",
    "Idade: {n}\n",
    "Jovem: {v}\n",
    "Idade {n} e nome {s}\n",
    "'''.format(n=idade, v=jovem, s=nome)\n",
    "print (mostrar_dados)"
   ]
  },
  {
   "cell_type": "markdown",
   "id": "33da4ac2",
   "metadata": {},
   "source": [
    "#### Utilização de dicionário dentro do .format()\n",
    "\n",
    "Um dicionário pode ser chamado dentro do método format, utilizando **.\n",
    "\n",
    "Dentro das máscaras chama os valores do dicionário pelas chaves do dicionário."
   ]
  },
  {
   "cell_type": "code",
   "execution_count": 236,
   "id": "663dd459",
   "metadata": {},
   "outputs": [
    {
     "name": "stdout",
     "output_type": "stream",
     "text": [
      "\n",
      "Nome: Angelo Bardy\n",
      "Idade: 67\n",
      "Velho: True\n",
      "Jovem: False\n",
      "\n"
     ]
    }
   ],
   "source": [
    "dicionario = {'nome':nome, \n",
    "              'idade':idade, \n",
    "              'jovem':jovem, \n",
    "              'velho': not jovem}\n",
    "mostrar_dados = \"\"\"\n",
    "Nome: {nome}\n",
    "Idade: {idade}\n",
    "Velho: {velho}\n",
    "Jovem: {jovem}\n",
    "\"\"\".format(**dicionario)\n",
    "print(mostrar_dados)"
   ]
  },
  {
   "cell_type": "markdown",
   "id": "aa98e357",
   "metadata": {},
   "source": [
    "## f string\n",
    "\n",
    "#### Permite a junção de objetos na string de forma mais facilitada e ágil\n",
    "\n",
    "Antes das aspas da string coloca-se o f e dentro das máscaras colocam-se os objetos."
   ]
  },
  {
   "cell_type": "code",
   "execution_count": 237,
   "id": "9f7b7df7",
   "metadata": {},
   "outputs": [
    {
     "name": "stdout",
     "output_type": "stream",
     "text": [
      "\n",
      "Nome : Angelo Bardy\n",
      "Idade: 67\n",
      "Jovem: False\n",
      "Velho: True\n",
      "\n"
     ]
    }
   ],
   "source": [
    "mostrar_dados = f'''\n",
    "Nome : {nome}\n",
    "Idade: {idade}\n",
    "Jovem: {jovem}\n",
    "Velho: {not jovem}\n",
    "'''\n",
    "\n",
    "print(mostrar_dados)"
   ]
  },
  {
   "cell_type": "markdown",
   "id": "a4494a5d",
   "metadata": {},
   "source": [
    "## .join()\n",
    "\n",
    "Junta os valores de um texto ou de uma lista em um novo texto"
   ]
  },
  {
   "cell_type": "markdown",
   "id": "9d3ebb96",
   "metadata": {},
   "source": [
    "#### Utilizando um texto\n",
    "\n",
    "- Lado esquerdo do .join() fica o caractere ou a sequência de caracteres entre aspas, que vão fazr a alteração no texto\n",
    "- Lado direito do .join(), dentro dos parênteses fica a string que será modificada"
   ]
  },
  {
   "cell_type": "code",
   "execution_count": 238,
   "id": "6e7ac4bd",
   "metadata": {},
   "outputs": [
    {
     "name": "stdout",
     "output_type": "stream",
     "text": [
      "A.n.g.e.l.o. .B.a.r.d.y\n"
     ]
    }
   ],
   "source": [
    "nome = '.'.join(nome)\n",
    "print(nome)"
   ]
  },
  {
   "cell_type": "markdown",
   "id": "ec35caa2",
   "metadata": {},
   "source": [
    "#### Utilizando listas\n",
    "\n",
    "- Lado esquerdo do .join() fica o caractere de junção dos elementos da lista.\n",
    "- Lado direito do .join() dentro dos parênteses fica a lista.\n",
    "- Todos os elementos da lista devem ser strings."
   ]
  },
  {
   "cell_type": "code",
   "execution_count": 239,
   "id": "a4cacf41",
   "metadata": {},
   "outputs": [
    {
     "name": "stdout",
     "output_type": "stream",
     "text": [
      "Angelo Bardy Idade 27\n"
     ]
    }
   ],
   "source": [
    "lista = ['Angelo','Bardy','Idade','27']\n",
    "nome = ' '.join(lista)\n",
    "print(nome)"
   ]
  },
  {
   "cell_type": "markdown",
   "id": "10ddcf62",
   "metadata": {},
   "source": [
    "## len() \n",
    "\n",
    "- Faz a contagem dos elementos de uma sequêcia (string, listas, tuplas, dicionários, entre outros)"
   ]
  },
  {
   "cell_type": "code",
   "execution_count": 276,
   "id": "6a3bbb15",
   "metadata": {},
   "outputs": [
    {
     "name": "stdout",
     "output_type": "stream",
     "text": [
      "21\n"
     ]
    }
   ],
   "source": [
    "print(len(nome))"
   ]
  },
  {
   "cell_type": "markdown",
   "id": "ce0380d1",
   "metadata": {},
   "source": [
    "## .find()\n",
    "\n",
    "#### .find() - Mostra a primeira ocorrência (posição, índice) do caractere ou sequência de caracteres "
   ]
  },
  {
   "cell_type": "code",
   "execution_count": 277,
   "id": "a8d5e846",
   "metadata": {},
   "outputs": [
    {
     "name": "stdout",
     "output_type": "stream",
     "text": [
      "3\n"
     ]
    }
   ],
   "source": [
    "print(nome.find('e'))"
   ]
  },
  {
   "cell_type": "markdown",
   "id": "c384da40",
   "metadata": {},
   "source": [
    "#### Determinando a posição, considera a procura a partir daquela posição"
   ]
  },
  {
   "cell_type": "code",
   "execution_count": 278,
   "id": "03886161",
   "metadata": {},
   "outputs": [
    {
     "name": "stdout",
     "output_type": "stream",
     "text": [
      "14\n"
     ]
    }
   ],
   "source": [
    "print(nome.find('e', 4))"
   ]
  },
  {
   "cell_type": "markdown",
   "id": "7963b87b",
   "metadata": {},
   "source": [
    "#### .rfind() - Mostra a ocorrência a partir da direita"
   ]
  },
  {
   "cell_type": "code",
   "execution_count": 279,
   "id": "bffcacf9",
   "metadata": {},
   "outputs": [
    {
     "name": "stdout",
     "output_type": "stream",
     "text": [
      "17\n"
     ]
    }
   ],
   "source": [
    "print(nome.rfind('e'))"
   ]
  },
  {
   "cell_type": "markdown",
   "id": "0d7e5fb0",
   "metadata": {},
   "source": [
    "## .count()\n",
    "\n",
    "#### .count() - Mostra a quantidade de vezes que um caractere ou string aparecem dentro de um texto."
   ]
  },
  {
   "cell_type": "code",
   "execution_count": 280,
   "id": "3c6d0719",
   "metadata": {},
   "outputs": [
    {
     "name": "stdout",
     "output_type": "stream",
     "text": [
      "3\n"
     ]
    }
   ],
   "source": [
    "print(nome.count('e'))"
   ]
  },
  {
   "cell_type": "markdown",
   "id": "d33bf423",
   "metadata": {},
   "source": [
    "#### Pode-se considerar a partir de uma primeira posição indicada"
   ]
  },
  {
   "cell_type": "code",
   "execution_count": 281,
   "id": "0bb4f6b4",
   "metadata": {},
   "outputs": [
    {
     "name": "stdout",
     "output_type": "stream",
     "text": [
      "2\n"
     ]
    }
   ],
   "source": [
    "print(nome.count('e', 4))"
   ]
  },
  {
   "cell_type": "markdown",
   "id": "099fe5c0",
   "metadata": {},
   "source": [
    "#### Considerando a partir de uma posição inicial e uma posição final"
   ]
  },
  {
   "cell_type": "code",
   "execution_count": 282,
   "id": "807903f2",
   "metadata": {},
   "outputs": [
    {
     "name": "stdout",
     "output_type": "stream",
     "text": [
      "1\n"
     ]
    }
   ],
   "source": [
    "print(nome.count('e',4,17))"
   ]
  },
  {
   "cell_type": "markdown",
   "id": "8c5888dd",
   "metadata": {},
   "source": [
    "## Parâmetros do print()\n",
    "\n",
    "#### end - Muda o último caractere da função print, que já vem com a função \\n"
   ]
  },
  {
   "cell_type": "code",
   "execution_count": 1,
   "id": "cdef8a69",
   "metadata": {},
   "outputs": [
    {
     "name": "stdout",
     "output_type": "stream",
     "text": [
      "Teste-"
     ]
    }
   ],
   "source": [
    "print('Teste', end = '-')"
   ]
  }
 ],
 "metadata": {
  "kernelspec": {
   "display_name": "Python 3.9.12 ('base')",
   "language": "python",
   "name": "python3"
  },
  "language_info": {
   "codemirror_mode": {
    "name": "ipython",
    "version": 3
   },
   "file_extension": ".py",
   "mimetype": "text/x-python",
   "name": "python",
   "nbconvert_exporter": "python",
   "pygments_lexer": "ipython3",
   "version": "3.9.12"
  },
  "vscode": {
   "interpreter": {
    "hash": "406138e5a602b00810fbe7ee529c90a879f88a9479754810ee7f6ab28412affb"
   }
  }
 },
 "nbformat": 4,
 "nbformat_minor": 5
}
