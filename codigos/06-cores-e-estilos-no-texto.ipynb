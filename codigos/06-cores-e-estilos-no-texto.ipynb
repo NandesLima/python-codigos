{
 "cells": [
  {
   "cell_type": "markdown",
   "id": "47241dfd",
   "metadata": {},
   "source": [
    "# 06 - Cores e estilo\n",
    "\n",
    "- \\033[estilo; cor do texto; cor de fundo m\n",
    "\n",
    "- Base: \\033[m\n",
    "\n",
    "- Estilos: 0 1 2 3 4 5 6 7\n",
    "\n",
    "- Cor do texto: 30 31 32 33 34 35 36 37 38 39\n",
    "\n",
    "- Cor de fundo: 40 41 42 43 44 45 46 47 48 49"
   ]
  },
  {
   "cell_type": "code",
   "execution_count": 2,
   "metadata": {},
   "outputs": [
    {
     "name": "stdout",
     "output_type": "stream",
     "text": [
      "\u001b[4mItálico\n"
     ]
    }
   ],
   "source": [
    "print(\"\\033[4mItálico\")"
   ]
  },
  {
   "cell_type": "code",
   "execution_count": 3,
   "metadata": {},
   "outputs": [
    {
     "name": "stdout",
     "output_type": "stream",
     "text": [
      "\u001b[32mCor do texto\n"
     ]
    }
   ],
   "source": [
    "print(\"\\033[32mCor do texto\")"
   ]
  },
  {
   "cell_type": "code",
   "execution_count": 4,
   "metadata": {},
   "outputs": [
    {
     "name": "stdout",
     "output_type": "stream",
     "text": [
      "\u001b[42mCor de fundo\n"
     ]
    }
   ],
   "source": [
    "print(\"\\033[42mCor de fundo\")"
   ]
  },
  {
   "cell_type": "code",
   "execution_count": 5,
   "metadata": {},
   "outputs": [
    {
     "name": "stdout",
     "output_type": "stream",
     "text": [
      "\u001b[42;5mTeste\n"
     ]
    }
   ],
   "source": [
    "print(\"\\033[42;5mTeste\")"
   ]
  },
  {
   "cell_type": "code",
   "execution_count": 6,
   "metadata": {},
   "outputs": [
    {
     "name": "stdout",
     "output_type": "stream",
     "text": [
      "\u001b[32;5mTeste\n"
     ]
    }
   ],
   "source": [
    "print(\"\\033[32;5mTeste\")"
   ]
  },
  {
   "cell_type": "code",
   "execution_count": 7,
   "metadata": {},
   "outputs": [
    {
     "name": "stdout",
     "output_type": "stream",
     "text": [
      "\u001b[37;41mTESTE\n"
     ]
    }
   ],
   "source": [
    "print(\"\\033[37;41mTESTE\")"
   ]
  },
  {
   "cell_type": "code",
   "execution_count": 8,
   "metadata": {},
   "outputs": [
    {
     "name": "stdout",
     "output_type": "stream",
     "text": [
      "\u001b[35;43;5mTESTE\u001b[m \u001b[33;45;4mSEGUNDO TESTE\n"
     ]
    }
   ],
   "source": [
    "print(\"\\033[35;43;5mTESTE\\033[m \\033[33;45;4mSEGUNDO TESTE\")"
   ]
  },
  {
   "attachments": {},
   "cell_type": "markdown",
   "id": "97c66475",
   "metadata": {},
   "source": [
    "| [Formatando Textos](https://github.com/NandesLima/python-codigos/blob/master/codigos/05-formatando-textos.ipynb) | [Slicing](https://github.com/NandesLima/python-codigos/blob/master/codigos/07-slicing-substrings.ipynb) |\n",
    "| --------------------------------------------------------------------------- | ------------------------------------------------------------------------------------------------------------------------ |"
   ]
  }
 ],
 "metadata": {
  "kernelspec": {
   "display_name": "Python 3.9.12 ('base')",
   "language": "python",
   "name": "python3"
  },
  "language_info": {
   "codemirror_mode": {
    "name": "ipython",
    "version": 3
   },
   "file_extension": ".py",
   "mimetype": "text/x-python",
   "name": "python",
   "nbconvert_exporter": "python",
   "pygments_lexer": "ipython3",
   "version": "3.9.12 (main, Apr  5 2022, 06:56:58) \n[GCC 7.5.0]"
  },
  "orig_nbformat": 4,
  "vscode": {
   "interpreter": {
    "hash": "406138e5a602b00810fbe7ee529c90a879f88a9479754810ee7f6ab28412affb"
   }
  }
 },
 "nbformat": 4,
 "nbformat_minor": 2
}
