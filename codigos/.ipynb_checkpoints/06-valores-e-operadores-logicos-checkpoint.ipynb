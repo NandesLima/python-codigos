{
 "cells": [
  {
   "cell_type": "markdown",
   "id": "7127d4cd",
   "metadata": {},
   "source": [
    "# 06 - Valores e Operadores Lógicos"
   ]
  },
  {
   "cell_type": "markdown",
   "id": "c1bcd3f0",
   "metadata": {},
   "source": [
    "## Tipo booleano\n",
    "\n",
    "#### True - verdadeiro\n",
    "#### False - falso"
   ]
  },
  {
   "cell_type": "code",
   "execution_count": 56,
   "id": "d101bedc",
   "metadata": {},
   "outputs": [],
   "source": [
    "valor_verdadeiro = True\n",
    "valor_falso = False"
   ]
  },
  {
   "cell_type": "markdown",
   "id": "064bfbdb",
   "metadata": {},
   "source": [
    "## Operador de negação - not\n",
    "\n",
    "- Serve para negar um valor lógico, fazendo a alteração de True para False, e de False para True"
   ]
  },
  {
   "cell_type": "code",
   "execution_count": 57,
   "id": "3f1652d8",
   "metadata": {},
   "outputs": [
    {
     "name": "stdout",
     "output_type": "stream",
     "text": [
      "\n",
      "Dia   : True\n",
      "Noite : False\n",
      "\n"
     ]
    }
   ],
   "source": [
    "dia = True\n",
    "noite = not dia\n",
    "\n",
    "print(f'''\n",
    "Dia   : {dia}\n",
    "Noite : {noite}\n",
    "''')"
   ]
  },
  {
   "cell_type": "markdown",
   "id": "63e298d8",
   "metadata": {},
   "source": [
    "## Operador de conjunção - and\n",
    "\n",
    "- Faz a verificação de dois valores lógicos e se ambos forem verdadeiros, retorna um valor verdadeiro"
   ]
  },
  {
   "cell_type": "code",
   "execution_count": 58,
   "id": "a305402c",
   "metadata": {},
   "outputs": [
    {
     "name": "stdout",
     "output_type": "stream",
     "text": [
      "False\n",
      "False\n",
      "False\n",
      "True\n"
     ]
    }
   ],
   "source": [
    "print(False and False)\n",
    "print(False and True)\n",
    "print(True and False)\n",
    "print(True and True)"
   ]
  },
  {
   "cell_type": "markdown",
   "id": "9f42138b",
   "metadata": {},
   "source": [
    "## Operador de disjunção - or\n",
    "\n",
    "- Faz a verificação de dois valores lógicos e se apenas um for verdadeiro, resultará em verdadeiro."
   ]
  },
  {
   "cell_type": "code",
   "execution_count": 59,
   "id": "048d9ea7",
   "metadata": {},
   "outputs": [
    {
     "name": "stdout",
     "output_type": "stream",
     "text": [
      "False\n",
      "True\n",
      "True\n",
      "True\n"
     ]
    }
   ],
   "source": [
    "print(False or False)\n",
    "print(False or True)\n",
    "print(True or False)\n",
    "print(True or True)"
   ]
  },
  {
   "cell_type": "markdown",
   "id": "51e6f288",
   "metadata": {},
   "source": [
    "## Operadores de comparação\n",
    "\n",
    "#### igualdade ==\n",
    "\n",
    "- Verifica se os dois valores são iguais"
   ]
  },
  {
   "cell_type": "code",
   "execution_count": 60,
   "id": "cf0bf745",
   "metadata": {},
   "outputs": [
    {
     "name": "stdout",
     "output_type": "stream",
     "text": [
      "True\n",
      "False\n"
     ]
    }
   ],
   "source": [
    "primeiro_nome = 'Angelo'\n",
    "segundo_nome = 'Angelo'\n",
    "terceiro_nome = 'Bardy'\n",
    "\n",
    "print(primeiro_nome == segundo_nome)\n",
    "print(primeiro_nome == terceiro_nome)"
   ]
  },
  {
   "cell_type": "code",
   "execution_count": 61,
   "id": "a30882c5",
   "metadata": {},
   "outputs": [
    {
     "name": "stdout",
     "output_type": "stream",
     "text": [
      "True\n",
      "False\n"
     ]
    }
   ],
   "source": [
    "print(10 == 10)\n",
    "print(-5 == 1000)"
   ]
  },
  {
   "cell_type": "markdown",
   "id": "1a6e8075",
   "metadata": {},
   "source": [
    "#### diferença !=\n",
    "\n",
    "- Verifica se os dois valores são diferentes"
   ]
  },
  {
   "cell_type": "code",
   "execution_count": 62,
   "id": "deccf9c1",
   "metadata": {},
   "outputs": [
    {
     "name": "stdout",
     "output_type": "stream",
     "text": [
      "False\n",
      "True\n"
     ]
    }
   ],
   "source": [
    "print(primeiro_nome != segundo_nome)\n",
    "print(primeiro_nome != terceiro_nome)"
   ]
  },
  {
   "cell_type": "code",
   "execution_count": 63,
   "id": "a5039b37",
   "metadata": {},
   "outputs": [
    {
     "name": "stdout",
     "output_type": "stream",
     "text": [
      "False\n",
      "True\n"
     ]
    }
   ],
   "source": [
    "print(10 != 10)\n",
    "print(-5 != 1000)"
   ]
  },
  {
   "cell_type": "markdown",
   "id": "2f518c54",
   "metadata": {},
   "source": [
    "#### maior que >\n",
    "\n",
    "- Vaerifica se o valor da esquerda é maior que o da direita"
   ]
  },
  {
   "cell_type": "code",
   "execution_count": 64,
   "id": "62dca645",
   "metadata": {},
   "outputs": [
    {
     "name": "stdout",
     "output_type": "stream",
     "text": [
      "False\n",
      "True\n",
      "False\n"
     ]
    }
   ],
   "source": [
    "print(primeiro_nome > segundo_nome)\n",
    "print(primeiro_nome > 'An')\n",
    "print(primeiro_nome > 'ng')"
   ]
  },
  {
   "cell_type": "code",
   "execution_count": 65,
   "id": "ac6f9281",
   "metadata": {},
   "outputs": [
    {
     "name": "stdout",
     "output_type": "stream",
     "text": [
      "False\n",
      "False\n",
      "True\n"
     ]
    }
   ],
   "source": [
    "print(10 > 10)\n",
    "print(-5 > 1000)\n",
    "print(1500 > 1000)"
   ]
  },
  {
   "cell_type": "markdown",
   "id": "b62256ed",
   "metadata": {},
   "source": [
    "#### menor que <\n",
    "\n",
    "- Verifica se o valor da esquerda é menor que o da direita"
   ]
  },
  {
   "cell_type": "code",
   "execution_count": 66,
   "id": "9c5a2ea6",
   "metadata": {},
   "outputs": [
    {
     "name": "stdout",
     "output_type": "stream",
     "text": [
      "False\n",
      "True\n",
      "False\n"
     ]
    }
   ],
   "source": [
    "print(primeiro_nome < segundo_nome)\n",
    "print('An' < primeiro_nome)\n",
    "print('ng' < primeiro_nome)"
   ]
  },
  {
   "cell_type": "code",
   "execution_count": 67,
   "id": "f7aec164",
   "metadata": {},
   "outputs": [
    {
     "name": "stdout",
     "output_type": "stream",
     "text": [
      "False\n",
      "True\n",
      "False\n"
     ]
    }
   ],
   "source": [
    "print(10 < 10)\n",
    "print(-5 < 1000)\n",
    "print(1500 < 1000)"
   ]
  },
  {
   "cell_type": "markdown",
   "id": "0d56ac0c",
   "metadata": {},
   "source": [
    "#### maior ou igual >=\n",
    "\n",
    "- Vaerifica se o valor da esquerda é maior ou igual ao da direita"
   ]
  },
  {
   "cell_type": "code",
   "execution_count": 68,
   "id": "b890fdc7",
   "metadata": {},
   "outputs": [
    {
     "name": "stdout",
     "output_type": "stream",
     "text": [
      "True\n",
      "True\n",
      "False\n"
     ]
    }
   ],
   "source": [
    "print(primeiro_nome >= segundo_nome)\n",
    "print(primeiro_nome >= 'An')\n",
    "print(primeiro_nome >= 'ng')"
   ]
  },
  {
   "cell_type": "code",
   "execution_count": 69,
   "id": "84e1e9c8",
   "metadata": {},
   "outputs": [
    {
     "name": "stdout",
     "output_type": "stream",
     "text": [
      "True\n",
      "False\n",
      "True\n"
     ]
    }
   ],
   "source": [
    "print(10 >= 10)\n",
    "print(-5 >= 1000)\n",
    "print(1500 >= 1000)"
   ]
  },
  {
   "cell_type": "markdown",
   "id": "8513373d",
   "metadata": {},
   "source": [
    "#### menor ou igual <=\n",
    "\n",
    "- Verifica se o valor da esquerda é menor ou igual ao da direita"
   ]
  },
  {
   "cell_type": "code",
   "execution_count": 70,
   "id": "0c2fe164",
   "metadata": {},
   "outputs": [
    {
     "name": "stdout",
     "output_type": "stream",
     "text": [
      "True\n",
      "True\n",
      "False\n"
     ]
    }
   ],
   "source": [
    "print(primeiro_nome <= segundo_nome)\n",
    "print('An' <= primeiro_nome)\n",
    "print('ng' <= primeiro_nome)"
   ]
  },
  {
   "cell_type": "code",
   "execution_count": 71,
   "id": "45b68f14",
   "metadata": {},
   "outputs": [
    {
     "name": "stdout",
     "output_type": "stream",
     "text": [
      "True\n",
      "True\n",
      "False\n"
     ]
    }
   ],
   "source": [
    "print(10 <= 10)\n",
    "print(-5 <= 1000)\n",
    "print(1500 <= 1000)"
   ]
  },
  {
   "cell_type": "markdown",
   "id": "d34ed87f",
   "metadata": {},
   "source": [
    "## Operador de associação\n",
    "\n",
    "#### in - Verifica se uma string está dentro de outra, ou se um elemento está dentro de uma sequência"
   ]
  },
  {
   "cell_type": "code",
   "execution_count": 72,
   "id": "85a89dd9",
   "metadata": {},
   "outputs": [
    {
     "name": "stdout",
     "output_type": "stream",
     "text": [
      "True\n",
      "False\n"
     ]
    }
   ],
   "source": [
    "numeros = [1, 5, 7, 2, 100, -5, 15, 13, -38, 0]\n",
    "\n",
    "print(15 in numeros)\n",
    "print(200 in numeros)"
   ]
  },
  {
   "cell_type": "code",
   "execution_count": 73,
   "id": "9bf688e4",
   "metadata": {},
   "outputs": [
    {
     "name": "stdout",
     "output_type": "stream",
     "text": [
      "False\n",
      "True\n"
     ]
    }
   ],
   "source": [
    "print(-5 not in numeros)\n",
    "print(-3 not in numeros)"
   ]
  },
  {
   "cell_type": "code",
   "execution_count": 74,
   "id": "0d059f94",
   "metadata": {},
   "outputs": [
    {
     "name": "stdout",
     "output_type": "stream",
     "text": [
      "True\n",
      "False\n"
     ]
    }
   ],
   "source": [
    "print('gelo' in primeiro_nome)\n",
    "print('i' in primeiro_nome)"
   ]
  },
  {
   "cell_type": "code",
   "execution_count": 75,
   "id": "e934f55b",
   "metadata": {},
   "outputs": [
    {
     "name": "stdout",
     "output_type": "stream",
     "text": [
      "False\n",
      "True\n"
     ]
    }
   ],
   "source": [
    "print('gelo' not in primeiro_nome)\n",
    "print('i' not in primeiro_nome)"
   ]
  },
  {
   "cell_type": "markdown",
   "id": "6677bdfc",
   "metadata": {},
   "source": [
    "## Operador de identidade\n",
    "\n",
    "#### is - Verifica se dois objetos estão na mesma região de memória"
   ]
  },
  {
   "cell_type": "code",
   "execution_count": 76,
   "id": "86ff9303",
   "metadata": {},
   "outputs": [
    {
     "name": "stdout",
     "output_type": "stream",
     "text": [
      "True\n",
      "False\n"
     ]
    }
   ],
   "source": [
    "print(primeiro_nome is segundo_nome)\n",
    "print(primeiro_nome is terceiro_nome)"
   ]
  },
  {
   "cell_type": "code",
   "execution_count": 77,
   "id": "bd006b63",
   "metadata": {},
   "outputs": [
    {
     "name": "stdout",
     "output_type": "stream",
     "text": [
      "False\n",
      "True\n"
     ]
    }
   ],
   "source": [
    "print(primeiro_nome is not segundo_nome)\n",
    "print(primeiro_nome is not terceiro_nome)"
   ]
  },
  {
   "cell_type": "markdown",
   "id": "e37e3a16",
   "metadata": {},
   "source": [
    "## Verificando Strings\n",
    "\n",
    "#### .isspace() - Verifica se a string contem apenas espaços"
   ]
  },
  {
   "cell_type": "code",
   "execution_count": 78,
   "id": "052d8a1a",
   "metadata": {},
   "outputs": [
    {
     "name": "stdout",
     "output_type": "stream",
     "text": [
      "True\n",
      "False\n"
     ]
    }
   ],
   "source": [
    "print('        '.isspace())\n",
    "print('      e      '.isspace())"
   ]
  },
  {
   "cell_type": "markdown",
   "id": "fde46639",
   "metadata": {},
   "source": [
    "#### .isupper() - Verifica se as letras são todas maiúsculas"
   ]
  },
  {
   "cell_type": "code",
   "execution_count": 79,
   "id": "0054a3bc",
   "metadata": {},
   "outputs": [
    {
     "name": "stdout",
     "output_type": "stream",
     "text": [
      "True\n",
      "False\n",
      "True\n"
     ]
    }
   ],
   "source": [
    "print('TESTE'.isupper())\n",
    "print('Teste'.isupper())\n",
    "print('TESTE 1'.isupper())"
   ]
  },
  {
   "cell_type": "markdown",
   "id": "7e18ae90",
   "metadata": {},
   "source": [
    "#### .islower() - Verifica se todas as letras são minúsculas"
   ]
  },
  {
   "cell_type": "code",
   "execution_count": 80,
   "id": "0d3174ee",
   "metadata": {},
   "outputs": [
    {
     "name": "stdout",
     "output_type": "stream",
     "text": [
      "True\n",
      "False\n",
      "True\n"
     ]
    }
   ],
   "source": [
    "print('teste'.islower())\n",
    "print('Teste'.islower())\n",
    "print('teste1'.islower())"
   ]
  },
  {
   "cell_type": "markdown",
   "id": "64beb991",
   "metadata": {},
   "source": [
    "#### .istitle() - Verifica se apenas a primeira letra de cada palavra é maiúscula"
   ]
  },
  {
   "cell_type": "code",
   "execution_count": 81,
   "id": "a1eabe5b",
   "metadata": {},
   "outputs": [
    {
     "name": "stdout",
     "output_type": "stream",
     "text": [
      "False\n",
      "False\n",
      "True\n",
      "True\n",
      "True\n",
      "False\n"
     ]
    }
   ],
   "source": [
    "print('teste'.istitle())\n",
    "print('TESTE'.istitle())\n",
    "print('Teste'.istitle())\n",
    "print('Teste1'.istitle())\n",
    "print('1 Teste'.istitle())\n",
    "print('1 TeSte'.istitle())"
   ]
  },
  {
   "cell_type": "markdown",
   "id": "8f359e70",
   "metadata": {},
   "source": [
    "#### .isnumeric() - Verifica se na string possui apenas números"
   ]
  },
  {
   "cell_type": "code",
   "execution_count": 82,
   "id": "5da22417",
   "metadata": {},
   "outputs": [
    {
     "name": "stdout",
     "output_type": "stream",
     "text": [
      "True\n",
      "False\n",
      "False\n",
      "False\n"
     ]
    }
   ],
   "source": [
    "print('123456789'.isnumeric())\n",
    "print('A123'.isnumeric())\n",
    "print(' 12345'.isnumeric())\n",
    "print('1234.35'.isnumeric())"
   ]
  },
  {
   "cell_type": "markdown",
   "id": "b17ab124",
   "metadata": {},
   "source": [
    "#### .isalpha() - Verifica se na string possui apenas letras"
   ]
  },
  {
   "cell_type": "code",
   "execution_count": 83,
   "id": "28721f97",
   "metadata": {},
   "outputs": [
    {
     "name": "stdout",
     "output_type": "stream",
     "text": [
      "True\n",
      "False\n",
      "False\n",
      "False\n"
     ]
    }
   ],
   "source": [
    "print('alkjasldkjalASAADASDA'.isalpha())\n",
    "print('lkjhjkhkj112'.isalpha())\n",
    "print('lkjhjkhkj '.isalpha())\n",
    "print('.lkjhjkhkj'.isalpha())"
   ]
  },
  {
   "cell_type": "markdown",
   "id": "dd778476",
   "metadata": {},
   "source": [
    "#### .isalnum() - Verifica se há apenas caracteres alfa numéricos"
   ]
  },
  {
   "cell_type": "code",
   "execution_count": 84,
   "id": "1ed819ea",
   "metadata": {},
   "outputs": [
    {
     "name": "stdout",
     "output_type": "stream",
     "text": [
      "True\n",
      "True\n",
      "True\n",
      "False\n"
     ]
    }
   ],
   "source": [
    "print('Aklka'.isalnum())\n",
    "print('12345'.isalnum())\n",
    "print('asda123131ada'.isalnum())\n",
    "print('  llkjlj1321'.isalnum())"
   ]
  }
 ],
 "metadata": {
  "kernelspec": {
   "display_name": "Python 3 (ipykernel)",
   "language": "python",
   "name": "python3"
  },
  "language_info": {
   "codemirror_mode": {
    "name": "ipython",
    "version": 3
   },
   "file_extension": ".py",
   "mimetype": "text/x-python",
   "name": "python",
   "nbconvert_exporter": "python",
   "pygments_lexer": "ipython3",
   "version": "3.9.12"
  }
 },
 "nbformat": 4,
 "nbformat_minor": 5
}
