{
 "cells": [
  {
   "cell_type": "markdown",
   "id": "f336686f",
   "metadata": {},
   "source": [
    "# 05 Números e Operadores Aritméticos"
   ]
  },
  {
   "cell_type": "markdown",
   "id": "23f004aa",
   "metadata": {},
   "source": [
    "## Formatação de números\n",
    "\n",
    "#### Controlando a quantidade das casas decimais dos números decimais\n",
    "\n",
    "- O número utilizado indica o número de casas decimais após o ponto flutuante"
   ]
  },
  {
   "cell_type": "code",
   "execution_count": 39,
   "id": "b0648911",
   "metadata": {},
   "outputs": [
    {
     "name": "stdout",
     "output_type": "stream",
     "text": [
      "4.85\n",
      "4.8500\n"
     ]
    }
   ],
   "source": [
    "flutuante = 4.84999567\n",
    "\n",
    "print(f'{flutuante:.2f}')\n",
    "print('{:.4f}'.format(flutuante))"
   ]
  },
  {
   "cell_type": "markdown",
   "id": "7e9af536",
   "metadata": {},
   "source": [
    "#### Notação científica\n",
    "\n",
    "- O número indica a quantidade de números após o ponto flutuante"
   ]
  },
  {
   "cell_type": "code",
   "execution_count": 40,
   "id": "af88f84c",
   "metadata": {},
   "outputs": [
    {
     "name": "stdout",
     "output_type": "stream",
     "text": [
      "1.50e+44\n",
      "1.5000e+44\n",
      "9.88e-01\n",
      "9.8790e-01\n"
     ]
    }
   ],
   "source": [
    "numero = 150000000000000000000000000000000000000000000\n",
    "\n",
    "print(f'{numero:.2e}')\n",
    "print('{:.4e}'.format(numero))\n",
    "\n",
    "numero = 0.9878979878798798797987798798798779789779\n",
    "\n",
    "print(f'{numero:.2e}')\n",
    "print('{:.4e}'.format(numero))"
   ]
  },
  {
   "cell_type": "markdown",
   "id": "ea071993",
   "metadata": {},
   "source": [
    "## Operações aritméticas simples\n",
    "\n",
    "#### soma +"
   ]
  },
  {
   "cell_type": "code",
   "execution_count": 41,
   "id": "fcc38d17",
   "metadata": {},
   "outputs": [
    {
     "data": {
      "text/plain": [
       "10"
      ]
     },
     "execution_count": 41,
     "metadata": {},
     "output_type": "execute_result"
    }
   ],
   "source": [
    "5 + 5"
   ]
  },
  {
   "cell_type": "markdown",
   "id": "884a0bbe",
   "metadata": {},
   "source": [
    "#### subtração - "
   ]
  },
  {
   "cell_type": "code",
   "execution_count": 42,
   "id": "76421e53",
   "metadata": {},
   "outputs": [
    {
     "data": {
      "text/plain": [
       "2"
      ]
     },
     "execution_count": 42,
     "metadata": {},
     "output_type": "execute_result"
    }
   ],
   "source": [
    "3 - 1"
   ]
  },
  {
   "cell_type": "markdown",
   "id": "9b901943",
   "metadata": {},
   "source": [
    "#### multiplicação *"
   ]
  },
  {
   "cell_type": "code",
   "execution_count": 43,
   "id": "e9fe2256",
   "metadata": {},
   "outputs": [
    {
     "data": {
      "text/plain": [
       "8"
      ]
     },
     "execution_count": 43,
     "metadata": {},
     "output_type": "execute_result"
    }
   ],
   "source": [
    "4 * 2"
   ]
  },
  {
   "cell_type": "markdown",
   "id": "035f10bb",
   "metadata": {},
   "source": [
    "#### divisão /"
   ]
  },
  {
   "cell_type": "code",
   "execution_count": 44,
   "id": "d89824a1",
   "metadata": {},
   "outputs": [
    {
     "data": {
      "text/plain": [
       "2.0"
      ]
     },
     "execution_count": 44,
     "metadata": {},
     "output_type": "execute_result"
    }
   ],
   "source": [
    "6 / 3"
   ]
  },
  {
   "cell_type": "markdown",
   "id": "d51d5b18",
   "metadata": {},
   "source": [
    "#### exponenciação **"
   ]
  },
  {
   "cell_type": "code",
   "execution_count": 45,
   "id": "67d5597f",
   "metadata": {},
   "outputs": [
    {
     "data": {
      "text/plain": [
       "8"
      ]
     },
     "execution_count": 45,
     "metadata": {},
     "output_type": "execute_result"
    }
   ],
   "source": [
    "2 ** 3"
   ]
  },
  {
   "cell_type": "markdown",
   "id": "43c83011",
   "metadata": {},
   "source": [
    "#### resto da divisão %"
   ]
  },
  {
   "cell_type": "code",
   "execution_count": 46,
   "id": "0e6a5823",
   "metadata": {},
   "outputs": [
    {
     "data": {
      "text/plain": [
       "1"
      ]
     },
     "execution_count": 46,
     "metadata": {},
     "output_type": "execute_result"
    }
   ],
   "source": [
    "5 % 2"
   ]
  },
  {
   "cell_type": "markdown",
   "id": "73f35a6c",
   "metadata": {},
   "source": [
    "#### inteiro da divisão //"
   ]
  },
  {
   "cell_type": "code",
   "execution_count": 47,
   "id": "dd018380",
   "metadata": {},
   "outputs": [
    {
     "data": {
      "text/plain": [
       "3"
      ]
     },
     "execution_count": 47,
     "metadata": {},
     "output_type": "execute_result"
    }
   ],
   "source": [
    "10 // 3"
   ]
  },
  {
   "cell_type": "markdown",
   "id": "2508a068",
   "metadata": {},
   "source": [
    "## Operações de atribuição\n",
    "\n",
    "#### Atribuição simples =\n",
    "\n",
    "- Guarda um valor na variável"
   ]
  },
  {
   "cell_type": "code",
   "execution_count": 48,
   "id": "ee881ba0",
   "metadata": {},
   "outputs": [],
   "source": [
    "n = 10"
   ]
  },
  {
   "cell_type": "markdown",
   "id": "78d9b01e",
   "metadata": {},
   "source": [
    "#### Atribuição de soma   +=\n",
    "\n",
    "- Soma o valor anterior da variável com o valor da atribuição"
   ]
  },
  {
   "cell_type": "code",
   "execution_count": 49,
   "id": "40327706",
   "metadata": {},
   "outputs": [],
   "source": [
    "n += 1"
   ]
  },
  {
   "cell_type": "markdown",
   "id": "c0a35d1b",
   "metadata": {},
   "source": [
    "#### Atribuição de subtração   -=\n",
    "\n",
    "- Subtrai o valor anterior da variável com o valor da atribuição"
   ]
  },
  {
   "cell_type": "code",
   "execution_count": 50,
   "id": "f5a6d312",
   "metadata": {},
   "outputs": [],
   "source": [
    "n -= 2"
   ]
  },
  {
   "cell_type": "markdown",
   "id": "f3d40dcc",
   "metadata": {},
   "source": [
    "#### Atribuição de multiplicação   *=\n",
    "\n",
    "- Multiplica o valor anterior da variável com o valor da atribuição"
   ]
  },
  {
   "cell_type": "code",
   "execution_count": 51,
   "id": "8b3b00a9",
   "metadata": {},
   "outputs": [],
   "source": [
    "n *= 3"
   ]
  },
  {
   "cell_type": "markdown",
   "id": "8e7b0956",
   "metadata": {},
   "source": [
    "#### Atribuição de divisão inteira //=\n",
    "\n",
    "- Divisão inteira do valor anterior da variável com o valor da atribuição"
   ]
  },
  {
   "cell_type": "code",
   "execution_count": 52,
   "id": "855f57ec",
   "metadata": {},
   "outputs": [],
   "source": [
    "n //= 4"
   ]
  },
  {
   "cell_type": "markdown",
   "id": "71ad575b",
   "metadata": {},
   "source": [
    "#### Atribuição de exponenciação **=\n",
    "\n",
    "- Fas a exponenciação do valor anterior da variável com o valor da atribuição"
   ]
  },
  {
   "cell_type": "code",
   "execution_count": 53,
   "id": "65b0dd49",
   "metadata": {},
   "outputs": [],
   "source": [
    "n **= 2"
   ]
  },
  {
   "cell_type": "markdown",
   "id": "3eaa59e6",
   "metadata": {},
   "source": [
    "#### Atribuição de divisão /=\n",
    "\n",
    "- Divide o valor anterior da variável com o valor da atribuição"
   ]
  },
  {
   "cell_type": "code",
   "execution_count": 54,
   "id": "40ceb42a",
   "metadata": {},
   "outputs": [],
   "source": [
    "n /= 4"
   ]
  },
  {
   "cell_type": "markdown",
   "id": "cbca0997",
   "metadata": {},
   "source": [
    "#### Atribuição de resto da divisão %=\n",
    "\n",
    "- Resto da divisão do valor anterior da variável com o valor da atribuição"
   ]
  },
  {
   "cell_type": "code",
   "execution_count": 55,
   "id": "bef6af5b",
   "metadata": {},
   "outputs": [],
   "source": [
    "n %= 2"
   ]
  },
  {
   "cell_type": "markdown",
   "id": "da973525",
   "metadata": {},
   "source": [
    "## Funções básicas\n",
    "\n",
    "#### abs() - Retorna o valor absoluto de um número, valor positivo"
   ]
  },
  {
   "cell_type": "code",
   "execution_count": 56,
   "id": "d311b938",
   "metadata": {},
   "outputs": [
    {
     "name": "stdout",
     "output_type": "stream",
     "text": [
      "4.75\n"
     ]
    }
   ],
   "source": [
    "print(abs(-4.75))"
   ]
  },
  {
   "cell_type": "markdown",
   "id": "8f7d8fff",
   "metadata": {},
   "source": [
    "#### round() - Arredonda o valor de um número"
   ]
  },
  {
   "cell_type": "code",
   "execution_count": 57,
   "id": "69ee0859",
   "metadata": {},
   "outputs": [
    {
     "name": "stdout",
     "output_type": "stream",
     "text": [
      "5\n"
     ]
    }
   ],
   "source": [
    "print(round(4.75))"
   ]
  },
  {
   "cell_type": "markdown",
   "id": "322564d6",
   "metadata": {},
   "source": [
    "#### pow() - Faz a exponenciação de dois números, o primeiro é a base e o segundo é o expoente"
   ]
  },
  {
   "cell_type": "code",
   "execution_count": 58,
   "id": "a460ad4c",
   "metadata": {},
   "outputs": [
    {
     "name": "stdout",
     "output_type": "stream",
     "text": [
      "16\n"
     ]
    }
   ],
   "source": [
    "print(pow(4,2))"
   ]
  },
  {
   "cell_type": "code",
   "execution_count": 59,
   "id": "818d1985",
   "metadata": {},
   "outputs": [],
   "source": [
    "numeros = [1, 5, 7, 2, 100, -5, 15, 13, -38, 0]"
   ]
  },
  {
   "cell_type": "markdown",
   "id": "18f4e553",
   "metadata": {},
   "source": [
    "#### sum() - Soma uma lista de números"
   ]
  },
  {
   "cell_type": "code",
   "execution_count": 60,
   "id": "5efc319a",
   "metadata": {},
   "outputs": [
    {
     "name": "stdout",
     "output_type": "stream",
     "text": [
      "100\n"
     ]
    }
   ],
   "source": [
    "print(sum(numeros))"
   ]
  },
  {
   "cell_type": "markdown",
   "id": "1c260498",
   "metadata": {},
   "source": [
    "#### min() - Retorna o menor valor de uma lista de números"
   ]
  },
  {
   "cell_type": "code",
   "execution_count": 61,
   "id": "18fdc635",
   "metadata": {},
   "outputs": [
    {
     "name": "stdout",
     "output_type": "stream",
     "text": [
      "-38\n"
     ]
    }
   ],
   "source": [
    "print(min(numeros))"
   ]
  },
  {
   "cell_type": "markdown",
   "id": "8a773298",
   "metadata": {},
   "source": [
    "#### max() - Retorna o maior valor de uma lista de números"
   ]
  },
  {
   "cell_type": "code",
   "execution_count": 62,
   "id": "1970290e",
   "metadata": {},
   "outputs": [
    {
     "name": "stdout",
     "output_type": "stream",
     "text": [
      "100\n"
     ]
    }
   ],
   "source": [
    "print(max(numeros))"
   ]
  },
  {
   "cell_type": "markdown",
   "id": "1050be50",
   "metadata": {},
   "source": [
    "## Biblioteca math\n",
    "\n",
    "- Biblioteca voltada para matemática"
   ]
  },
  {
   "cell_type": "code",
   "execution_count": 63,
   "id": "4e3d205d",
   "metadata": {},
   "outputs": [],
   "source": [
    "import math"
   ]
  },
  {
   "cell_type": "markdown",
   "id": "b1f9b19e",
   "metadata": {},
   "source": [
    "#### sqrt() - Calcula a raiz quadrada"
   ]
  },
  {
   "cell_type": "code",
   "execution_count": 64,
   "id": "1d4503d0",
   "metadata": {},
   "outputs": [
    {
     "name": "stdout",
     "output_type": "stream",
     "text": [
      "3.0\n"
     ]
    }
   ],
   "source": [
    "print(math.sqrt(9))"
   ]
  },
  {
   "cell_type": "markdown",
   "id": "3719eb35",
   "metadata": {},
   "source": [
    "#### ceil() - Arredonda um valor para cima"
   ]
  },
  {
   "cell_type": "code",
   "execution_count": 65,
   "id": "13f239c7",
   "metadata": {},
   "outputs": [
    {
     "name": "stdout",
     "output_type": "stream",
     "text": [
      "5\n"
     ]
    }
   ],
   "source": [
    "print(math.ceil(4.32))"
   ]
  },
  {
   "cell_type": "markdown",
   "id": "54e867ac",
   "metadata": {},
   "source": [
    "#### floor() - Arredonda um valor para baixo"
   ]
  },
  {
   "cell_type": "code",
   "execution_count": 66,
   "id": "b76a8352",
   "metadata": {},
   "outputs": [
    {
     "name": "stdout",
     "output_type": "stream",
     "text": [
      "4\n"
     ]
    }
   ],
   "source": [
    "print(math.floor(4.78))"
   ]
  },
  {
   "cell_type": "markdown",
   "id": "23cc8a59",
   "metadata": {},
   "source": [
    "#### trunc() - Retorna a parte inteira de um número"
   ]
  },
  {
   "cell_type": "code",
   "execution_count": 67,
   "id": "728a820f",
   "metadata": {},
   "outputs": [
    {
     "name": "stdout",
     "output_type": "stream",
     "text": [
      "4\n"
     ]
    }
   ],
   "source": [
    "print(math.trunc(4.498796231498746541))"
   ]
  },
  {
   "cell_type": "markdown",
   "id": "cf5edef6",
   "metadata": {},
   "source": [
    "#### hypot() - Retorna a hipotenusa dos dois catetos colocados"
   ]
  },
  {
   "cell_type": "code",
   "execution_count": 68,
   "id": "29dba2ee",
   "metadata": {},
   "outputs": [
    {
     "name": "stdout",
     "output_type": "stream",
     "text": [
      "5.0\n"
     ]
    }
   ],
   "source": [
    "print(math.hypot(3,4))"
   ]
  },
  {
   "cell_type": "markdown",
   "id": "f330b93a",
   "metadata": {},
   "source": [
    "#### radians() - Transforma o ângulo de graus para radiano"
   ]
  },
  {
   "cell_type": "code",
   "execution_count": 69,
   "id": "b3031c13",
   "metadata": {},
   "outputs": [
    {
     "name": "stdout",
     "output_type": "stream",
     "text": [
      "0.5235987755982988\n"
     ]
    }
   ],
   "source": [
    "graus = math.radians(30)\n",
    "print(graus)"
   ]
  },
  {
   "cell_type": "markdown",
   "id": "47e4bb9d",
   "metadata": {},
   "source": [
    "#### sin() - Retorna o seno de um ângulo em radiano"
   ]
  },
  {
   "cell_type": "code",
   "execution_count": 70,
   "id": "3a947297",
   "metadata": {},
   "outputs": [
    {
     "name": "stdout",
     "output_type": "stream",
     "text": [
      "0.49999999999999994\n"
     ]
    }
   ],
   "source": [
    "print(math.sin(graus))"
   ]
  },
  {
   "cell_type": "markdown",
   "id": "c2c232e5",
   "metadata": {},
   "source": [
    "#### cos() - Retorna o cosseno de um ângulo em radiano"
   ]
  },
  {
   "cell_type": "code",
   "execution_count": 71,
   "id": "6ca9d75d",
   "metadata": {},
   "outputs": [
    {
     "name": "stdout",
     "output_type": "stream",
     "text": [
      "0.8660254037844387\n"
     ]
    }
   ],
   "source": [
    "print(math.cos(graus))"
   ]
  },
  {
   "cell_type": "markdown",
   "id": "ef72971d",
   "metadata": {},
   "source": [
    "#### tan() - Retorna a tangente de um ângulo em radiano"
   ]
  },
  {
   "cell_type": "code",
   "execution_count": 72,
   "id": "ea7357ff",
   "metadata": {},
   "outputs": [
    {
     "name": "stdout",
     "output_type": "stream",
     "text": [
      "0.5773502691896257\n"
     ]
    }
   ],
   "source": [
    "print(math.tan(graus))"
   ]
  }
 ],
 "metadata": {
  "kernelspec": {
   "display_name": "Python 3 (ipykernel)",
   "language": "python",
   "name": "python3"
  },
  "language_info": {
   "codemirror_mode": {
    "name": "ipython",
    "version": 3
   },
   "file_extension": ".py",
   "mimetype": "text/x-python",
   "name": "python",
   "nbconvert_exporter": "python",
   "pygments_lexer": "ipython3",
   "version": "3.9.12"
  }
 },
 "nbformat": 4,
 "nbformat_minor": 5
}
