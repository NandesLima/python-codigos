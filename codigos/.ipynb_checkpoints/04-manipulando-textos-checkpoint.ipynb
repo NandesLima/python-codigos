{
 "cells": [
  {
   "cell_type": "markdown",
   "id": "009c9cc5",
   "metadata": {},
   "source": [
    "# 04 - Manipulando Textos"
   ]
  },
  {
   "cell_type": "markdown",
   "id": "bd6d0070",
   "metadata": {},
   "source": [
    "## Formatos de texto"
   ]
  },
  {
   "cell_type": "markdown",
   "id": "6d2935ab",
   "metadata": {},
   "source": [
    "#### Aspas duplas"
   ]
  },
  {
   "cell_type": "code",
   "execution_count": 226,
   "id": "2b6c9195",
   "metadata": {},
   "outputs": [],
   "source": [
    "n = \"Primeiro texto\""
   ]
  },
  {
   "cell_type": "markdown",
   "id": "f84e8238",
   "metadata": {},
   "source": [
    "#### Aspas simples"
   ]
  },
  {
   "cell_type": "code",
   "execution_count": 227,
   "id": "90ba623e",
   "metadata": {},
   "outputs": [],
   "source": [
    "m = ' - Segundo texto'"
   ]
  },
  {
   "cell_type": "markdown",
   "id": "109427da",
   "metadata": {},
   "source": [
    "#### Uso de três aspas, simples ou dupla\n",
    "\n",
    "Permite colocar o texto em mais de uma linha"
   ]
  },
  {
   "cell_type": "code",
   "execution_count": 228,
   "id": "1a3c0c8e",
   "metadata": {},
   "outputs": [],
   "source": [
    "menu = '''\n",
    "===========================\n",
    "           Menu\n",
    "===========================\n",
    "'''\n",
    "\n",
    "texto = \"\"\"\n",
    "Utilizando três aspas, simples ou duplas,\n",
    "pode-se  criar strings de múltiplas linhas\n",
    "\"\"\""
   ]
  },
  {
   "cell_type": "markdown",
   "id": "2b8fa8db",
   "metadata": {},
   "source": [
    "## Multiplicando Strings\n",
    "\n",
    "Utilizando o símbolo * pode se mutiplicar um caractere ou sequência de caracteres de uma string, pelo número da direita."
   ]
  },
  {
   "cell_type": "code",
   "execution_count": 229,
   "id": "725cd460",
   "metadata": {},
   "outputs": [
    {
     "name": "stdout",
     "output_type": "stream",
     "text": [
      "=~=~=~=~=~=~=~=~=~=~=~=~=~=~=~=~=~=~=~=~=~=~=~=~=~\n"
     ]
    }
   ],
   "source": [
    "print('=~' * 25)"
   ]
  },
  {
   "cell_type": "markdown",
   "id": "c2956efa",
   "metadata": {},
   "source": [
    "## Juntando Strings\n",
    "\n",
    "#### Utiliza-se o sinal de + para juntar duas strings"
   ]
  },
  {
   "cell_type": "code",
   "execution_count": 230,
   "id": "e2d6db2e",
   "metadata": {},
   "outputs": [
    {
     "name": "stdout",
     "output_type": "stream",
     "text": [
      "Angelo Bardy\n",
      "Primeiro texto - Segundo texto\n"
     ]
    }
   ],
   "source": [
    "nome = \"Angelo\" + \" Bardy\"\n",
    "print(nome)\n",
    "\n",
    "print(n + m)"
   ]
  },
  {
   "cell_type": "markdown",
   "id": "ea53b73b",
   "metadata": {},
   "source": [
    "#### Para juntar uma string e um tipo diferente de string, precisa primeiro transformar o dado"
   ]
  },
  {
   "cell_type": "code",
   "execution_count": 231,
   "id": "7864a9bc",
   "metadata": {},
   "outputs": [
    {
     "name": "stdout",
     "output_type": "stream",
     "text": [
      "Angelo Bardy\n",
      "idade: 67\n",
      "jovem: False\n"
     ]
    }
   ],
   "source": [
    "idade = 67\n",
    "jovem = False\n",
    "dados = nome + \"\\nidade: \" + str(idade) + \"\\njovem: \" + str(jovem)\n",
    "print(dados)"
   ]
  },
  {
   "cell_type": "markdown",
   "id": "5884023f",
   "metadata": {},
   "source": [
    "#### A vírgula consegue juntar variáveis, e coloca um espaço entre elas"
   ]
  },
  {
   "cell_type": "code",
   "execution_count": 232,
   "id": "f8c702e2",
   "metadata": {},
   "outputs": [
    {
     "name": "stdout",
     "output_type": "stream",
     "text": [
      "Angelo Bardy 67 False\n"
     ]
    }
   ],
   "source": [
    "print(nome, idade, jovem)"
   ]
  },
  {
   "cell_type": "markdown",
   "id": "80650b6b",
   "metadata": {},
   "source": [
    "## .format()\n",
    "\n",
    "#### Permite fazer ajunção de objetos dentro da própria string\n",
    "\n",
    "Máscara - são as chaves utilizadas dentro da string, essa máscara será substituida pelo objeto dentro do método format."
   ]
  },
  {
   "cell_type": "code",
   "execution_count": 233,
   "id": "498cc02d",
   "metadata": {},
   "outputs": [
    {
     "name": "stdout",
     "output_type": "stream",
     "text": [
      "Nome: Angelo Bardy\n"
     ]
    }
   ],
   "source": [
    "mostrar_nome = \"Nome: {}\".format(nome)\n",
    "print(mostrar_nome)"
   ]
  },
  {
   "cell_type": "markdown",
   "id": "6f55564a",
   "metadata": {},
   "source": [
    "Pode-se utilizar mais de uma máscara, e mais de um objeto, mas colocando na mesma ordem que está no format."
   ]
  },
  {
   "cell_type": "code",
   "execution_count": 234,
   "id": "15a6e144",
   "metadata": {},
   "outputs": [
    {
     "name": "stdout",
     "output_type": "stream",
     "text": [
      "\n",
      "Nome: Angelo Bardy\n",
      "Idade: 67\n",
      "Jovem: False\n",
      "\n"
     ]
    }
   ],
   "source": [
    "mostrar_dados = '''\n",
    "Nome: {}\n",
    "Idade: {}\n",
    "Jovem: {}\n",
    "'''.format(nome, idade, jovem)\n",
    "print (mostrar_dados)"
   ]
  },
  {
   "cell_type": "markdown",
   "id": "2d12b669",
   "metadata": {},
   "source": [
    "Também é possível colocar em outras ordens o valor do format, ou repetir um valor mais de uma vez.\n",
    "\n",
    "Basta associar as variáveis com um parâmetro, que você nomeia, e os parâmetros criados são retornados dentro das máscaras."
   ]
  },
  {
   "cell_type": "code",
   "execution_count": 235,
   "id": "fe7e0f16",
   "metadata": {},
   "outputs": [
    {
     "name": "stdout",
     "output_type": "stream",
     "text": [
      "\n",
      "Nome: Angelo Bardy\n",
      "Idade: 67\n",
      "Jovem: False\n",
      "Idade 67 e nome Angelo Bardy\n",
      "\n"
     ]
    }
   ],
   "source": [
    "mostrar_dados = '''\n",
    "Nome: {s}\n",
    "Idade: {n}\n",
    "Jovem: {v}\n",
    "Idade {n} e nome {s}\n",
    "'''.format(n=idade, v=jovem, s=nome)\n",
    "print (mostrar_dados)"
   ]
  },
  {
   "cell_type": "markdown",
   "id": "33da4ac2",
   "metadata": {},
   "source": [
    "#### Utilização de dicionário dentro do .format()\n",
    "\n",
    "Um dicionário pode ser chamado dentro do método format, utilizando **.\n",
    "\n",
    "Dentro das máscaras chama os valores do dicionário pelas chaves do dicionário."
   ]
  },
  {
   "cell_type": "code",
   "execution_count": 236,
   "id": "663dd459",
   "metadata": {},
   "outputs": [
    {
     "name": "stdout",
     "output_type": "stream",
     "text": [
      "\n",
      "Nome: Angelo Bardy\n",
      "Idade: 67\n",
      "Velho: True\n",
      "Jovem: False\n",
      "\n"
     ]
    }
   ],
   "source": [
    "dicionario = {'nome':nome, \n",
    "              'idade':idade, \n",
    "              'jovem':jovem, \n",
    "              'velho': not jovem}\n",
    "mostrar_dados = \"\"\"\n",
    "Nome: {nome}\n",
    "Idade: {idade}\n",
    "Velho: {velho}\n",
    "Jovem: {jovem}\n",
    "\"\"\".format(**dicionario)\n",
    "print(mostrar_dados)"
   ]
  },
  {
   "cell_type": "markdown",
   "id": "aa98e357",
   "metadata": {},
   "source": [
    "## f string\n",
    "\n",
    "#### Permite a junção de objetos na string de forma mais facilitada e ágil\n",
    "\n",
    "Antes das aspas da string coloca-se o f e dentro das máscaras colocam-se os objetos."
   ]
  },
  {
   "cell_type": "code",
   "execution_count": 237,
   "id": "9f7b7df7",
   "metadata": {},
   "outputs": [
    {
     "name": "stdout",
     "output_type": "stream",
     "text": [
      "\n",
      "Nome : Angelo Bardy\n",
      "Idade: 67\n",
      "Jovem: False\n",
      "Velho: True\n",
      "\n"
     ]
    }
   ],
   "source": [
    "mostrar_dados = f'''\n",
    "Nome : {nome}\n",
    "Idade: {idade}\n",
    "Jovem: {jovem}\n",
    "Velho: {not jovem}\n",
    "'''\n",
    "\n",
    "print(mostrar_dados)"
   ]
  },
  {
   "cell_type": "markdown",
   "id": "a4494a5d",
   "metadata": {},
   "source": [
    "## .join()\n",
    "\n",
    "Junta os valores de um texto ou de uma lista em um novo texto"
   ]
  },
  {
   "cell_type": "markdown",
   "id": "9d3ebb96",
   "metadata": {},
   "source": [
    "#### Utilizando um texto\n",
    "\n",
    "- Lado esquerdo do .join() fica o caractere ou a sequência de caracteres entre aspas, que vão fazr a alteração no texto\n",
    "- Lado direito do .join(), dentro dos parênteses fica a string que será modificada"
   ]
  },
  {
   "cell_type": "code",
   "execution_count": 238,
   "id": "6e7ac4bd",
   "metadata": {},
   "outputs": [
    {
     "name": "stdout",
     "output_type": "stream",
     "text": [
      "A.n.g.e.l.o. .B.a.r.d.y\n"
     ]
    }
   ],
   "source": [
    "nome = '.'.join(nome)\n",
    "print(nome)"
   ]
  },
  {
   "cell_type": "markdown",
   "id": "ec35caa2",
   "metadata": {},
   "source": [
    "#### Utilizando listas\n",
    "\n",
    "- Lado esquerdo do .join() fica o caractere de junção dos elementos da lista.\n",
    "- Lado direito do .join() dentro dos parênteses fica a lista.\n",
    "- Todos os elementos da lista devem ser strings."
   ]
  },
  {
   "cell_type": "code",
   "execution_count": 239,
   "id": "a4cacf41",
   "metadata": {},
   "outputs": [
    {
     "name": "stdout",
     "output_type": "stream",
     "text": [
      "Angelo Bardy Idade 27\n"
     ]
    }
   ],
   "source": [
    "lista = ['Angelo','Bardy','Idade','27']\n",
    "nome = ' '.join(lista)\n",
    "print(nome)"
   ]
  },
  {
   "cell_type": "markdown",
   "id": "47241dfd",
   "metadata": {},
   "source": [
    "## Cores e estilo\n",
    "\n",
    "- \\033[estilo; cor do texto; cor de fundo m\n",
    "\n",
    "- Base: \\033[m\n",
    "\n",
    "- Estilos: 0 1 2 3 4 5 6 7\n",
    "\n",
    "- Cor do texto: 30 31 32 33 34 35 36 37 38 39\n",
    "\n",
    "- Cor de fundo: 40 41 42 43 44 45 46 47 48 49"
   ]
  },
  {
   "cell_type": "code",
   "execution_count": 240,
   "id": "e8f7cc26",
   "metadata": {},
   "outputs": [
    {
     "name": "stdout",
     "output_type": "stream",
     "text": [
      "\u001b[4mItálico\n"
     ]
    }
   ],
   "source": [
    "print(\"\\033[4mItálico\")"
   ]
  },
  {
   "cell_type": "code",
   "execution_count": 241,
   "id": "b42564c3",
   "metadata": {},
   "outputs": [
    {
     "name": "stdout",
     "output_type": "stream",
     "text": [
      "\u001b[32mCor do texto\n"
     ]
    }
   ],
   "source": [
    "print(\"\\033[32mCor do texto\")"
   ]
  },
  {
   "cell_type": "code",
   "execution_count": 242,
   "id": "d95a2896",
   "metadata": {},
   "outputs": [
    {
     "name": "stdout",
     "output_type": "stream",
     "text": [
      "\u001b[42mCor de fundo\n"
     ]
    }
   ],
   "source": [
    "print(\"\\033[42mCor de fundo\")"
   ]
  },
  {
   "cell_type": "code",
   "execution_count": 243,
   "id": "334ade82",
   "metadata": {},
   "outputs": [
    {
     "name": "stdout",
     "output_type": "stream",
     "text": [
      "\u001b[42;5mTeste\n"
     ]
    }
   ],
   "source": [
    "print(\"\\033[42;5mTeste\")"
   ]
  },
  {
   "cell_type": "code",
   "execution_count": 244,
   "id": "078350e6",
   "metadata": {},
   "outputs": [
    {
     "name": "stdout",
     "output_type": "stream",
     "text": [
      "\u001b[32;5mTeste\n"
     ]
    }
   ],
   "source": [
    "print(\"\\033[32;5mTeste\")"
   ]
  },
  {
   "cell_type": "code",
   "execution_count": 245,
   "id": "f72612fb",
   "metadata": {},
   "outputs": [
    {
     "name": "stdout",
     "output_type": "stream",
     "text": [
      "\u001b[37;41mTESTE\n"
     ]
    }
   ],
   "source": [
    "print(\"\\033[37;41mTESTE\")"
   ]
  },
  {
   "cell_type": "code",
   "execution_count": 246,
   "id": "8ff04840",
   "metadata": {},
   "outputs": [
    {
     "name": "stdout",
     "output_type": "stream",
     "text": [
      "\u001b[35;43;5mTESTE\u001b[m \u001b[33;45;4mSEGUNDO TESTE\n"
     ]
    }
   ],
   "source": [
    "print(\"\\033[35;43;5mTESTE\\033[m \\033[33;45;4mSEGUNDO TESTE\")"
   ]
  },
  {
   "cell_type": "markdown",
   "id": "78512762",
   "metadata": {},
   "source": [
    "## Formatação"
   ]
  },
  {
   "cell_type": "markdown",
   "id": "c05c96aa",
   "metadata": {},
   "source": [
    "#### Quantidade mínima de caracteres, o número colocado após os dois pontos diz a quantidade mínima de caracteres, se não for oculpado por nenhum outro, utiliza-se espaços."
   ]
  },
  {
   "cell_type": "code",
   "execution_count": 247,
   "id": "6495a28d",
   "metadata": {},
   "outputs": [
    {
     "name": "stdout",
     "output_type": "stream",
     "text": [
      "Nome: Angelo Bardy Idade 27                   Teste\n",
      "Nome: Angelo Bardy Idade 27                   Teste\n"
     ]
    }
   ],
   "source": [
    "print('Nome: {:40}Teste'.format(nome))\n",
    "print(f'Nome: {nome:40}Teste')"
   ]
  },
  {
   "cell_type": "markdown",
   "id": "309b9f5a",
   "metadata": {},
   "source": [
    "#### Alinhar à direita >"
   ]
  },
  {
   "cell_type": "code",
   "execution_count": 248,
   "id": "c01ae1d2",
   "metadata": {},
   "outputs": [
    {
     "name": "stdout",
     "output_type": "stream",
     "text": [
      "                                      67\n",
      "                                      67\n"
     ]
    }
   ],
   "source": [
    "print('{:>40}'.format(idade))\n",
    "print(f'{idade:>40}')"
   ]
  },
  {
   "cell_type": "markdown",
   "id": "9b0224f1",
   "metadata": {},
   "source": [
    "#### Alinhar à esquerda <"
   ]
  },
  {
   "cell_type": "code",
   "execution_count": 249,
   "id": "ec2ce42e",
   "metadata": {},
   "outputs": [
    {
     "name": "stdout",
     "output_type": "stream",
     "text": [
      "67                                      \n",
      "67                                      \n"
     ]
    }
   ],
   "source": [
    "print('{:<40}'.format(idade))\n",
    "print(f'{idade:<40}')"
   ]
  },
  {
   "cell_type": "markdown",
   "id": "a7779828",
   "metadata": {},
   "source": [
    "#### Alinha ao centro ^"
   ]
  },
  {
   "cell_type": "code",
   "execution_count": 250,
   "id": "fa60597a",
   "metadata": {},
   "outputs": [
    {
     "name": "stdout",
     "output_type": "stream",
     "text": [
      "                   67                   \n",
      "                   67                   \n"
     ]
    }
   ],
   "source": [
    "print('{:^40}'.format(idade))\n",
    "print(f'{idade:^40}')"
   ]
  },
  {
   "cell_type": "markdown",
   "id": "347797d7",
   "metadata": {},
   "source": [
    "#### Definindo caracteres no alinhamento, o caractere utilizado antes do símbolo de alinhamento subtituirá os espaços"
   ]
  },
  {
   "cell_type": "code",
   "execution_count": 251,
   "id": "9569dcc2",
   "metadata": {},
   "outputs": [
    {
     "name": "stdout",
     "output_type": "stream",
     "text": [
      "======================================67\n",
      "......................................67\n",
      "67--------------------------------------\n",
      "67~~~~~~~~~~~~~~~~~~~~~~~~~~~~~~~~~~~~~~\n",
      "+++++++++++++++++++67+++++++++++++++++++\n",
      "*******************67*******************\n"
     ]
    }
   ],
   "source": [
    "print('{:=>40}'.format(idade))\n",
    "print(f'{idade:.>40}')\n",
    "\n",
    "print('{:-<40}'.format(idade))\n",
    "print(f'{idade:~<40}')\n",
    "\n",
    "print('{:+^40}'.format(idade))\n",
    "print(f'{idade:*^40}')"
   ]
  },
  {
   "cell_type": "markdown",
   "id": "329b94df",
   "metadata": {},
   "source": [
    "## .center()\n",
    "\n",
    "- Funciona de forma similar ao alinhamento do centro, dentro do método, coloca-se o tamanho mínimo dos caracteres e se vai substituir os espaços por algum caractere."
   ]
  },
  {
   "cell_type": "code",
   "execution_count": 252,
   "id": "5eb7c2f8",
   "metadata": {},
   "outputs": [
    {
     "name": "stdout",
     "output_type": "stream",
     "text": [
      "                                       Angelo Bardy Idade 27                                        \n",
      "=======================================Angelo Bardy Idade 27========================================\n"
     ]
    }
   ],
   "source": [
    "print(nome.center(100))\n",
    "print(nome.center(100, '='))"
   ]
  },
  {
   "cell_type": "markdown",
   "id": "2c801419",
   "metadata": {},
   "source": [
    "## Manipulação dos caracteres\n",
    "\n",
    "#### Retorna o caractere da posição indicada entre cochetes\n",
    "\n",
    "- O primeiro índice é 0\n",
    "- O último índice é -1\n",
    "- O penúltimo índice é -2 "
   ]
  },
  {
   "cell_type": "code",
   "execution_count": 253,
   "id": "10c6b490",
   "metadata": {},
   "outputs": [
    {
     "name": "stdout",
     "output_type": "stream",
     "text": [
      "t\n",
      "o\n"
     ]
    }
   ],
   "source": [
    "print('Texto teste'[3])\n",
    "print(nome[5])"
   ]
  },
  {
   "cell_type": "markdown",
   "id": "7cd1bfbf",
   "metadata": {},
   "source": [
    "#### Retornar os caracteres entre duas posições"
   ]
  },
  {
   "cell_type": "code",
   "execution_count": 254,
   "id": "07e403ba",
   "metadata": {},
   "outputs": [
    {
     "name": "stdout",
     "output_type": "stream",
     "text": [
      "gelo Bardy\n"
     ]
    }
   ],
   "source": [
    "print(nome[2:12])"
   ]
  },
  {
   "cell_type": "markdown",
   "id": "b3b1dd02",
   "metadata": {},
   "source": [
    "#### O terceiro número indica o salto, ou seja de quantos em quantos números ele conta pra considerar o próximo caractere"
   ]
  },
  {
   "cell_type": "code",
   "execution_count": 255,
   "id": "7a06aa91",
   "metadata": {},
   "outputs": [
    {
     "name": "stdout",
     "output_type": "stream",
     "text": [
      "eoBryIae2\n"
     ]
    }
   ],
   "source": [
    "print(nome[3:-1:2])"
   ]
  },
  {
   "cell_type": "markdown",
   "id": "8e05a972",
   "metadata": {},
   "source": [
    "#### Retorna todos os caracteres a partir do primeiro indicado"
   ]
  },
  {
   "cell_type": "code",
   "execution_count": 256,
   "id": "9ae19947",
   "metadata": {},
   "outputs": [
    {
     "name": "stdout",
     "output_type": "stream",
     "text": [
      "elo Bardy Idade 27\n"
     ]
    }
   ],
   "source": [
    "print(nome[3:])"
   ]
  },
  {
   "cell_type": "markdown",
   "id": "59f398a6",
   "metadata": {},
   "source": [
    "#### Retorna todos os caracteres antes do último indicado"
   ]
  },
  {
   "cell_type": "code",
   "execution_count": 257,
   "id": "acf39de1",
   "metadata": {},
   "outputs": [
    {
     "name": "stdout",
     "output_type": "stream",
     "text": [
      "Angelo Bardy Id\n"
     ]
    }
   ],
   "source": [
    "print(nome[:15])"
   ]
  },
  {
   "cell_type": "markdown",
   "id": "3e0e1b4a",
   "metadata": {},
   "source": [
    "#### Retorna os caracteres contando a cada salto depois do inicial indicado"
   ]
  },
  {
   "cell_type": "code",
   "execution_count": 258,
   "id": "60c45ed3",
   "metadata": {},
   "outputs": [
    {
     "name": "stdout",
     "output_type": "stream",
     "text": [
      "e r a \n"
     ]
    }
   ],
   "source": [
    "print(nome[3::3])"
   ]
  },
  {
   "cell_type": "markdown",
   "id": "fbbaf9ff",
   "metadata": {},
   "source": [
    "#### Retorna todos os caracteres a cada salto antes do final indicado"
   ]
  },
  {
   "cell_type": "code",
   "execution_count": 259,
   "id": "7fd62e70",
   "metadata": {},
   "outputs": [
    {
     "name": "stdout",
     "output_type": "stream",
     "text": [
      "Agl ad dd\n"
     ]
    }
   ],
   "source": [
    "print(nome[:18:2])"
   ]
  },
  {
   "cell_type": "markdown",
   "id": "864cbb00",
   "metadata": {},
   "source": [
    "#### Retorna os caracteres considerando o salto"
   ]
  },
  {
   "cell_type": "code",
   "execution_count": 260,
   "id": "66dd7722",
   "metadata": {},
   "outputs": [
    {
     "name": "stdout",
     "output_type": "stream",
     "text": [
      "Agl ad dd 7\n"
     ]
    }
   ],
   "source": [
    "print(nome[::2])"
   ]
  },
  {
   "cell_type": "markdown",
   "id": "6dc352e1",
   "metadata": {},
   "source": [
    " #### Retorna o texto invertido"
   ]
  },
  {
   "cell_type": "code",
   "execution_count": 261,
   "id": "762b5c79",
   "metadata": {},
   "outputs": [
    {
     "name": "stdout",
     "output_type": "stream",
     "text": [
      "72 edadI ydraB olegnA\n"
     ]
    }
   ],
   "source": [
    "print(nome[::-1])"
   ]
  },
  {
   "cell_type": "markdown",
   "id": "178f5705",
   "metadata": {},
   "source": [
    "## .replace()\n",
    "\n",
    "- Troca uma parte do texto de uma String, por outro texto.\n",
    "- Texto que será trocado como primeiro parâmetro\n",
    "- Texto novo como segundo parâmetro"
   ]
  },
  {
   "cell_type": "code",
   "execution_count": 262,
   "id": "29eea5a6",
   "metadata": {},
   "outputs": [
    {
     "name": "stdout",
     "output_type": "stream",
     "text": [
      "Angelo Bardy Teste 27\n"
     ]
    }
   ],
   "source": [
    "nome = nome.replace('Idade', 'Teste')\n",
    "print(nome)"
   ]
  },
  {
   "cell_type": "markdown",
   "id": "5e4d66bc",
   "metadata": {},
   "source": [
    "## Transformar a caixa das letras"
   ]
  },
  {
   "cell_type": "markdown",
   "id": "71ced049",
   "metadata": {},
   "source": [
    "#### .upper() - Transforma todas as letras em maiúsculo"
   ]
  },
  {
   "cell_type": "code",
   "execution_count": 263,
   "id": "3417a16f",
   "metadata": {},
   "outputs": [
    {
     "name": "stdout",
     "output_type": "stream",
     "text": [
      "TESTE\n",
      "ANGELO BARDY TESTE 27\n"
     ]
    }
   ],
   "source": [
    "print('teste'.upper())\n",
    "print(nome.upper())"
   ]
  },
  {
   "cell_type": "markdown",
   "id": "c598e54a",
   "metadata": {},
   "source": [
    "#### .lower() - Transforma todas as letras em minúsculo"
   ]
  },
  {
   "cell_type": "code",
   "execution_count": 264,
   "id": "577bd503",
   "metadata": {},
   "outputs": [
    {
     "name": "stdout",
     "output_type": "stream",
     "text": [
      "teste\n",
      "angelo bardy teste 27\n"
     ]
    }
   ],
   "source": [
    "print('teste'.lower())\n",
    "print(nome.lower())"
   ]
  },
  {
   "cell_type": "markdown",
   "id": "7ec0f840",
   "metadata": {},
   "source": [
    "#### .capitalize() - Apenas a primeira letra fica maiúscula"
   ]
  },
  {
   "cell_type": "code",
   "execution_count": 265,
   "id": "054b6eee",
   "metadata": {},
   "outputs": [
    {
     "name": "stdout",
     "output_type": "stream",
     "text": [
      "Teste de texto\n",
      "Angelo bardy teste 27\n"
     ]
    }
   ],
   "source": [
    "print('teste de texto'.capitalize())\n",
    "print(nome.capitalize())"
   ]
  },
  {
   "cell_type": "markdown",
   "id": "dc578055",
   "metadata": {},
   "source": [
    "#### .title() - Primeira letra de cada palavra fica maiúscula"
   ]
  },
  {
   "cell_type": "code",
   "execution_count": 266,
   "id": "7bd54e99",
   "metadata": {},
   "outputs": [
    {
     "name": "stdout",
     "output_type": "stream",
     "text": [
      "Teste De Texto\n",
      "Angelo Bardy Teste 27\n"
     ]
    }
   ],
   "source": [
    "print('teste de texto'.title())\n",
    "print(nome.title())"
   ]
  },
  {
   "cell_type": "markdown",
   "id": "ad1926ca",
   "metadata": {},
   "source": [
    "## Excluindo espaços"
   ]
  },
  {
   "cell_type": "code",
   "execution_count": 267,
   "id": "182d8e8d",
   "metadata": {},
   "outputs": [],
   "source": [
    "texto = \"                  Teste                    \""
   ]
  },
  {
   "cell_type": "markdown",
   "id": "c3182aa2",
   "metadata": {},
   "source": [
    "#### .rstrip() - Exclui os espaços do lado direito do texto"
   ]
  },
  {
   "cell_type": "code",
   "execution_count": 268,
   "id": "f2c9780c",
   "metadata": {},
   "outputs": [
    {
     "name": "stdout",
     "output_type": "stream",
     "text": [
      "                  Teste\n"
     ]
    }
   ],
   "source": [
    "print(texto.rstrip())"
   ]
  },
  {
   "cell_type": "markdown",
   "id": "a46c6411",
   "metadata": {},
   "source": [
    "#### .lstrip() - Exclui os espaços do lado esquerdo do texto"
   ]
  },
  {
   "cell_type": "code",
   "execution_count": 269,
   "id": "0164ecb3",
   "metadata": {},
   "outputs": [
    {
     "name": "stdout",
     "output_type": "stream",
     "text": [
      "Teste                    \n"
     ]
    }
   ],
   "source": [
    "print(texto.lstrip())"
   ]
  },
  {
   "cell_type": "markdown",
   "id": "4ddd31a4",
   "metadata": {},
   "source": [
    "#### .strip() - Exclui os espaços do lado esquerdo e direito do texto"
   ]
  },
  {
   "cell_type": "code",
   "execution_count": 270,
   "id": "c95bd7d6",
   "metadata": {},
   "outputs": [
    {
     "name": "stdout",
     "output_type": "stream",
     "text": [
      "Teste\n"
     ]
    }
   ],
   "source": [
    "print(texto.strip())"
   ]
  },
  {
   "cell_type": "markdown",
   "id": "c12ebf22",
   "metadata": {},
   "source": [
    "## Separando caracteres\n",
    "\n",
    "#### .split() - Separa as palavras por um caractere indicado em uma lista, quando não se indica o caractere é utilizado o espaço."
   ]
  },
  {
   "cell_type": "code",
   "execution_count": 271,
   "id": "ee4688d8",
   "metadata": {},
   "outputs": [
    {
     "name": "stdout",
     "output_type": "stream",
     "text": [
      "['Angelo', 'Bardy', 'Teste', '27']\n",
      "['Ang', 'lo Bardy T', 'st', ' 27']\n"
     ]
    }
   ],
   "source": [
    "nome1 = nome.split()\n",
    "nome2 = nome.split('e')\n",
    "\n",
    "print(nome1)\n",
    "print(nome2)"
   ]
  },
  {
   "cell_type": "markdown",
   "id": "1d7a9f05",
   "metadata": {},
   "source": [
    "#### .rsplit() - Separa as palavras pela direita"
   ]
  },
  {
   "cell_type": "code",
   "execution_count": 272,
   "id": "522a3966",
   "metadata": {},
   "outputs": [
    {
     "name": "stdout",
     "output_type": "stream",
     "text": [
      "['Angelo', 'Bardy', 'Teste', '27']\n",
      "['Ang', 'lo Bardy T', 'st', ' 27']\n"
     ]
    }
   ],
   "source": [
    "nome1 = nome.rsplit()\n",
    "nome2 = nome.rsplit('e')\n",
    "\n",
    "print(nome1)\n",
    "print(nome2)"
   ]
  },
  {
   "cell_type": "markdown",
   "id": "f964cfdf",
   "metadata": {},
   "source": [
    "#### Guardando valores em várias variáveis"
   ]
  },
  {
   "cell_type": "code",
   "execution_count": 284,
   "id": "bb5ca9ec",
   "metadata": {},
   "outputs": [
    {
     "name": "stdout",
     "output_type": "stream",
     "text": [
      "Digite Nome, idade e data separados por espaço: Angelo 66 25/12/1974\n",
      "Angelo\n",
      "66\n",
      "25/12/1974\n"
     ]
    }
   ],
   "source": [
    "nome, idade, data = input('Digite Nome, idade e data separados por espaço: ').split()\n",
    "print(nome)\n",
    "print(idade)\n",
    "print(data)"
   ]
  },
  {
   "cell_type": "markdown",
   "id": "618662fd",
   "metadata": {},
   "source": [
    "## Caracteres especiais\n",
    "\n",
    "#### \\n - Quebra de linha"
   ]
  },
  {
   "cell_type": "code",
   "execution_count": 273,
   "id": "06c81352",
   "metadata": {},
   "outputs": [
    {
     "name": "stdout",
     "output_type": "stream",
     "text": [
      "Nome \n",
      "Idade\n"
     ]
    }
   ],
   "source": [
    "print('Nome \\nIdade')"
   ]
  },
  {
   "cell_type": "markdown",
   "id": "2b5cbdd1",
   "metadata": {},
   "source": [
    "#### \\t - Tabulação"
   ]
  },
  {
   "cell_type": "code",
   "execution_count": 274,
   "id": "6390b9d1",
   "metadata": {},
   "outputs": [
    {
     "name": "stdout",
     "output_type": "stream",
     "text": [
      "Nome\tIdade\n"
     ]
    }
   ],
   "source": [
    "print('Nome\\tIdade')"
   ]
  },
  {
   "cell_type": "markdown",
   "id": "8c5888dd",
   "metadata": {},
   "source": [
    "## Parâmetros do print()\n",
    "\n",
    "#### end - Muda o último caractere da função print, que já vem com a função \\n"
   ]
  },
  {
   "cell_type": "code",
   "execution_count": 275,
   "id": "cdef8a69",
   "metadata": {},
   "outputs": [
    {
     "name": "stdout",
     "output_type": "stream",
     "text": [
      "Teste-"
     ]
    }
   ],
   "source": [
    "print('Teste', end = '-')"
   ]
  },
  {
   "cell_type": "markdown",
   "id": "10ddcf62",
   "metadata": {},
   "source": [
    "## len() \n",
    "\n",
    "- Faz a contagem dos elementos de uma sequêcia (string, listas, tuplas, dicionários, entre outros)"
   ]
  },
  {
   "cell_type": "code",
   "execution_count": 276,
   "id": "6a3bbb15",
   "metadata": {},
   "outputs": [
    {
     "name": "stdout",
     "output_type": "stream",
     "text": [
      "21\n"
     ]
    }
   ],
   "source": [
    "print(len(nome))"
   ]
  },
  {
   "cell_type": "markdown",
   "id": "ce0380d1",
   "metadata": {},
   "source": [
    "## .find()\n",
    "\n",
    "#### .find() - Mostra a primeira ocorrência (posição, índice) do caractere ou sequência de caracteres "
   ]
  },
  {
   "cell_type": "code",
   "execution_count": 277,
   "id": "a8d5e846",
   "metadata": {},
   "outputs": [
    {
     "name": "stdout",
     "output_type": "stream",
     "text": [
      "3\n"
     ]
    }
   ],
   "source": [
    "print(nome.find('e'))"
   ]
  },
  {
   "cell_type": "markdown",
   "id": "c384da40",
   "metadata": {},
   "source": [
    "#### Determinando a posição, considera a procura a partir daquela posição"
   ]
  },
  {
   "cell_type": "code",
   "execution_count": 278,
   "id": "03886161",
   "metadata": {},
   "outputs": [
    {
     "name": "stdout",
     "output_type": "stream",
     "text": [
      "14\n"
     ]
    }
   ],
   "source": [
    "print(nome.find('e', 4))"
   ]
  },
  {
   "cell_type": "markdown",
   "id": "7963b87b",
   "metadata": {},
   "source": [
    "#### .rfind() - Mostra a ocorrência a partir da direita"
   ]
  },
  {
   "cell_type": "code",
   "execution_count": 279,
   "id": "bffcacf9",
   "metadata": {},
   "outputs": [
    {
     "name": "stdout",
     "output_type": "stream",
     "text": [
      "17\n"
     ]
    }
   ],
   "source": [
    "print(nome.rfind('e'))"
   ]
  },
  {
   "cell_type": "markdown",
   "id": "0d7e5fb0",
   "metadata": {},
   "source": [
    "## .count()\n",
    "\n",
    "#### .count() - Mostra a quantidade de vezes que um caractere ou string aparecem dentro de um texto."
   ]
  },
  {
   "cell_type": "code",
   "execution_count": 280,
   "id": "3c6d0719",
   "metadata": {},
   "outputs": [
    {
     "name": "stdout",
     "output_type": "stream",
     "text": [
      "3\n"
     ]
    }
   ],
   "source": [
    "print(nome.count('e'))"
   ]
  },
  {
   "cell_type": "markdown",
   "id": "d33bf423",
   "metadata": {},
   "source": [
    "#### Pode-se considerar a partir de uma primeira posição indicada"
   ]
  },
  {
   "cell_type": "code",
   "execution_count": 281,
   "id": "0bb4f6b4",
   "metadata": {},
   "outputs": [
    {
     "name": "stdout",
     "output_type": "stream",
     "text": [
      "2\n"
     ]
    }
   ],
   "source": [
    "print(nome.count('e', 4))"
   ]
  },
  {
   "cell_type": "markdown",
   "id": "099fe5c0",
   "metadata": {},
   "source": [
    "#### Considerando a partir de uma posição inicial e uma posição final"
   ]
  },
  {
   "cell_type": "code",
   "execution_count": 282,
   "id": "807903f2",
   "metadata": {},
   "outputs": [
    {
     "name": "stdout",
     "output_type": "stream",
     "text": [
      "1\n"
     ]
    }
   ],
   "source": [
    "print(nome.count('e',4,17))"
   ]
  }
 ],
 "metadata": {
  "kernelspec": {
   "display_name": "Python 3 (ipykernel)",
   "language": "python",
   "name": "python3"
  },
  "language_info": {
   "codemirror_mode": {
    "name": "ipython",
    "version": 3
   },
   "file_extension": ".py",
   "mimetype": "text/x-python",
   "name": "python",
   "nbconvert_exporter": "python",
   "pygments_lexer": "ipython3",
   "version": "3.9.12"
  }
 },
 "nbformat": 4,
 "nbformat_minor": 5
}
