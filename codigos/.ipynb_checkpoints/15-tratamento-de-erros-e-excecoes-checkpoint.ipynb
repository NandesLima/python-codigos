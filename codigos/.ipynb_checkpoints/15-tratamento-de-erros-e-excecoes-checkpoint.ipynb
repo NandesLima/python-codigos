{
 "cells": [
  {
   "cell_type": "markdown",
   "id": "247bd078",
   "metadata": {},
   "source": [
    "# Tratamento de Erros e Exceções\n",
    "\n",
    "#### try - Tenta executar um programa caso não exista erros\n",
    "#### except - Caso tenha um erro é executado os comandos internos."
   ]
  },
  {
   "cell_type": "code",
   "execution_count": 1,
   "id": "b9f70723",
   "metadata": {},
   "outputs": [
    {
     "name": "stdout",
     "output_type": "stream",
     "text": [
      "3.0\n"
     ]
    }
   ],
   "source": [
    "numero1 = 12\n",
    "numero2 = 4\n",
    "\n",
    "try:\n",
    "    divisao = numero1/numero2\n",
    "    print(divisao)\n",
    "except:\n",
    "    print(\"ERRO\")"
   ]
  },
  {
   "cell_type": "code",
   "execution_count": 2,
   "id": "630ef310",
   "metadata": {},
   "outputs": [
    {
     "name": "stdout",
     "output_type": "stream",
     "text": [
      "ERRO\n"
     ]
    }
   ],
   "source": [
    "numero1 = 12\n",
    "numero2 = 0\n",
    "\n",
    "try:\n",
    "    divisao = numero1/numero2\n",
    "    print(divisao)\n",
    "except:\n",
    "    print(\"ERRO\")"
   ]
  },
  {
   "cell_type": "markdown",
   "id": "cbed0f72",
   "metadata": {},
   "source": [
    "#### Podem ser utilizadas exceções específicas, definindo-as após o comando except"
   ]
  },
  {
   "cell_type": "code",
   "execution_count": 3,
   "id": "58b766bf",
   "metadata": {},
   "outputs": [
    {
     "name": "stdout",
     "output_type": "stream",
     "text": [
      "ERRO\n"
     ]
    }
   ],
   "source": [
    "numero1 = 12\n",
    "numero2 = 0\n",
    "\n",
    "try:\n",
    "    divisao = numero1/numero2\n",
    "    print(divisao)\n",
    "except ZeroDivisionError:\n",
    "    print(\"ERRO\")"
   ]
  },
  {
   "cell_type": "markdown",
   "id": "c8d36111",
   "metadata": {},
   "source": [
    "#### As exceções possuem uma hierarquia, mais de uma pode está na mesma classe\n",
    "\n",
    "#### Exemplo ZeroDivisionError está dentro de ArithmeticError, se ArithmeticError for executada primeiro, ZeroDivisionError não será executada."
   ]
  },
  {
   "cell_type": "code",
   "execution_count": 4,
   "id": "90789faf",
   "metadata": {},
   "outputs": [
    {
     "name": "stdout",
     "output_type": "stream",
     "text": [
      "https://docs.python.org/pt-br/3.10/library/exceptions.html#bltin-exceptions\n"
     ]
    }
   ],
   "source": [
    "print('https://docs.python.org/pt-br/3.10/library/exceptions.html#bltin-exceptions')"
   ]
  },
  {
   "cell_type": "code",
   "execution_count": 5,
   "id": "264a3d02",
   "metadata": {},
   "outputs": [
    {
     "name": "stdout",
     "output_type": "stream",
     "text": [
      "ArithmeticError\n"
     ]
    }
   ],
   "source": [
    "numero1 = 12\n",
    "numero2 = 0\n",
    "\n",
    "try:\n",
    "    divisao = numero1/numero2\n",
    "    print(divisao)\n",
    "except ArithmeticError:\n",
    "    print(\"ArithmeticError\")\n",
    "except ZeroDivisionError:\n",
    "    print(\"ERRO\")"
   ]
  },
  {
   "cell_type": "markdown",
   "id": "cfd9b464",
   "metadata": {},
   "source": [
    "#### else - é executado quando uma exceção não é executada"
   ]
  },
  {
   "cell_type": "code",
   "execution_count": 6,
   "id": "c4f19a51",
   "metadata": {},
   "outputs": [
    {
     "name": "stdout",
     "output_type": "stream",
     "text": [
      "4.0\n"
     ]
    }
   ],
   "source": [
    "numero1 = 12\n",
    "numero2 = 3\n",
    "\n",
    "try:\n",
    "    divisao = numero1/numero2\n",
    "except BaseException:\n",
    "    print(\"Erro base\")\n",
    "except ZeroDivisionError:\n",
    "    print(\"ERRO\")\n",
    "else:\n",
    "    print(divisao)"
   ]
  },
  {
   "cell_type": "code",
   "execution_count": 7,
   "id": "46e2cbba",
   "metadata": {},
   "outputs": [
    {
     "name": "stdout",
     "output_type": "stream",
     "text": [
      "Erro base\n"
     ]
    }
   ],
   "source": [
    "numero1 = 12\n",
    "numero2 = 0\n",
    "\n",
    "try:\n",
    "    divisao = numero1/numero2\n",
    "except BaseException:\n",
    "    print(\"Erro base\")\n",
    "except ZeroDivisionError:\n",
    "    print(\"ERRO\")\n",
    "else:\n",
    "    print(divisao)"
   ]
  },
  {
   "cell_type": "markdown",
   "id": "72211024",
   "metadata": {},
   "source": [
    "#### finally - Executa ao final do teste, com ou sem erros."
   ]
  },
  {
   "cell_type": "code",
   "execution_count": 9,
   "id": "6548042d",
   "metadata": {},
   "outputs": [
    {
     "name": "stdout",
     "output_type": "stream",
     "text": [
      "Primeiro número: 12\n",
      "Segundo número: 3,5\n",
      "ValueError\n",
      "Finalizando a execução\n"
     ]
    }
   ],
   "source": [
    "try:\n",
    "    \n",
    "    numero1 = float(input('Primeiro número: '))\n",
    "    numero2 = float(input('Segundo número: '))\n",
    "    \n",
    "    divisao = numero1/numero2\n",
    "    \n",
    "except ZeroDivisionError:\n",
    "    \n",
    "    print(\"ERRO\")\n",
    "    \n",
    "except ValueError:\n",
    "    \n",
    "    print(\"ValueError\")\n",
    "    \n",
    "else:\n",
    "    print(divisao)\n",
    "    \n",
    "finally:\n",
    "    print('Finalizando a execução')"
   ]
  },
  {
   "cell_type": "markdown",
   "id": "34afa386",
   "metadata": {},
   "source": [
    "#### Mostrando uma exceção desconhecida"
   ]
  },
  {
   "cell_type": "code",
   "execution_count": 10,
   "id": "8055efab",
   "metadata": {},
   "outputs": [
    {
     "name": "stdout",
     "output_type": "stream",
     "text": [
      "Primeiro número: 12\n",
      "Segundo número: 12,3\n",
      "<class 'ValueError'>\n"
     ]
    }
   ],
   "source": [
    "try:\n",
    "    \n",
    "    numero1 = float(input('Primeiro número: '))\n",
    "    numero2 = float(input('Segundo número: '))\n",
    "    \n",
    "    divisao = numero1/numero2\n",
    "    \n",
    "except BaseException as excessao:\n",
    "    \n",
    "    print(excessao.__class__)\n",
    "    "
   ]
  }
 ],
 "metadata": {
  "kernelspec": {
   "display_name": "Python 3 (ipykernel)",
   "language": "python",
   "name": "python3"
  },
  "language_info": {
   "codemirror_mode": {
    "name": "ipython",
    "version": 3
   },
   "file_extension": ".py",
   "mimetype": "text/x-python",
   "name": "python",
   "nbconvert_exporter": "python",
   "pygments_lexer": "ipython3",
   "version": "3.9.12"
  }
 },
 "nbformat": 4,
 "nbformat_minor": 5
}
