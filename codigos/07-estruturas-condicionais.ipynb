{
 "cells": [
  {
   "cell_type": "markdown",
   "id": "c5b6b5c8",
   "metadata": {},
   "source": [
    "# 07 - Estruturas Condicionais\n",
    "\n",
    "- Permitem o desvio de fluxo de controle\n",
    "- O desvio de fluxo ocorre quando uma condição é verdadeira, ou seja, possui o valor True, e durante o fluxo é ignorada quando o valor é False."
   ]
  },
  {
   "cell_type": "markdown",
   "id": "16d7104e",
   "metadata": {},
   "source": [
    "## Controle de fluxo simples\n",
    "\n",
    "#### if - verifica se uma condição é verdadeira, se sim, executa as linhas indentadas, se não, ignora."
   ]
  },
  {
   "cell_type": "code",
   "execution_count": 11,
   "id": "ea60f43e",
   "metadata": {},
   "outputs": [
    {
     "name": "stdout",
     "output_type": "stream",
     "text": [
      "If executado: True\n"
     ]
    }
   ],
   "source": [
    "n = 100\n",
    "\n",
    "if n < 200:\n",
    "    print(f'If executado: {n < 200}')\n",
    "\n",
    "if n > 100:\n",
    "    print(f'If executado: {n > 100}')"
   ]
  },
  {
   "cell_type": "markdown",
   "id": "fd8440fc",
   "metadata": {},
   "source": [
    "## Controle de fluxo - else\n",
    "\n",
    "#### else - executado no final do controle de fluxo se nenhuma condição anterior for executada."
   ]
  },
  {
   "cell_type": "code",
   "execution_count": 12,
   "id": "b5f0075d",
   "metadata": {},
   "outputs": [
    {
     "name": "stdout",
     "output_type": "stream",
     "text": [
      "It's not morning\n",
      "Good Night\n"
     ]
    }
   ],
   "source": [
    "day = False\n",
    "night = not day\n",
    "\n",
    "if day:\n",
    "    print('Good Morning')\n",
    "else:\n",
    "    print(\"It's not morning\")\n",
    "    \n",
    "\n",
    "if night:\n",
    "    print('Good Night')\n",
    "else:\n",
    "    print(\"It's not night\")"
   ]
  },
  {
   "cell_type": "markdown",
   "id": "15b521a0",
   "metadata": {},
   "source": [
    "## Controle de fluxo - elif\n",
    "\n",
    "#### elif - coloca uma nova condição quando o if não é executado, podem ser utilizados mais de um elif"
   ]
  },
  {
   "cell_type": "code",
   "execution_count": 13,
   "id": "7a813005",
   "metadata": {},
   "outputs": [
    {
     "name": "stdout",
     "output_type": "stream",
     "text": [
      "Executando o comando elif\n"
     ]
    }
   ],
   "source": [
    "power_on = True\n",
    "canal_on = False\n",
    "\n",
    "if power_on and canal_on:\n",
    "    print(f'''\n",
    "    Power_on: {power_on}\n",
    "    canal_on: {canal_on}\n",
    "    ''')\n",
    "elif power_on or power_of:\n",
    "    print('Executando o comando elif')\n",
    "else:\n",
    "    print('Sem condições extras')"
   ]
  },
  {
   "cell_type": "code",
   "execution_count": 14,
   "id": "613b4151",
   "metadata": {},
   "outputs": [
    {
     "name": "stdout",
     "output_type": "stream",
     "text": [
      "Valor menor que 250\n"
     ]
    }
   ],
   "source": [
    "valor = 200\n",
    "\n",
    "if valor < 100:\n",
    "    print('Valor menor que 100')\n",
    "elif valor < 150:\n",
    "    print('Valor menor que 150')\n",
    "elif valor < 200:\n",
    "    print('valor menor que 200')\n",
    "elif valor < 250:\n",
    "    print('Valor menor que 250')\n",
    "else:\n",
    "    print('Valor maior ou igual a 250')"
   ]
  },
  {
   "cell_type": "markdown",
   "id": "16b08e36",
   "metadata": {},
   "source": [
    "## Estrutura condicional if e else em uma só linha\n",
    "\n",
    "- A esquerda do if, valor se a condição for verdadeira\n",
    "- Entre o if e o else fica a condição\n",
    "- A direita do else, valor se a condição for falsa"
   ]
  },
  {
   "cell_type": "code",
   "execution_count": 15,
   "id": "3b6ef3c0",
   "metadata": {},
   "outputs": [
    {
     "name": "stdout",
     "output_type": "stream",
     "text": [
      "200\n"
     ]
    }
   ],
   "source": [
    "print(valor if valor <= 200 else valor + 200)"
   ]
  },
  {
   "cell_type": "code",
   "execution_count": 16,
   "id": "77e47259",
   "metadata": {},
   "outputs": [
    {
     "name": "stdout",
     "output_type": "stream",
     "text": [
      "400\n"
     ]
    }
   ],
   "source": [
    "print(valor if valor <= 100 else valor + 200)"
   ]
  }
 ],
 "metadata": {
  "kernelspec": {
   "display_name": "Python 3 (ipykernel)",
   "language": "python",
   "name": "python3"
  },
  "language_info": {
   "codemirror_mode": {
    "name": "ipython",
    "version": 3
   },
   "file_extension": ".py",
   "mimetype": "text/x-python",
   "name": "python",
   "nbconvert_exporter": "python",
   "pygments_lexer": "ipython3",
   "version": "3.9.12"
  }
 },
 "nbformat": 4,
 "nbformat_minor": 5
}
