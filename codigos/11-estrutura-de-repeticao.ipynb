{
 "cells": [
  {
   "attachments": {},
   "cell_type": "markdown",
   "id": "85ce58ac",
   "metadata": {},
   "source": [
    "# 11 - Estruturas de repetição"
   ]
  },
  {
   "attachments": {},
   "cell_type": "markdown",
   "id": "27e5fc6e",
   "metadata": {},
   "source": [
    "## Comando Range\n",
    "\n",
    "### range() - Cria um objeto range que se comporta como uma lista, possui três parâmetros - número inicial, número final e salto (ou passo). O único parâmetro obrigatório é o número final."
   ]
  },
  {
   "cell_type": "markdown",
   "id": "73a1e13b",
   "metadata": {},
   "source": [
    "#### range(número_final) - Cria uma lista de números de 0 até o número final, o número final é excludente, ou seja não participa da lista."
   ]
  },
  {
   "cell_type": "code",
   "execution_count": 1,
   "id": "c353318d",
   "metadata": {},
   "outputs": [],
   "source": [
    "lista1 = range(5)"
   ]
  },
  {
   "cell_type": "markdown",
   "id": "e19ac1ec",
   "metadata": {},
   "source": [
    "#### range(número_inicial, número_final) - Cria uma lista de números do número inicial até o número final, sendo esse excludente."
   ]
  },
  {
   "cell_type": "code",
   "execution_count": 2,
   "id": "8711c006",
   "metadata": {},
   "outputs": [],
   "source": [
    "lista2 = range(7, 20)"
   ]
  },
  {
   "cell_type": "markdown",
   "id": "b78bb0e3",
   "metadata": {},
   "source": [
    "#### range(número_inicial, número_final, passo) - Cria uma lista de números do número inicial até o número final, sendo esse excludente, e o passo, é de quanto em quanto aumenta o valor."
   ]
  },
  {
   "cell_type": "code",
   "execution_count": 3,
   "id": "d3b05fc4",
   "metadata": {},
   "outputs": [],
   "source": [
    "lista3 = range(-2, 10, 4)"
   ]
  },
  {
   "cell_type": "markdown",
   "id": "7a8313a5",
   "metadata": {},
   "source": [
    "#### Valores negativos no passo, dão um sentido descrescente para o range."
   ]
  },
  {
   "cell_type": "code",
   "execution_count": 4,
   "id": "45ae41c3",
   "metadata": {},
   "outputs": [],
   "source": [
    "lista4 = range(10, 0, -1)"
   ]
  },
  {
   "attachments": {},
   "cell_type": "markdown",
   "id": "13be40f8",
   "metadata": {},
   "source": [
    "## Comando Enumerate"
   ]
  },
  {
   "cell_type": "markdown",
   "id": "2227a3d3",
   "metadata": {},
   "source": [
    "### enumerate() - Recebe um conjunto de valores, e cria uma lista de tuplas, onde em cada tupla ficará guardado um valor do conjunto de valores e uma posição que será associado a ele."
   ]
  },
  {
   "cell_type": "code",
   "execution_count": 5,
   "id": "d69d6bd1",
   "metadata": {},
   "outputs": [],
   "source": [
    "lista5 = enumerate(['ovelha', 'leão', 'rato', 'macaco'])\n",
    "lista6 = enumerate(lista4)"
   ]
  },
  {
   "attachments": {},
   "cell_type": "markdown",
   "id": "08f57ec8",
   "metadata": {},
   "source": [
    "## Estrutura de repetição FOR\n",
    "\n",
    "### O for está associado a uma sequência (lista, dicionário, tupla...)\n",
    "\n",
    "- O for colocorá cada valor da sequência na variável que está entre o for e o in. Executando para cada valor na sequência."
   ]
  },
  {
   "cell_type": "code",
   "execution_count": 6,
   "id": "447a2f85",
   "metadata": {},
   "outputs": [
    {
     "name": "stdout",
     "output_type": "stream",
     "text": [
      "0\n",
      "1\n",
      "2\n",
      "3\n",
      "4\n"
     ]
    }
   ],
   "source": [
    "for i in lista1:\n",
    "    print(i)"
   ]
  },
  {
   "cell_type": "code",
   "execution_count": 7,
   "id": "572fabeb",
   "metadata": {},
   "outputs": [
    {
     "name": "stdout",
     "output_type": "stream",
     "text": [
      "7\n",
      "8\n",
      "9\n",
      "10\n",
      "11\n",
      "12\n",
      "13\n",
      "14\n",
      "15\n",
      "16\n",
      "17\n",
      "18\n",
      "19\n"
     ]
    }
   ],
   "source": [
    "for i in lista2:\n",
    "    print(i)"
   ]
  },
  {
   "cell_type": "code",
   "execution_count": 8,
   "id": "4607b66f",
   "metadata": {},
   "outputs": [
    {
     "name": "stdout",
     "output_type": "stream",
     "text": [
      "-2\n",
      "2\n",
      "6\n"
     ]
    }
   ],
   "source": [
    "for i in lista3:\n",
    "    print(i)"
   ]
  },
  {
   "cell_type": "code",
   "execution_count": 9,
   "id": "c747a7f1",
   "metadata": {},
   "outputs": [
    {
     "name": "stdout",
     "output_type": "stream",
     "text": [
      "10\n",
      "9\n",
      "8\n",
      "7\n",
      "6\n",
      "5\n",
      "4\n",
      "3\n",
      "2\n",
      "1\n"
     ]
    }
   ],
   "source": [
    "for i in lista4:\n",
    "    print(i)"
   ]
  },
  {
   "cell_type": "markdown",
   "id": "ba8ab44e",
   "metadata": {},
   "source": [
    "#### Podem ser utilizadas mais de uma variável entre o for e o in, no caso cada sequência deve assumir mais de um valor."
   ]
  },
  {
   "cell_type": "code",
   "execution_count": 10,
   "id": "bb9e373c",
   "metadata": {},
   "outputs": [
    {
     "name": "stdout",
     "output_type": "stream",
     "text": [
      "0 ovelha\n",
      "1 leão\n",
      "2 rato\n",
      "3 macaco\n"
     ]
    }
   ],
   "source": [
    "for i, e in lista5:\n",
    "    print(i, e)"
   ]
  },
  {
   "cell_type": "markdown",
   "id": "66940c6a",
   "metadata": {},
   "source": [
    "#### else - utilizado para ser executado no final do FOR\n"
   ]
  },
  {
   "cell_type": "code",
   "execution_count": 11,
   "id": "6be411d0",
   "metadata": {},
   "outputs": [
    {
     "name": "stdout",
     "output_type": "stream",
     "text": [
      "0 10\n",
      "1 9\n",
      "2 8\n",
      "3 7\n",
      "4 6\n",
      "5 5\n",
      "6 4\n",
      "7 3\n",
      "8 2\n",
      "9 1\n",
      "Fim da execução\n"
     ]
    }
   ],
   "source": [
    "for i, e in lista6:\n",
    "    print(i, e)\n",
    "else:\n",
    "    print('Fim da execução')"
   ]
  },
  {
   "attachments": {},
   "cell_type": "markdown",
   "id": "db794b4b",
   "metadata": {},
   "source": [
    "#### O FOR pode ser utilizado para criar listas - Compreensão de listas\n",
    "\n",
    "- Estrutura: [valores_adicionados for variavel in sequência]"
   ]
  },
  {
   "cell_type": "code",
   "execution_count": 12,
   "id": "933b12d2",
   "metadata": {},
   "outputs": [
    {
     "name": "stdout",
     "output_type": "stream",
     "text": [
      "[12, 11, 10, 9, 8, 7, 6, 5, 4, 3]\n"
     ]
    }
   ],
   "source": [
    "lista_for = [i+2 for i in lista4]\n",
    "print(lista_for)"
   ]
  },
  {
   "cell_type": "code",
   "execution_count": 13,
   "id": "c8d4fbfb",
   "metadata": {},
   "outputs": [
    {
     "name": "stdout",
     "output_type": "stream",
     "text": [
      "[True, False, True, False, True, False, True, False, True, False]\n"
     ]
    }
   ],
   "source": [
    "lista_for = [(True if i%2==0 else False) for i in lista4]\n",
    "print(lista_for)"
   ]
  },
  {
   "cell_type": "markdown",
   "id": "3383c5f7",
   "metadata": {},
   "source": [
    "## Estrutura de repetição WHILE\n",
    "\n",
    "#### Repete o que estiver dentro da estrutura enquanto a condição após o while for verdadeira\n",
    "\n",
    "- É necessário uma condição de parada"
   ]
  },
  {
   "cell_type": "code",
   "execution_count": 14,
   "id": "ad93c2a7",
   "metadata": {},
   "outputs": [
    {
     "name": "stdout",
     "output_type": "stream",
     "text": [
      "0\n",
      "1\n",
      "2\n",
      "3\n",
      "4\n"
     ]
    }
   ],
   "source": [
    "n = 0\n",
    "\n",
    "while n < 5:\n",
    "    print(n)\n",
    "    n += 1"
   ]
  },
  {
   "cell_type": "markdown",
   "id": "04f74387",
   "metadata": {},
   "source": [
    "#### break - Condição que força a parada de uma estrutura de repetição FOR ou WHILE"
   ]
  },
  {
   "cell_type": "code",
   "execution_count": 15,
   "id": "2f43a12b",
   "metadata": {},
   "outputs": [
    {
     "name": "stdout",
     "output_type": "stream",
     "text": [
      "5\n",
      "6\n",
      "7\n",
      "8\n"
     ]
    }
   ],
   "source": [
    "while True:\n",
    "    print(n)\n",
    "    n += 1\n",
    "    if n == 9:\n",
    "        break"
   ]
  },
  {
   "cell_type": "markdown",
   "id": "cc81c3f6",
   "metadata": {},
   "source": [
    "#### continue - desconsideera tudo abaixo dele, quando executado, e volta ao início do laço"
   ]
  },
  {
   "cell_type": "code",
   "execution_count": 18,
   "id": "3f552946",
   "metadata": {},
   "outputs": [
    {
     "name": "stdout",
     "output_type": "stream",
     "text": [
      "Digite a senha: 123\n",
      "Digite a senha: teste123\n",
      "Acesso liberado\n"
     ]
    }
   ],
   "source": [
    "senha = ''\n",
    "\n",
    "while senha != 'teste123':\n",
    "    senha = input('Digite a senha: ')\n",
    "    if senha != 'teste123':\n",
    "        continue\n",
    "    print('Acesso liberado')"
   ]
  },
  {
   "cell_type": "markdown",
   "id": "0456cf0a",
   "metadata": {},
   "source": [
    "#### else - pose ser utilizado no final de qualquer laço de repetição"
   ]
  },
  {
   "cell_type": "code",
   "execution_count": 19,
   "id": "71b15c49",
   "metadata": {},
   "outputs": [
    {
     "name": "stdout",
     "output_type": "stream",
     "text": [
      "Execulta no final do laço\n"
     ]
    }
   ],
   "source": [
    "n = -5\n",
    "while n < 0:\n",
    "    n += 1\n",
    "else:\n",
    "    print('Execulta no final do laço')"
   ]
  },
  {
   "attachments": {},
   "cell_type": "markdown",
   "id": "97c66475",
   "metadata": {},
   "source": [
    "|  [Estruturas Condicionais](https://github.com/NandesLima/python-codigos/blob/master/codigos/10-estruturas-condicionais.ipynb) | [Tuplas](https://github.com/NandesLima/python-codigos/blob/master/codigos/12-tuplas.ipynb) |\n",
    "| --------------------------------------------------------------------------- | ------------------------------------------------------------------------------------------------------------------------ |"
   ]
  }
 ],
 "metadata": {
  "kernelspec": {
   "display_name": "Python 3 (ipykernel)",
   "language": "python",
   "name": "python3"
  },
  "language_info": {
   "codemirror_mode": {
    "name": "ipython",
    "version": 3
   },
   "file_extension": ".py",
   "mimetype": "text/x-python",
   "name": "python",
   "nbconvert_exporter": "python",
   "pygments_lexer": "ipython3",
   "version": "3.9.12"
  }
 },
 "nbformat": 4,
 "nbformat_minor": 5
}
