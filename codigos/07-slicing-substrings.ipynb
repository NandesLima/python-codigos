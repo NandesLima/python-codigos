{
 "cells": [
  {
   "cell_type": "markdown",
   "id": "2c801419",
   "metadata": {},
   "source": [
    "# 07 - Slicing (Substrings)\n",
    "\n",
    "#### Retorna o caractere da posição indicada entre cochetes\n",
    "\n",
    "- O primeiro índice é 0\n",
    "- O último índice é -1\n",
    "- O penúltimo índice é -2 "
   ]
  },
  {
   "cell_type": "code",
   "execution_count": 2,
   "metadata": {},
   "outputs": [],
   "source": [
    "nome = 'Angelo Bardy idade 27'"
   ]
  },
  {
   "cell_type": "code",
   "execution_count": 3,
   "metadata": {},
   "outputs": [
    {
     "name": "stdout",
     "output_type": "stream",
     "text": [
      "t\n",
      "o\n"
     ]
    }
   ],
   "source": [
    "print('Texto teste'[3])\n",
    "print(nome[5])"
   ]
  },
  {
   "cell_type": "markdown",
   "id": "7cd1bfbf",
   "metadata": {},
   "source": [
    "#### Retornar os caracteres entre duas posições"
   ]
  },
  {
   "cell_type": "code",
   "execution_count": 4,
   "metadata": {},
   "outputs": [
    {
     "name": "stdout",
     "output_type": "stream",
     "text": [
      "gelo Bardy\n"
     ]
    }
   ],
   "source": [
    "print(nome[2:12])"
   ]
  },
  {
   "cell_type": "markdown",
   "id": "b3b1dd02",
   "metadata": {},
   "source": [
    "#### O terceiro número indica o salto, ou seja de quantos em quantos números ele conta pra considerar o próximo caractere"
   ]
  },
  {
   "cell_type": "code",
   "execution_count": 5,
   "metadata": {},
   "outputs": [
    {
     "name": "stdout",
     "output_type": "stream",
     "text": [
      "eoBryiae2\n"
     ]
    }
   ],
   "source": [
    "print(nome[3:-1:2])"
   ]
  },
  {
   "cell_type": "markdown",
   "id": "8e05a972",
   "metadata": {},
   "source": [
    "#### Retorna todos os caracteres a partir do primeiro indicado"
   ]
  },
  {
   "cell_type": "code",
   "execution_count": 6,
   "metadata": {},
   "outputs": [
    {
     "name": "stdout",
     "output_type": "stream",
     "text": [
      "elo Bardy idade 27\n"
     ]
    }
   ],
   "source": [
    "print(nome[3:])"
   ]
  },
  {
   "cell_type": "markdown",
   "id": "59f398a6",
   "metadata": {},
   "source": [
    "#### Retorna todos os caracteres antes do último indicado"
   ]
  },
  {
   "cell_type": "code",
   "execution_count": 7,
   "metadata": {},
   "outputs": [
    {
     "name": "stdout",
     "output_type": "stream",
     "text": [
      "Angelo Bardy id\n"
     ]
    }
   ],
   "source": [
    "print(nome[:15])"
   ]
  },
  {
   "cell_type": "markdown",
   "id": "3e0e1b4a",
   "metadata": {},
   "source": [
    "#### Retorna os caracteres contando a cada salto depois do inicial indicado"
   ]
  },
  {
   "cell_type": "code",
   "execution_count": 8,
   "metadata": {},
   "outputs": [
    {
     "name": "stdout",
     "output_type": "stream",
     "text": [
      "e r a \n"
     ]
    }
   ],
   "source": [
    "print(nome[3::3])"
   ]
  },
  {
   "cell_type": "markdown",
   "id": "fbbaf9ff",
   "metadata": {},
   "source": [
    "#### Retorna todos os caracteres a cada salto antes do final indicado"
   ]
  },
  {
   "cell_type": "code",
   "execution_count": 9,
   "metadata": {},
   "outputs": [
    {
     "name": "stdout",
     "output_type": "stream",
     "text": [
      "Agl ad dd\n"
     ]
    }
   ],
   "source": [
    "print(nome[:18:2])"
   ]
  },
  {
   "cell_type": "markdown",
   "id": "864cbb00",
   "metadata": {},
   "source": [
    "#### Retorna os caracteres considerando o salto"
   ]
  },
  {
   "cell_type": "code",
   "execution_count": 10,
   "metadata": {},
   "outputs": [
    {
     "name": "stdout",
     "output_type": "stream",
     "text": [
      "Agl ad dd 7\n"
     ]
    }
   ],
   "source": [
    "print(nome[::2])"
   ]
  },
  {
   "cell_type": "markdown",
   "id": "6dc352e1",
   "metadata": {},
   "source": [
    " #### Retorna o texto invertido"
   ]
  },
  {
   "cell_type": "code",
   "execution_count": 11,
   "metadata": {},
   "outputs": [
    {
     "name": "stdout",
     "output_type": "stream",
     "text": [
      "72 edadi ydraB olegnA\n"
     ]
    }
   ],
   "source": [
    "print(nome[::-1])"
   ]
  }
 ],
 "metadata": {
  "kernelspec": {
   "display_name": "Python 3.9.12 ('base')",
   "language": "python",
   "name": "python3"
  },
  "language_info": {
   "codemirror_mode": {
    "name": "ipython",
    "version": 3
   },
   "file_extension": ".py",
   "mimetype": "text/x-python",
   "name": "python",
   "nbconvert_exporter": "python",
   "pygments_lexer": "ipython3",
   "version": "3.9.12"
  },
  "orig_nbformat": 4,
  "vscode": {
   "interpreter": {
    "hash": "406138e5a602b00810fbe7ee529c90a879f88a9479754810ee7f6ab28412affb"
   }
  }
 },
 "nbformat": 4,
 "nbformat_minor": 2
}
