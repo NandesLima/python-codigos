{
 "cells": [
  {
   "cell_type": "markdown",
   "id": "fb748e44",
   "metadata": {},
   "source": [
    "# Módulo OS\n",
    "\n",
    "#### Acessa objetos e funções que trabalham com o systema operacional"
   ]
  },
  {
   "cell_type": "code",
   "execution_count": 1,
   "id": "d9945360",
   "metadata": {},
   "outputs": [],
   "source": [
    "import os"
   ]
  },
  {
   "cell_type": "markdown",
   "id": "b1712076",
   "metadata": {},
   "source": [
    "#### .path.exists() - Verifica se existe um determinado arquivo"
   ]
  },
  {
   "cell_type": "code",
   "execution_count": 2,
   "id": "bd79e09d",
   "metadata": {},
   "outputs": [
    {
     "name": "stdout",
     "output_type": "stream",
     "text": [
      "False\n"
     ]
    }
   ],
   "source": [
    "arquivo = 'teste.txt'\n",
    "\n",
    "print(os.path.exists(arquivo))"
   ]
  },
  {
   "cell_type": "code",
   "execution_count": 4,
   "id": "d967c51e",
   "metadata": {},
   "outputs": [
    {
     "name": "stdout",
     "output_type": "stream",
     "text": [
      "True\n"
     ]
    }
   ],
   "source": [
    "arquivo = '../14-texto.txt'\n",
    "\n",
    "print(os.path.exists(arquivo))"
   ]
  },
  {
   "cell_type": "markdown",
   "id": "b805a97f",
   "metadata": {},
   "source": [
    "#### .system() - Utiliza comandos do terminal"
   ]
  },
  {
   "cell_type": "code",
   "execution_count": 5,
   "id": "4c9e0e7e",
   "metadata": {},
   "outputs": [
    {
     "name": "stdout",
     "output_type": "stream",
     "text": [
      "Imitando o print\n"
     ]
    },
    {
     "data": {
      "text/plain": [
       "0"
      ]
     },
     "execution_count": 5,
     "metadata": {},
     "output_type": "execute_result"
    }
   ],
   "source": [
    "escrever = \"echo 'Imitando o print'\"\n",
    "\n",
    "os.system(escrever)"
   ]
  },
  {
   "cell_type": "code",
   "execution_count": 7,
   "id": "843f4d52",
   "metadata": {},
   "outputs": [
    {
     "name": "stdout",
     "output_type": "stream",
     "text": [
      "\u001b[H\u001b[2J"
     ]
    },
    {
     "data": {
      "text/plain": [
       "0"
      ]
     },
     "execution_count": 7,
     "metadata": {},
     "output_type": "execute_result"
    }
   ],
   "source": [
    "limpar = \"cls\" # Comando de limpar a tela do windows (shell)\n",
    "limpar = \"clear\" # Comando de limpar a tela do linux (unix/bash)\n",
    "\n",
    "os.system(limpar)"
   ]
  },
  {
   "cell_type": "code",
   "execution_count": 8,
   "id": "e9721cb6",
   "metadata": {},
   "outputs": [
    {
     "name": "stderr",
     "output_type": "stream",
     "text": [
      "sh: 1: read: arg count\n"
     ]
    },
    {
     "data": {
      "text/plain": [
       "512"
      ]
     },
     "execution_count": 8,
     "metadata": {},
     "output_type": "execute_result"
    }
   ],
   "source": [
    "pausar = \"pause\" # Pausa a execução no windows\n",
    "pausar = \"read -p 'Precione ENTER para continuar...'\" # Pausa a execução no linux\n",
    "\n",
    "os.system(pausar)"
   ]
  },
  {
   "cell_type": "markdown",
   "id": "c1ed3366",
   "metadata": {},
   "source": [
    "#### read métodode de leitura do bash, aguarda precionar ENTER para continuar\n",
    "#### -s modo silencioso, aguarda qualquer tecla ser precionada, mas não guarda o seu valor\n",
    "#### -r coloca no modo rudimentar necessário para que considere teclas como /\n",
    "#### -p especifica o prompt"
   ]
  }
 ],
 "metadata": {
  "kernelspec": {
   "display_name": "Python 3 (ipykernel)",
   "language": "python",
   "name": "python3"
  },
  "language_info": {
   "codemirror_mode": {
    "name": "ipython",
    "version": 3
   },
   "file_extension": ".py",
   "mimetype": "text/x-python",
   "name": "python",
   "nbconvert_exporter": "python",
   "pygments_lexer": "ipython3",
   "version": "3.9.12"
  }
 },
 "nbformat": 4,
 "nbformat_minor": 5
}
