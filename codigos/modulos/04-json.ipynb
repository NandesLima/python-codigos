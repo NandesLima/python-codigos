{
 "cells": [
  {
   "cell_type": "markdown",
   "id": "9d13f8b6",
   "metadata": {},
   "source": [
    "# json\n",
    "\n",
    "#### Módulo próprio para manipulação de arquivos json\n",
    "#### Arquivos JSON tem o mesmo formato de dicionários em Python"
   ]
  },
  {
   "cell_type": "code",
   "execution_count": 1,
   "id": "ea40d066",
   "metadata": {},
   "outputs": [],
   "source": [
    "import json"
   ]
  },
  {
   "cell_type": "markdown",
   "id": "ba738d0e",
   "metadata": {},
   "source": [
    "#### .dump() - Permite escrever no arquivo json, primeiro parâmetro é o conteúdo que será escrito, o segundo parâmetro é o arquivo json"
   ]
  },
  {
   "cell_type": "code",
   "execution_count": 2,
   "id": "f60de647",
   "metadata": {},
   "outputs": [],
   "source": [
    "arquivo = 'teste.json'\n",
    "\n",
    "escrever = {\"key1\":\"valor1\",\n",
    "            \"key2\":\"valor2\"}\n",
    "\n",
    "with open(arquivo, 'w') as arquivo_json:\n",
    "    json.dump(escrever, arquivo_json)"
   ]
  },
  {
   "cell_type": "markdown",
   "id": "3e800094",
   "metadata": {},
   "source": [
    "#### .load() - Faz a leitura do arquivo json em uma variável"
   ]
  },
  {
   "cell_type": "code",
   "execution_count": 3,
   "id": "d581eaef",
   "metadata": {},
   "outputs": [
    {
     "name": "stdout",
     "output_type": "stream",
     "text": [
      "{'key1': 'valor1', 'key2': 'valor2'}\n"
     ]
    }
   ],
   "source": [
    "arquivo_json = open(arquivo, 'r')\n",
    "ler = json.load(arquivo_json)\n",
    "print(ler)\n",
    "arquivo_json.close()"
   ]
  }
 ],
 "metadata": {
  "kernelspec": {
   "display_name": "Python 3 (ipykernel)",
   "language": "python",
   "name": "python3"
  },
  "language_info": {
   "codemirror_mode": {
    "name": "ipython",
    "version": 3
   },
   "file_extension": ".py",
   "mimetype": "text/x-python",
   "name": "python",
   "nbconvert_exporter": "python",
   "pygments_lexer": "ipython3",
   "version": "3.9.12"
  }
 },
 "nbformat": 4,
 "nbformat_minor": 5
}
