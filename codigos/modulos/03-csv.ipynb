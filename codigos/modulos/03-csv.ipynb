{
 "cells": [
  {
   "cell_type": "markdown",
   "id": "803a477d",
   "metadata": {},
   "source": [
    "# CSV\n",
    "\n",
    "#### Biblioteca para manipulação de arquivos csv"
   ]
  },
  {
   "cell_type": "code",
   "execution_count": 15,
   "id": "cc202890",
   "metadata": {},
   "outputs": [],
   "source": [
    "import csv"
   ]
  },
  {
   "cell_type": "markdown",
   "id": "40105a2a",
   "metadata": {},
   "source": [
    "#### .writer() - Permite escrever no modo csv\n",
    "#### .writerow() - Escreve toda uma linha, utilizando uma lista"
   ]
  },
  {
   "cell_type": "code",
   "execution_count": 16,
   "id": "7d5989c2",
   "metadata": {},
   "outputs": [],
   "source": [
    "arquivo = 'teste.csv'\n",
    "\n",
    "with open(arquivo, 'w') as arquivo_csv:\n",
    "    escritor = csv.writer(arquivo_csv)\n",
    "    escritor.writerow(['nome','sobrenome','e-mail','genero'])"
   ]
  },
  {
   "cell_type": "markdown",
   "id": "38ed3b7a",
   "metadata": {},
   "source": [
    "#### .reader() - Cada linha do csv se torna uma lista com seus elementos separados"
   ]
  },
  {
   "cell_type": "code",
   "execution_count": 17,
   "id": "5fbea282",
   "metadata": {},
   "outputs": [
    {
     "name": "stdout",
     "output_type": "stream",
     "text": [
      "['nome', 'sobrenome', 'e-mail', 'genero']\n"
     ]
    }
   ],
   "source": [
    "arquivo_csv = open(arquivo, 'r')\n",
    "leitor = csv.reader(arquivo_csv)\n",
    "for i in leitor:\n",
    "    print(i)\n",
    "arquivo_csv.close()"
   ]
  },
  {
   "cell_type": "markdown",
   "id": "9d955399",
   "metadata": {},
   "source": [
    "#### newline - troca o caractere \\n no final de cada linha pelo selecionado"
   ]
  },
  {
   "cell_type": "code",
   "execution_count": 18,
   "id": "07f643f6",
   "metadata": {},
   "outputs": [],
   "source": [
    "with open(arquivo, 'a', newline='') as arquivo_csv:\n",
    "    escritor = csv.writer(arquivo_csv)\n",
    "    escritor.writerow(['Angelo', 'Bardy', 'angelobardy@email.com', 'Masculino']) # A cada linha o Python por padrão adiciona uma quebra de linha\n",
    "    escritor.writerow(['Francisco', 'Elias', 'franelias@email.com', 'Masculino'])"
   ]
  },
  {
   "cell_type": "code",
   "execution_count": 19,
   "id": "71b46971",
   "metadata": {},
   "outputs": [
    {
     "name": "stdout",
     "output_type": "stream",
     "text": [
      "['nome', 'sobrenome', 'e-mail', 'genero']\n",
      "['Angelo', 'Bardy', 'angelobardy@email.com', 'Masculino']\n",
      "['Francisco', 'Elias', 'franelias@email.com', 'Masculino']\n"
     ]
    }
   ],
   "source": [
    "arquivo_csv = open(arquivo, 'r')\n",
    "leitor = csv.reader(arquivo_csv)\n",
    "for i in leitor:\n",
    "    print(i)\n",
    "arquivo_csv.close()"
   ]
  },
  {
   "cell_type": "markdown",
   "id": "1b3ee8fb",
   "metadata": {},
   "source": [
    "#### .writerows() - Adiciona mais de uma linha"
   ]
  },
  {
   "cell_type": "code",
   "execution_count": 20,
   "id": "add7131f",
   "metadata": {},
   "outputs": [],
   "source": [
    "dados = [['Maria', 'Sertão', 'maria@email.com', 'Feminino'],['Fatima', 'Isolda', 'fatima@email.com', 'Feminino']]\n",
    "\n",
    "with open(arquivo, 'a', newline='') as arquivo_csv:\n",
    "    escritor = csv.writer(arquivo_csv)\n",
    "    escritor.writerows(dados)"
   ]
  },
  {
   "cell_type": "markdown",
   "id": "74405eb5",
   "metadata": {},
   "source": [
    "#### next() - Ignora uma das interação do arquivo"
   ]
  },
  {
   "cell_type": "code",
   "execution_count": 22,
   "id": "3cf1be5c",
   "metadata": {},
   "outputs": [
    {
     "name": "stdout",
     "output_type": "stream",
     "text": [
      "['Angelo', 'Bardy', 'angelobardy@email.com', 'Masculino']\n",
      "['Francisco', 'Elias', 'franelias@email.com', 'Masculino']\n",
      "['Maria', 'Sertão', 'maria@email.com', 'Feminino']\n",
      "['Fatima', 'Isolda', 'fatima@email.com', 'Feminino']\n"
     ]
    }
   ],
   "source": [
    "arquivo_csv = open(arquivo, 'r')\n",
    "leitor = csv.reader(arquivo_csv)\n",
    "cabecalho = next(leitor)\n",
    "for i in leitor:\n",
    "    print(i)\n",
    "arquivo_csv.close()"
   ]
  },
  {
   "cell_type": "code",
   "execution_count": 23,
   "id": "6b9bf07b",
   "metadata": {},
   "outputs": [
    {
     "name": "stdout",
     "output_type": "stream",
     "text": [
      "['nome', 'sobrenome', 'e-mail', 'genero']\n"
     ]
    }
   ],
   "source": [
    "print(cabecalho)"
   ]
  }
 ],
 "metadata": {
  "kernelspec": {
   "display_name": "Python 3 (ipykernel)",
   "language": "python",
   "name": "python3"
  },
  "language_info": {
   "codemirror_mode": {
    "name": "ipython",
    "version": 3
   },
   "file_extension": ".py",
   "mimetype": "text/x-python",
   "name": "python",
   "nbconvert_exporter": "python",
   "pygments_lexer": "ipython3",
   "version": "3.9.12"
  }
 },
 "nbformat": 4,
 "nbformat_minor": 5
}
