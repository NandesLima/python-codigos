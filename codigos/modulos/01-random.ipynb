{
 "cells": [
  {
   "cell_type": "markdown",
   "id": "a7b99a68",
   "metadata": {},
   "source": [
    "# Random\n",
    "\n",
    "#### Módulo de valores aleatórios"
   ]
  },
  {
   "cell_type": "code",
   "execution_count": 1,
   "id": "55609e9b",
   "metadata": {},
   "outputs": [],
   "source": [
    "import random"
   ]
  },
  {
   "cell_type": "markdown",
   "id": "d78510bb",
   "metadata": {},
   "source": [
    "#### .random() - Gera um float aleatório entre 0 e 1"
   ]
  },
  {
   "cell_type": "code",
   "execution_count": 2,
   "id": "a1fde4cf",
   "metadata": {},
   "outputs": [
    {
     "name": "stdout",
     "output_type": "stream",
     "text": [
      "0.388610051837321\n"
     ]
    }
   ],
   "source": [
    "print(random.random())"
   ]
  },
  {
   "cell_type": "code",
   "execution_count": 3,
   "id": "3ffbfc7b",
   "metadata": {},
   "outputs": [
    {
     "name": "stdout",
     "output_type": "stream",
     "text": [
      "0.5005978002280589\n"
     ]
    }
   ],
   "source": [
    "print(random.random())"
   ]
  },
  {
   "cell_type": "markdown",
   "id": "ea9e80c6",
   "metadata": {},
   "source": [
    "#### .randint() - Escolhe um número aleatório entre o primeiro e o segundo número"
   ]
  },
  {
   "cell_type": "code",
   "execution_count": 4,
   "id": "81f5dcd9",
   "metadata": {},
   "outputs": [
    {
     "name": "stdout",
     "output_type": "stream",
     "text": [
      "14\n"
     ]
    }
   ],
   "source": [
    "print(random.randint(10,101))"
   ]
  },
  {
   "cell_type": "code",
   "execution_count": 5,
   "id": "8a78590d",
   "metadata": {},
   "outputs": [
    {
     "name": "stdout",
     "output_type": "stream",
     "text": [
      "90\n"
     ]
    }
   ],
   "source": [
    "print(random.randint(10,101))"
   ]
  },
  {
   "cell_type": "markdown",
   "id": "04940b00",
   "metadata": {},
   "source": [
    "#### .choice() - Escolhe aleatoriamente o valor de uma sequência"
   ]
  },
  {
   "cell_type": "code",
   "execution_count": 6,
   "id": "f1252a94",
   "metadata": {},
   "outputs": [
    {
     "name": "stdout",
     "output_type": "stream",
     "text": [
      "Valor4\n"
     ]
    }
   ],
   "source": [
    "lista = ['Valor1','Valor2','Valor3','Valor4','Valor5']\n",
    "\n",
    "print(random.choice(lista))"
   ]
  },
  {
   "cell_type": "code",
   "execution_count": 7,
   "id": "27d98e54",
   "metadata": {},
   "outputs": [
    {
     "name": "stdout",
     "output_type": "stream",
     "text": [
      "Valor3\n"
     ]
    }
   ],
   "source": [
    "tupla = tuple(lista)\n",
    "\n",
    "print(random.choice(tupla))"
   ]
  },
  {
   "cell_type": "markdown",
   "id": "45ddfc3a",
   "metadata": {},
   "source": [
    "#### .sample() - Sorteia de forma aleatória a quantidade de elementos da lista, indicada no segundo parâmetro"
   ]
  },
  {
   "cell_type": "code",
   "execution_count": 8,
   "id": "ea853e8d",
   "metadata": {},
   "outputs": [
    {
     "name": "stdout",
     "output_type": "stream",
     "text": [
      "['Valor1', 'Valor3']\n"
     ]
    }
   ],
   "source": [
    "print(random.sample(lista, 2))"
   ]
  },
  {
   "cell_type": "code",
   "execution_count": 9,
   "id": "044c10a9",
   "metadata": {},
   "outputs": [
    {
     "name": "stdout",
     "output_type": "stream",
     "text": [
      "['Valor2', 'Valor5', 'Valor4']\n"
     ]
    }
   ],
   "source": [
    "print(random.sample(lista, 3))"
   ]
  },
  {
   "cell_type": "markdown",
   "id": "cb6f774e",
   "metadata": {},
   "source": [
    "#### .shuffle() - Embaralha os elementos de uma sequência"
   ]
  },
  {
   "cell_type": "code",
   "execution_count": 11,
   "id": "8b8778cd",
   "metadata": {},
   "outputs": [
    {
     "name": "stdout",
     "output_type": "stream",
     "text": [
      "['Valor5', 'Valor1', 'Valor2', 'Valor3', 'Valor4']\n"
     ]
    }
   ],
   "source": [
    "random.shuffle(lista)\n",
    "\n",
    "print(lista)"
   ]
  }
 ],
 "metadata": {
  "kernelspec": {
   "display_name": "Python 3 (ipykernel)",
   "language": "python",
   "name": "python3"
  },
  "language_info": {
   "codemirror_mode": {
    "name": "ipython",
    "version": 3
   },
   "file_extension": ".py",
   "mimetype": "text/x-python",
   "name": "python",
   "nbconvert_exporter": "python",
   "pygments_lexer": "ipython3",
   "version": "3.9.12"
  }
 },
 "nbformat": 4,
 "nbformat_minor": 5
}
