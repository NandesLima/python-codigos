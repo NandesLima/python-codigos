{
 "cells": [
  {
   "cell_type": "markdown",
   "id": "211ea9a2",
   "metadata": {},
   "source": [
    "# Shutil\n",
    "\n",
    "#### Módulo de manipulção de arquivos"
   ]
  },
  {
   "cell_type": "code",
   "execution_count": 1,
   "id": "118e4cd8",
   "metadata": {},
   "outputs": [],
   "source": [
    "import shutil"
   ]
  },
  {
   "cell_type": "markdown",
   "id": "e9ce86e9",
   "metadata": {},
   "source": [
    "#### .copy() - Copia o arquivo do primeiro parâmetro para o local do segundo parâmetro. Sem um novo nome, o anterior permanece, se não for selecionado um diretório, faz a cópia no mesmo."
   ]
  },
  {
   "cell_type": "code",
   "execution_count": 3,
   "id": "ff459da6",
   "metadata": {},
   "outputs": [
    {
     "data": {
      "text/plain": [
       "'arquivo_de_copias/copia-texto.txt'"
      ]
     },
     "execution_count": 3,
     "metadata": {},
     "output_type": "execute_result"
    }
   ],
   "source": [
    "shutil.copy(\"../14-texto.txt\",\"arquivo_de_copias/copia-texto.txt\")"
   ]
  },
  {
   "cell_type": "code",
   "execution_count": 4,
   "id": "fbd1c7df",
   "metadata": {},
   "outputs": [
    {
     "data": {
      "text/plain": [
       "'arquivo_de_copias/14-texto.txt'"
      ]
     },
     "execution_count": 4,
     "metadata": {},
     "output_type": "execute_result"
    }
   ],
   "source": [
    "shutil.copy(\"../14-texto.txt\",\"arquivo_de_copias/\")"
   ]
  },
  {
   "cell_type": "code",
   "execution_count": 5,
   "id": "b172d9b0",
   "metadata": {},
   "outputs": [
    {
     "data": {
      "text/plain": [
       "'copia-texto.txt'"
      ]
     },
     "execution_count": 5,
     "metadata": {},
     "output_type": "execute_result"
    }
   ],
   "source": [
    "shutil.copy(\"../14-texto.txt\",\"copia-texto.txt\")"
   ]
  },
  {
   "cell_type": "markdown",
   "id": "5b519e12",
   "metadata": {},
   "source": [
    "#### .move() - Move o arquivo do primeiro parâmetro, para o local do do segundo parâmetro. Sem um novo nome, o anterior permanece, se não for selecionado um diretório, move para o atual."
   ]
  },
  {
   "cell_type": "code",
   "execution_count": 6,
   "id": "38ed123f",
   "metadata": {},
   "outputs": [
    {
     "data": {
      "text/plain": [
       "'texto.txt'"
      ]
     },
     "execution_count": 6,
     "metadata": {},
     "output_type": "execute_result"
    }
   ],
   "source": [
    "shutil.move(\"arquivo_de_copias/copia-texto.txt\", \"texto.txt\")"
   ]
  },
  {
   "cell_type": "code",
   "execution_count": 7,
   "id": "7e9950fc",
   "metadata": {},
   "outputs": [
    {
     "data": {
      "text/plain": [
       "'arquivo_de_copias/copia-texto.txt'"
      ]
     },
     "execution_count": 7,
     "metadata": {},
     "output_type": "execute_result"
    }
   ],
   "source": [
    "shutil.move(\"copia-texto.txt\", \"arquivo_de_copias/\")"
   ]
  },
  {
   "cell_type": "code",
   "execution_count": 8,
   "id": "7157600c",
   "metadata": {},
   "outputs": [
    {
     "data": {
      "text/plain": [
       "'copia-texto.txt'"
      ]
     },
     "execution_count": 8,
     "metadata": {},
     "output_type": "execute_result"
    }
   ],
   "source": [
    "shutil.move(\"texto.txt\", \"copia-texto.txt\")"
   ]
  }
 ],
 "metadata": {
  "kernelspec": {
   "display_name": "Python 3 (ipykernel)",
   "language": "python",
   "name": "python3"
  },
  "language_info": {
   "codemirror_mode": {
    "name": "ipython",
    "version": 3
   },
   "file_extension": ".py",
   "mimetype": "text/x-python",
   "name": "python",
   "nbconvert_exporter": "python",
   "pygments_lexer": "ipython3",
   "version": "3.9.12"
  }
 },
 "nbformat": 4,
 "nbformat_minor": 5
}
