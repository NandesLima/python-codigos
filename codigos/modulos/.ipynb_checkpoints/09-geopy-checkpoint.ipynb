{
 "cells": [
  {
   "cell_type": "markdown",
   "id": "92abe7da",
   "metadata": {},
   "source": [
    "# Geopy\n",
    "\n",
    "#### Módulo de manipulação de dados de geolocalização"
   ]
  },
  {
   "cell_type": "code",
   "execution_count": 1,
   "id": "c2eafbce",
   "metadata": {},
   "outputs": [],
   "source": [
    "from geopy.geocoders import Nominatim"
   ]
  },
  {
   "cell_type": "markdown",
   "id": "ec8b73f5",
   "metadata": {},
   "source": [
    "#### Nominatim() - nomeia o usuário"
   ]
  },
  {
   "cell_type": "code",
   "execution_count": 2,
   "id": "ec605ca0",
   "metadata": {},
   "outputs": [],
   "source": [
    "geolocalizacao = Nominatim(user_agent=\"Geolocalizacao\")"
   ]
  },
  {
   "cell_type": "markdown",
   "id": "cb37daca",
   "metadata": {},
   "source": [
    "#### .geocode() - Retorna o endereço completo de parte de um endereço"
   ]
  },
  {
   "cell_type": "code",
   "execution_count": 8,
   "id": "9e5f244b",
   "metadata": {},
   "outputs": [
    {
     "name": "stdout",
     "output_type": "stream",
     "text": [
      "Estádio Severiano Gomes Filho, Rua Basileu Mendes, Pajuçara, Maceió, Região Geográfica Imediata de Maceió, Região Geográfica Intermediária de Maceió, Alagoas, Região Nordeste, 57030-050, Brasil\n",
      "<class 'geopy.location.Location'>\n"
     ]
    }
   ],
   "source": [
    "endereco = 'Pajuçara'\n",
    "localizacao = geolocalizacao.geocode(endereco)\n",
    "\n",
    "print(localizacao)\n",
    "print(type(localizacao))"
   ]
  },
  {
   "cell_type": "code",
   "execution_count": 9,
   "id": "af0e2d38",
   "metadata": {},
   "outputs": [
    {
     "name": "stdout",
     "output_type": "stream",
     "text": [
      "Estádio Severiano Gomes Filho\n",
      "Rua Basileu Mendes\n",
      "Pajuçara\n",
      "Maceió\n",
      "Região Geográfica Imediata de Maceió\n",
      "Região Geográfica Intermediária de Maceió\n",
      "Alagoas\n",
      "Região Nordeste\n",
      "57030-050\n",
      "Brasil\n"
     ]
    }
   ],
   "source": [
    "lista = str(localizacao).split(',')\n",
    "\n",
    "for i in lista:\n",
    "    if i[0] != ' ':\n",
    "        print(i)\n",
    "        continue\n",
    "    print(i[1:])"
   ]
  }
 ],
 "metadata": {
  "kernelspec": {
   "display_name": "Python 3 (ipykernel)",
   "language": "python",
   "name": "python3"
  },
  "language_info": {
   "codemirror_mode": {
    "name": "ipython",
    "version": 3
   },
   "file_extension": ".py",
   "mimetype": "text/x-python",
   "name": "python",
   "nbconvert_exporter": "python",
   "pygments_lexer": "ipython3",
   "version": "3.9.12"
  }
 },
 "nbformat": 4,
 "nbformat_minor": 5
}
