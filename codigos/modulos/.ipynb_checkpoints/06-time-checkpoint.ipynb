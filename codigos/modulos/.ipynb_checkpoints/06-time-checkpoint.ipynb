{
 "cells": [
  {
   "cell_type": "markdown",
   "id": "346c6d13",
   "metadata": {},
   "source": [
    "# time\n",
    "\n",
    "#### Módulo de manipulação de tempo"
   ]
  },
  {
   "cell_type": "code",
   "execution_count": 1,
   "id": "2c2cb963",
   "metadata": {},
   "outputs": [],
   "source": [
    "import time"
   ]
  },
  {
   "cell_type": "markdown",
   "id": "d354270d",
   "metadata": {},
   "source": [
    "#### .sleep() - Pausa o programa por um período em segundos"
   ]
  },
  {
   "cell_type": "code",
   "execution_count": 2,
   "id": "97121f0c",
   "metadata": {},
   "outputs": [],
   "source": [
    "time.sleep(10)"
   ]
  }
 ],
 "metadata": {
  "kernelspec": {
   "display_name": "Python 3 (ipykernel)",
   "language": "python",
   "name": "python3"
  },
  "language_info": {
   "codemirror_mode": {
    "name": "ipython",
    "version": 3
   },
   "file_extension": ".py",
   "mimetype": "text/x-python",
   "name": "python",
   "nbconvert_exporter": "python",
   "pygments_lexer": "ipython3",
   "version": "3.9.12"
  }
 },
 "nbformat": 4,
 "nbformat_minor": 5
}
