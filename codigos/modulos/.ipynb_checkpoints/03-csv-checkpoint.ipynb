{
 "cells": [
  {
   "cell_type": "markdown",
   "id": "49b7b0fe",
   "metadata": {},
   "source": [
    "# CSV\n",
    "\n",
    "#### Biblioteca para manipulação de arquivos csv"
   ]
  },
  {
   "cell_type": "code",
   "execution_count": 15,
   "id": "437777e1",
   "metadata": {},
   "outputs": [],
   "source": [
    "import csv"
   ]
  },
  {
   "cell_type": "markdown",
   "id": "58a322ce",
   "metadata": {},
   "source": [
    "#### .writer() - Permite escrever no modo csv\n",
    "#### .writerow() - Escreve toda uma linha, utilizando uma lista"
   ]
  },
  {
   "cell_type": "code",
   "execution_count": 16,
   "id": "bf7d35f1",
   "metadata": {},
   "outputs": [],
   "source": [
    "arquivo = 'teste.csv'\n",
    "\n",
    "with open(arquivo, 'w') as arquivo_csv:\n",
    "    escritor = csv.writer(arquivo_csv)\n",
    "    escritor.writerow(['nome','sobrenome','e-mail','genero'])"
   ]
  },
  {
   "cell_type": "markdown",
   "id": "69b8fc3c",
   "metadata": {},
   "source": [
    "#### .reader() - Cada linha do csv se torna uma lista com seus elementos separados"
   ]
  },
  {
   "cell_type": "code",
   "execution_count": 17,
   "id": "80b8cd84",
   "metadata": {},
   "outputs": [
    {
     "name": "stdout",
     "output_type": "stream",
     "text": [
      "['nome', 'sobrenome', 'e-mail', 'genero']\n"
     ]
    }
   ],
   "source": [
    "arquivo_csv = open(arquivo, 'r')\n",
    "leitor = csv.reader(arquivo_csv)\n",
    "for i in leitor:\n",
    "    print(i)\n",
    "arquivo_csv.close()"
   ]
  },
  {
   "cell_type": "markdown",
   "id": "49e25504",
   "metadata": {},
   "source": [
    "#### newline - troca o caractere \\n no final de cada linha pelo selecionado"
   ]
  },
  {
   "cell_type": "code",
   "execution_count": 18,
   "id": "ecafdb75",
   "metadata": {},
   "outputs": [],
   "source": [
    "with open(arquivo, 'a', newline='') as arquivo_csv:\n",
    "    escritor = csv.writer(arquivo_csv)\n",
    "    escritor.writerow(['Angelo', 'Bardy', 'angelobardy@email.com', 'Masculino']) # A cada linha o Python por padrão adiciona uma quebra de linha\n",
    "    escritor.writerow(['Francisco', 'Elias', 'franelias@email.com', 'Masculino'])"
   ]
  },
  {
   "cell_type": "code",
   "execution_count": 19,
   "id": "22567620",
   "metadata": {},
   "outputs": [
    {
     "name": "stdout",
     "output_type": "stream",
     "text": [
      "['nome', 'sobrenome', 'e-mail', 'genero']\n",
      "['Angelo', 'Bardy', 'angelobardy@email.com', 'Masculino']\n",
      "['Francisco', 'Elias', 'franelias@email.com', 'Masculino']\n"
     ]
    }
   ],
   "source": [
    "arquivo_csv = open(arquivo, 'r')\n",
    "leitor = csv.reader(arquivo_csv)\n",
    "for i in leitor:\n",
    "    print(i)\n",
    "arquivo_csv.close()"
   ]
  },
  {
   "cell_type": "markdown",
   "id": "0ee0979f",
   "metadata": {},
   "source": [
    "#### .writerows() - Adiciona mais de uma linha"
   ]
  },
  {
   "cell_type": "code",
   "execution_count": 20,
   "id": "90da3f80",
   "metadata": {},
   "outputs": [],
   "source": [
    "dados = [['Maria', 'Sertão', 'maria@email.com', 'Feminino'],['Fatima', 'Isolda', 'fatima@email.com', 'Feminino']]\n",
    "\n",
    "with open(arquivo, 'a', newline='') as arquivo_csv:\n",
    "    escritor = csv.writer(arquivo_csv)\n",
    "    escritor.writerows(dados)"
   ]
  },
  {
   "cell_type": "markdown",
   "id": "0ac525f9",
   "metadata": {},
   "source": [
    "#### next() - Ignora uma das interação do arquivo"
   ]
  },
  {
   "cell_type": "code",
   "execution_count": 21,
   "id": "9c64ee4f",
   "metadata": {},
   "outputs": [
    {
     "name": "stdout",
     "output_type": "stream",
     "text": [
      "['Angelo', 'Bardy', 'angelobardy@email.com', 'Masculino']\n",
      "['Francisco', 'Elias', 'franelias@email.com', 'Masculino']\n",
      "['Maria', 'Sertão', 'maria@email.com', 'Feminino']\n",
      "['Fatima', 'Isolda', 'fatima@email.com', 'Feminino']\n",
      "['nome', 'sobrenome', 'e-mail', 'genero']\n"
     ]
    }
   ],
   "source": [
    "arquivo_csv = open(arquivo, 'r')\n",
    "leitor = csv.reader(arquivo_csv)\n",
    "cabecalho = next(leitor)\n",
    "for i in leitor:\n",
    "    print(i)\n",
    "arquivo_csv.close()\n",
    "\n",
    "print(cabecalho)"
   ]
  }
 ],
 "metadata": {
  "kernelspec": {
   "display_name": "Python 3 (ipykernel)",
   "language": "python",
   "name": "python3"
  },
  "language_info": {
   "codemirror_mode": {
    "name": "ipython",
    "version": 3
   },
   "file_extension": ".py",
   "mimetype": "text/x-python",
   "name": "python",
   "nbconvert_exporter": "python",
   "pygments_lexer": "ipython3",
   "version": "3.9.12"
  }
 },
 "nbformat": 4,
 "nbformat_minor": 5
}
