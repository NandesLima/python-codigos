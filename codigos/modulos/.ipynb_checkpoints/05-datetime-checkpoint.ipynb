{
 "cells": [
  {
   "cell_type": "markdown",
   "id": "ffdbb2c9",
   "metadata": {},
   "source": [
    "# datetime\n",
    "\n",
    "#### Biblioteca de manipulação de data e hora"
   ]
  },
  {
   "cell_type": "code",
   "execution_count": 2,
   "id": "2744877e",
   "metadata": {},
   "outputs": [],
   "source": [
    "import datetime"
   ]
  },
  {
   "cell_type": "markdown",
   "id": "cea612ec",
   "metadata": {},
   "source": [
    "## date\n",
    "\n",
    "#### Manipulação de datas"
   ]
  },
  {
   "cell_type": "code",
   "execution_count": 3,
   "id": "2048c714",
   "metadata": {},
   "outputs": [],
   "source": [
    "from datetime import date"
   ]
  },
  {
   "cell_type": "markdown",
   "id": "55ec9a64",
   "metadata": {},
   "source": [
    "#### .date() - Cria uma data"
   ]
  },
  {
   "cell_type": "code",
   "execution_count": 13,
   "id": "4fe3e3c3",
   "metadata": {},
   "outputs": [
    {
     "name": "stdout",
     "output_type": "stream",
     "text": [
      "1966-03-30\n"
     ]
    }
   ],
   "source": [
    "data = date(day=30, month=3, year=1966)\n",
    "print(data)"
   ]
  },
  {
   "cell_type": "markdown",
   "id": "605711af",
   "metadata": {},
   "source": [
    "#### .today() - Importa a data atual no formato ano-mês-dia"
   ]
  },
  {
   "cell_type": "code",
   "execution_count": 9,
   "id": "cac5929f",
   "metadata": {},
   "outputs": [
    {
     "name": "stdout",
     "output_type": "stream",
     "text": [
      "2022-10-21\n",
      "<class 'datetime.date'>\n"
     ]
    }
   ],
   "source": [
    "print(date.today())\n",
    "\n",
    "print(type(date.today()))"
   ]
  },
  {
   "cell_type": "code",
   "execution_count": 6,
   "id": "644bc69b",
   "metadata": {},
   "outputs": [
    {
     "name": "stdout",
     "output_type": "stream",
     "text": [
      "2022\n"
     ]
    }
   ],
   "source": [
    "print(date.today().year)"
   ]
  },
  {
   "cell_type": "code",
   "execution_count": 7,
   "id": "ead06a2e",
   "metadata": {},
   "outputs": [
    {
     "name": "stdout",
     "output_type": "stream",
     "text": [
      "10\n"
     ]
    }
   ],
   "source": [
    "print(date.today().month)"
   ]
  },
  {
   "cell_type": "code",
   "execution_count": 8,
   "id": "d88414a5",
   "metadata": {},
   "outputs": [
    {
     "name": "stdout",
     "output_type": "stream",
     "text": [
      "21\n"
     ]
    }
   ],
   "source": [
    "print(date.today().day)"
   ]
  },
  {
   "cell_type": "markdown",
   "id": "63079ff1",
   "metadata": {},
   "source": [
    "#### .strftime() - Formata o tipo da data utilizando strings\n",
    "\n",
    "##### %d -> dia\n",
    "##### %m -> mês\n",
    "##### %y -> ano com 2 digitos\n",
    "##### %Y -> ano com 4 digitos"
   ]
  },
  {
   "cell_type": "code",
   "execution_count": 11,
   "id": "0781e6f4",
   "metadata": {},
   "outputs": [
    {
     "name": "stdout",
     "output_type": "stream",
     "text": [
      "21/10/2022\n",
      "<class 'str'>\n"
     ]
    }
   ],
   "source": [
    "data_atual = date.today().strftime(\"%d/%m/%Y\")\n",
    "\n",
    "print(data_atual)\n",
    "print(type(data_atual))"
   ]
  },
  {
   "cell_type": "markdown",
   "id": "a0327052",
   "metadata": {},
   "source": [
    "## time\n",
    "\n",
    "#### Funções de manipulação de tempo"
   ]
  },
  {
   "cell_type": "code",
   "execution_count": 12,
   "id": "494f39d9",
   "metadata": {},
   "outputs": [],
   "source": [
    "from datetime import time"
   ]
  },
  {
   "cell_type": "markdown",
   "id": "f7df2f96",
   "metadata": {},
   "source": [
    "#### .time() - Cria um horário"
   ]
  },
  {
   "cell_type": "code",
   "execution_count": 14,
   "id": "b3ea6a21",
   "metadata": {},
   "outputs": [
    {
     "name": "stdout",
     "output_type": "stream",
     "text": [
      "06:09:20.000022\n",
      "<class 'datetime.time'>\n"
     ]
    }
   ],
   "source": [
    "hora = time(hour=6, minute=9, second=20, microsecond=22)\n",
    "\n",
    "print(hora)\n",
    "print(type(hora))"
   ]
  },
  {
   "cell_type": "markdown",
   "id": "1d45a802",
   "metadata": {},
   "source": [
    "#### .strftime() - Formata o horário utilizando strings\n",
    "\n",
    "##### %H -> fora\n",
    "##### %M -> minuto\n",
    "##### %S -> segundo"
   ]
  },
  {
   "cell_type": "code",
   "execution_count": 15,
   "id": "ba4e93a6",
   "metadata": {},
   "outputs": [
    {
     "name": "stdout",
     "output_type": "stream",
     "text": [
      "22:00\n",
      "<class 'str'>\n"
     ]
    }
   ],
   "source": [
    "hora = time(hour=22, second=59).strftime('%H:%M')\n",
    "\n",
    "print(hora)\n",
    "print(type(hora))"
   ]
  },
  {
   "cell_type": "markdown",
   "id": "d1f47f06",
   "metadata": {},
   "source": [
    "## datetime\n",
    "\n",
    "#### Manipulações de data e hora"
   ]
  },
  {
   "cell_type": "code",
   "execution_count": 16,
   "id": "54b13fae",
   "metadata": {},
   "outputs": [],
   "source": [
    "from datetime import datetime"
   ]
  },
  {
   "cell_type": "markdown",
   "id": "b2f8e26c",
   "metadata": {},
   "source": [
    "#### .datetime() - Cria uma data e hora"
   ]
  },
  {
   "cell_type": "code",
   "execution_count": 17,
   "id": "db8b84d6",
   "metadata": {},
   "outputs": [
    {
     "name": "stdout",
     "output_type": "stream",
     "text": [
      "2000-11-20 12:45:59.000030\n",
      "<class 'datetime.datetime'>\n"
     ]
    }
   ],
   "source": [
    "data = datetime(day=20, month=11, year=2000, hour=12, minute=45, second=59, microsecond=30)\n",
    "\n",
    "print(data)\n",
    "print(type(data))"
   ]
  },
  {
   "cell_type": "markdown",
   "id": "b978c1b5",
   "metadata": {},
   "source": [
    "#### .now() - Retorna data e hora atual"
   ]
  },
  {
   "cell_type": "code",
   "execution_count": 18,
   "id": "ce7e233e",
   "metadata": {},
   "outputs": [
    {
     "name": "stdout",
     "output_type": "stream",
     "text": [
      "2022-10-22 00:16:18.725807\n"
     ]
    }
   ],
   "source": [
    "data_atual = datetime.now()\n",
    "\n",
    "print(data_atual)"
   ]
  },
  {
   "cell_type": "code",
   "execution_count": 19,
   "id": "3cdea0d7",
   "metadata": {},
   "outputs": [
    {
     "name": "stdout",
     "output_type": "stream",
     "text": [
      "22\n"
     ]
    }
   ],
   "source": [
    "print(datetime.now().day)"
   ]
  },
  {
   "cell_type": "code",
   "execution_count": 20,
   "id": "49f6608b",
   "metadata": {},
   "outputs": [
    {
     "name": "stdout",
     "output_type": "stream",
     "text": [
      "10\n"
     ]
    }
   ],
   "source": [
    "print(datetime.now().month)"
   ]
  },
  {
   "cell_type": "code",
   "execution_count": 21,
   "id": "c33dbaff",
   "metadata": {},
   "outputs": [
    {
     "name": "stdout",
     "output_type": "stream",
     "text": [
      "2022\n"
     ]
    }
   ],
   "source": [
    "print(datetime.now().year)"
   ]
  },
  {
   "cell_type": "code",
   "execution_count": 22,
   "id": "9490b221",
   "metadata": {},
   "outputs": [
    {
     "name": "stdout",
     "output_type": "stream",
     "text": [
      "0\n"
     ]
    }
   ],
   "source": [
    "print(datetime.now().hour)"
   ]
  },
  {
   "cell_type": "code",
   "execution_count": 23,
   "id": "1049ec26",
   "metadata": {},
   "outputs": [
    {
     "name": "stdout",
     "output_type": "stream",
     "text": [
      "18\n"
     ]
    }
   ],
   "source": [
    "print(datetime.now().minute)"
   ]
  },
  {
   "cell_type": "code",
   "execution_count": 24,
   "id": "59fa5c69",
   "metadata": {},
   "outputs": [
    {
     "name": "stdout",
     "output_type": "stream",
     "text": [
      "28\n"
     ]
    }
   ],
   "source": [
    "print(datetime.now().second)"
   ]
  },
  {
   "cell_type": "code",
   "execution_count": 25,
   "id": "7d52bf81",
   "metadata": {},
   "outputs": [
    {
     "name": "stdout",
     "output_type": "stream",
     "text": [
      "154171\n"
     ]
    }
   ],
   "source": [
    "print(datetime.now().microsecond)"
   ]
  },
  {
   "cell_type": "markdown",
   "id": "3fa61afa",
   "metadata": {},
   "source": [
    "#### .strftime() - Faz a edição de data e hora com strings"
   ]
  },
  {
   "cell_type": "code",
   "execution_count": 26,
   "id": "04ec49ef",
   "metadata": {},
   "outputs": [
    {
     "name": "stdout",
     "output_type": "stream",
     "text": [
      "22/10/2022 00:16:18\n",
      "<class 'str'>\n"
     ]
    }
   ],
   "source": [
    "agora = data_atual.strftime(\"%d/%m/%Y %H:%M:%S\")\n",
    "\n",
    "print(agora)\n",
    "print(type(agora))"
   ]
  },
  {
   "cell_type": "markdown",
   "id": "0f0b41a7",
   "metadata": {},
   "source": [
    "#### .strptime() - Transforma uma string de data no formato datetime, o primeiro parâmetro é a string que contém a data, o segundo parâmetro é a formatação"
   ]
  },
  {
   "cell_type": "code",
   "execution_count": 27,
   "id": "b735d1be",
   "metadata": {},
   "outputs": [
    {
     "name": "stdout",
     "output_type": "stream",
     "text": [
      "2022-10-22 00:16:18\n",
      "<class 'datetime.datetime'>\n"
     ]
    }
   ],
   "source": [
    "data = datetime.strptime(agora, \"%d/%m/%Y %H:%M:%S\")\n",
    "\n",
    "print(data)\n",
    "print(type(data))"
   ]
  }
 ],
 "metadata": {
  "kernelspec": {
   "display_name": "Python 3 (ipykernel)",
   "language": "python",
   "name": "python3"
  },
  "language_info": {
   "codemirror_mode": {
    "name": "ipython",
    "version": 3
   },
   "file_extension": ".py",
   "mimetype": "text/x-python",
   "name": "python",
   "nbconvert_exporter": "python",
   "pygments_lexer": "ipython3",
   "version": "3.9.12"
  }
 },
 "nbformat": 4,
 "nbformat_minor": 5
}
