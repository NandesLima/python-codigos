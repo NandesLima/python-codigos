{
 "cells": [
  {
   "cell_type": "markdown",
   "id": "a29ea335",
   "metadata": {},
   "source": [
    "# Pandas\n",
    "\n",
    "- Biblioteca para análise de dados.\n",
    "\n",
    "- Dá ao Python a capacidade de trabalhar com dados do tipo planilha.\n",
    "\n",
    "- Permite carregar, manipular, alinhar e combinar dados rapidamente, entre outras funções."
   ]
  },
  {
   "cell_type": "code",
   "execution_count": null,
   "id": "259c5275",
   "metadata": {},
   "outputs": [],
   "source": []
  }
 ],
 "metadata": {
  "kernelspec": {
   "display_name": "Python 3 (ipykernel)",
   "language": "python",
   "name": "python3"
  },
  "language_info": {
   "codemirror_mode": {
    "name": "ipython",
    "version": 3
   },
   "file_extension": ".py",
   "mimetype": "text/x-python",
   "name": "python",
   "nbconvert_exporter": "python",
   "pygments_lexer": "ipython3",
   "version": "3.9.12"
  }
 },
 "nbformat": 4,
 "nbformat_minor": 5
}
