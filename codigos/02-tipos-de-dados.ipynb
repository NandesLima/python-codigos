{
 "cells": [
  {
   "cell_type": "markdown",
   "id": "fc757dc6",
   "metadata": {},
   "source": [
    "# 02 - Tipos de dados"
   ]
  },
  {
   "cell_type": "markdown",
   "id": "22794e97",
   "metadata": {},
   "source": [
    "## Dados primitivos\n",
    "\n",
    "int - Números inteiros\n",
    "\n",
    "float - Números de ponto flutuante (Reais)\n",
    "\n",
    "str - Strings\n",
    "\n",
    "bool - Dados booleanos (lógicos) - Verdadeiro ou Falso"
   ]
  },
  {
   "cell_type": "code",
   "execution_count": 3,
   "id": "0380c9cf",
   "metadata": {},
   "outputs": [],
   "source": [
    "numero = '80'"
   ]
  },
  {
   "cell_type": "markdown",
   "id": "a61e7a18",
   "metadata": {},
   "source": [
    "### Funções de transformação de dados"
   ]
  },
  {
   "cell_type": "markdown",
   "id": "194f3aa3",
   "metadata": {},
   "source": [
    "#### int() - Transforma o valor no tipo inteiro se possível"
   ]
  },
  {
   "cell_type": "code",
   "execution_count": 4,
   "id": "deafc6e1",
   "metadata": {},
   "outputs": [],
   "source": [
    "inteiro = int(numero)"
   ]
  },
  {
   "cell_type": "markdown",
   "id": "3dea3e4b",
   "metadata": {},
   "source": [
    "#### float() - Transforma o valor no tipo real se possível"
   ]
  },
  {
   "cell_type": "code",
   "execution_count": 6,
   "id": "1de0215c",
   "metadata": {},
   "outputs": [],
   "source": [
    "real = float(numero)"
   ]
  },
  {
   "cell_type": "markdown",
   "id": "332ae319",
   "metadata": {},
   "source": [
    "#### bool() - Transforma o valor no tipo lógico"
   ]
  },
  {
   "cell_type": "code",
   "execution_count": 7,
   "id": "b64c2117",
   "metadata": {},
   "outputs": [],
   "source": [
    "logico = bool(numero)"
   ]
  },
  {
   "cell_type": "markdown",
   "id": "7d030bc7",
   "metadata": {},
   "source": [
    "#### str() - Transforma o valor em uma string"
   ]
  },
  {
   "cell_type": "code",
   "execution_count": 8,
   "id": "f9056f93",
   "metadata": {},
   "outputs": [],
   "source": [
    "string = str(real)"
   ]
  },
  {
   "cell_type": "markdown",
   "id": "2219fb45",
   "metadata": {},
   "source": [
    "## Bases numéricas"
   ]
  },
  {
   "cell_type": "markdown",
   "id": "c991591e",
   "metadata": {},
   "source": [
    "#### bin() - Transforma um dado inteiro numa sequência binária, mas o tipo é string."
   ]
  },
  {
   "cell_type": "code",
   "execution_count": 11,
   "id": "d6f98df2",
   "metadata": {},
   "outputs": [],
   "source": [
    "binario = bin(inteiro)"
   ]
  },
  {
   "cell_type": "markdown",
   "id": "d6f3862c",
   "metadata": {},
   "source": [
    "#### hex() - Transforma um dado inteiro numa sequência hexadecimal, mas o tipo é string."
   ]
  },
  {
   "cell_type": "code",
   "execution_count": 12,
   "id": "4dd06ff2",
   "metadata": {},
   "outputs": [],
   "source": [
    "hexadecimal = hex(inteiro)"
   ]
  },
  {
   "cell_type": "markdown",
   "id": "69ea68d8",
   "metadata": {},
   "source": [
    "#### oct() - Transforma um dado inteiro numa sequência octadecimal, mas o tipo é string."
   ]
  },
  {
   "cell_type": "code",
   "execution_count": 13,
   "id": "d4e99cc6",
   "metadata": {},
   "outputs": [],
   "source": [
    "octadecimal = oct(inteiro)"
   ]
  },
  {
   "cell_type": "markdown",
   "id": "0847e852",
   "metadata": {},
   "source": [
    "## Dados complexos"
   ]
  },
  {
   "cell_type": "markdown",
   "id": "2bfca33e",
   "metadata": {},
   "source": [
    "#### list() - Cria uma lista, ou transforma uma sequência em uma lista."
   ]
  },
  {
   "cell_type": "code",
   "execution_count": 15,
   "id": "33a600ac",
   "metadata": {},
   "outputs": [],
   "source": [
    "lista = list()"
   ]
  },
  {
   "cell_type": "markdown",
   "id": "d1ea8e04",
   "metadata": {},
   "source": [
    "#### tuple() - Cria uma tupla, ou transforma uma sequência em uma tupla."
   ]
  },
  {
   "cell_type": "code",
   "execution_count": 16,
   "id": "02979cac",
   "metadata": {},
   "outputs": [],
   "source": [
    "tupla = tuple()"
   ]
  },
  {
   "cell_type": "markdown",
   "id": "f02752c9",
   "metadata": {},
   "source": [
    "#### set() - Cria um conjunto, ou transforma uma sequência em um conjunto."
   ]
  },
  {
   "cell_type": "code",
   "execution_count": 17,
   "id": "3a44a121",
   "metadata": {},
   "outputs": [],
   "source": [
    "conjunto = set()"
   ]
  },
  {
   "cell_type": "markdown",
   "id": "aaf98d39",
   "metadata": {},
   "source": [
    "#### dict() - Cria um dicionário, ou transforma uma sequência em um dicionário se possível."
   ]
  },
  {
   "cell_type": "code",
   "execution_count": 18,
   "id": "1ea84c8e",
   "metadata": {},
   "outputs": [],
   "source": [
    "dicionario = dict()"
   ]
  },
  {
   "cell_type": "markdown",
   "id": "64255f3c",
   "metadata": {},
   "source": [
    "## Verificando os tipos"
   ]
  },
  {
   "cell_type": "markdown",
   "id": "f3b27894",
   "metadata": {},
   "source": [
    "#### type() - Verifica o tipo de um objeto"
   ]
  },
  {
   "cell_type": "code",
   "execution_count": 22,
   "id": "8bd8e74a",
   "metadata": {},
   "outputs": [
    {
     "name": "stdout",
     "output_type": "stream",
     "text": [
      "<class 'str'>\n",
      "<class 'int'>\n",
      "<class 'bool'>\n",
      "<class 'float'>\n"
     ]
    }
   ],
   "source": [
    "print(type('texto de teste'))\n",
    "print(type(120))\n",
    "print(type(True))\n",
    "print(type(35.6))"
   ]
  },
  {
   "cell_type": "code",
   "execution_count": 23,
   "id": "563cbc2c",
   "metadata": {},
   "outputs": [
    {
     "name": "stdout",
     "output_type": "stream",
     "text": [
      "<class 'int'>\n",
      "<class 'float'>\n",
      "<class 'bool'>\n",
      "<class 'str'>\n"
     ]
    }
   ],
   "source": [
    "print(type(inteiro))\n",
    "print(type(real))\n",
    "print(type(logico))\n",
    "print(type(string))"
   ]
  },
  {
   "cell_type": "code",
   "execution_count": 24,
   "id": "872736c9",
   "metadata": {},
   "outputs": [
    {
     "name": "stdout",
     "output_type": "stream",
     "text": [
      "<class 'str'>\n",
      "<class 'str'>\n",
      "<class 'str'>\n"
     ]
    }
   ],
   "source": [
    "print(type(binario))\n",
    "print(type(hexadecimal))\n",
    "print(type(octadecimal))"
   ]
  },
  {
   "cell_type": "code",
   "execution_count": 25,
   "id": "ff177048",
   "metadata": {},
   "outputs": [
    {
     "name": "stdout",
     "output_type": "stream",
     "text": [
      "<class 'list'>\n",
      "<class 'tuple'>\n",
      "<class 'set'>\n",
      "<class 'dict'>\n"
     ]
    }
   ],
   "source": [
    "print(type(lista))\n",
    "print(type(tupla))\n",
    "print(type(conjunto))\n",
    "print(type(dicionario))"
   ]
  },
  {
   "cell_type": "markdown",
   "id": "1116b52c",
   "metadata": {},
   "source": [
    "## Transformando input()"
   ]
  },
  {
   "cell_type": "markdown",
   "id": "a4155519",
   "metadata": {},
   "source": [
    "#### Digitando valores inteiros"
   ]
  },
  {
   "cell_type": "code",
   "execution_count": 30,
   "id": "d8a23874",
   "metadata": {},
   "outputs": [
    {
     "name": "stdout",
     "output_type": "stream",
     "text": [
      "Digite um número: 25\n",
      "<class 'int'>\n"
     ]
    }
   ],
   "source": [
    "inteiro = int(input('Digite um número: '))\n",
    "print(type(inteiro))"
   ]
  },
  {
   "cell_type": "markdown",
   "id": "d66df33b",
   "metadata": {},
   "source": [
    "#### Digitando valores flutuantes"
   ]
  },
  {
   "cell_type": "code",
   "execution_count": 33,
   "id": "6bccfd05",
   "metadata": {},
   "outputs": [
    {
     "name": "stdout",
     "output_type": "stream",
     "text": [
      "Digite um número real: 24.5\n",
      "<class 'float'>\n"
     ]
    }
   ],
   "source": [
    "flutuante = float(input('Digite um número real: '))\n",
    "print(type(flutuante))"
   ]
  },
  {
   "cell_type": "markdown",
   "id": "0e4220e0",
   "metadata": {},
   "source": [
    "#### Digitando valores lógicos"
   ]
  },
  {
   "cell_type": "code",
   "execution_count": 34,
   "id": "dbaadcdb",
   "metadata": {},
   "outputs": [
    {
     "name": "stdout",
     "output_type": "stream",
     "text": [
      "Digite algo: False\n",
      "True\n",
      "<class 'bool'>\n"
     ]
    }
   ],
   "source": [
    "logico = bool(input('Digite algo: '))\n",
    "print(logico)\n",
    "print(type(logico))"
   ]
  },
  {
   "cell_type": "code",
   "execution_count": 35,
   "id": "356eb8e1",
   "metadata": {},
   "outputs": [
    {
     "name": "stdout",
     "output_type": "stream",
     "text": [
      "Digite algo: \n",
      "False\n",
      "<class 'bool'>\n"
     ]
    }
   ],
   "source": [
    "logico = bool(input('Digite algo: '))\n",
    "print(logico)\n",
    "print(type(logico))"
   ]
  },
  {
   "cell_type": "markdown",
   "id": "01022f0a",
   "metadata": {},
   "source": [
    "OBS: Se qualquer valor for colocado dentro de bool será consideerado como verdadeiro, a falta de valores considera como falso."
   ]
  },
  {
   "cell_type": "code",
   "execution_count": null,
   "id": "b73b4476",
   "metadata": {},
   "outputs": [],
   "source": []
  }
 ],
 "metadata": {
  "kernelspec": {
   "display_name": "Python 3 (ipykernel)",
   "language": "python",
   "name": "python3"
  },
  "language_info": {
   "codemirror_mode": {
    "name": "ipython",
    "version": 3
   },
   "file_extension": ".py",
   "mimetype": "text/x-python",
   "name": "python",
   "nbconvert_exporter": "python",
   "pygments_lexer": "ipython3",
   "version": "3.9.12"
  }
 },
 "nbformat": 4,
 "nbformat_minor": 5
}
