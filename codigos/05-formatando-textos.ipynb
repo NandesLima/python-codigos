{
 "cells": [
  {
   "cell_type": "markdown",
   "metadata": {},
   "source": [
    "# 05 - Formatando Textos\n",
    "#### Quantidade mínima de caracteres, o número colocado após os dois pontos diz a quantidade mínima de caracteres, se não for oculpado por nenhum outro utiliza-se espaços."
   ]
  },
  {
   "cell_type": "code",
   "execution_count": 12,
   "metadata": {},
   "outputs": [],
   "source": [
    "nome =  'Angelo Bardy Idade 27'"
   ]
  },
  {
   "cell_type": "code",
   "execution_count": 13,
   "metadata": {},
   "outputs": [
    {
     "name": "stdout",
     "output_type": "stream",
     "text": [
      "Nome: Angelo Bardy Idade 27                   Teste\n",
      "Nome: Angelo Bardy Idade 27                   Teste\n"
     ]
    }
   ],
   "source": [
    "print('Nome: {:40}Teste'.format(nome))\n",
    "print(f'Nome: {nome:40}Teste')"
   ]
  },
  {
   "cell_type": "markdown",
   "metadata": {},
   "source": [
    "#### Alinhar à direita >"
   ]
  },
  {
   "cell_type": "code",
   "execution_count": 14,
   "metadata": {},
   "outputs": [],
   "source": [
    "idade = 67"
   ]
  },
  {
   "cell_type": "code",
   "execution_count": 15,
   "metadata": {},
   "outputs": [
    {
     "name": "stdout",
     "output_type": "stream",
     "text": [
      "                                      67\n",
      "                                      67\n"
     ]
    }
   ],
   "source": [
    "print('{:>40}'.format(idade))\n",
    "print(f'{idade:>40}')"
   ]
  },
  {
   "cell_type": "markdown",
   "metadata": {},
   "source": [
    "#### Alinhar à esquerda <"
   ]
  },
  {
   "cell_type": "code",
   "execution_count": 16,
   "metadata": {},
   "outputs": [
    {
     "name": "stdout",
     "output_type": "stream",
     "text": [
      "67                                      \n",
      "67                                      \n"
     ]
    }
   ],
   "source": [
    "print('{:<40}'.format(idade))\n",
    "print(f'{idade:<40}')"
   ]
  },
  {
   "cell_type": "markdown",
   "metadata": {},
   "source": [
    "#### Alinha ao centro ^"
   ]
  },
  {
   "cell_type": "code",
   "execution_count": 17,
   "metadata": {},
   "outputs": [
    {
     "name": "stdout",
     "output_type": "stream",
     "text": [
      "                   67                   \n",
      "                   67                   \n"
     ]
    }
   ],
   "source": [
    "print('{:^40}'.format(idade))\n",
    "print(f'{idade:^40}')"
   ]
  },
  {
   "cell_type": "markdown",
   "metadata": {},
   "source": [
    "#### Definindo caracteres no alinhamento, o caractere utilizado antes do símbolo de alinhamento subtituirá os espaços"
   ]
  },
  {
   "cell_type": "code",
   "execution_count": 18,
   "metadata": {},
   "outputs": [
    {
     "name": "stdout",
     "output_type": "stream",
     "text": [
      "======================================67\n",
      "......................................67\n",
      "67--------------------------------------\n",
      "67~~~~~~~~~~~~~~~~~~~~~~~~~~~~~~~~~~~~~~\n",
      "+++++++++++++++++++67+++++++++++++++++++\n",
      "*******************67*******************\n"
     ]
    }
   ],
   "source": [
    "print('{:=>40}'.format(idade))\n",
    "print(f'{idade:.>40}')\n",
    "\n",
    "print('{:-<40}'.format(idade))\n",
    "print(f'{idade:~<40}')\n",
    "\n",
    "print('{:+^40}'.format(idade))\n",
    "print(f'{idade:*^40}')"
   ]
  },
  {
   "cell_type": "markdown",
   "metadata": {},
   "source": [
    "## .center()\n",
    "\n",
    "- Funciona de forma similar ao alinhamento do centro, dentro do método, coloca-se o tamanho mínimo dos caracteres e se vai substituir os espaços por algum caractere."
   ]
  },
  {
   "cell_type": "code",
   "execution_count": 19,
   "metadata": {},
   "outputs": [
    {
     "name": "stdout",
     "output_type": "stream",
     "text": [
      "                                       Angelo Bardy Idade 27                                        \n",
      "=======================================Angelo Bardy Idade 27========================================\n"
     ]
    }
   ],
   "source": [
    "print(nome.center(100))\n",
    "print(nome.center(100, '='))"
   ]
  },
  {
   "cell_type": "markdown",
   "metadata": {},
   "source": [
    "## .ljust()\n",
    "\n",
    "- Funciona de forma similar ao alinhamento à esquerda, dentro do método, coloca-se o tamanho mínimo dos caracteres e se vai substituir os espaços por algum caractere."
   ]
  },
  {
   "cell_type": "code",
   "execution_count": 20,
   "metadata": {},
   "outputs": [
    {
     "name": "stdout",
     "output_type": "stream",
     "text": [
      "Angelo Bardy Idade 27                                                                               \n",
      "Angelo Bardy Idade 27===============================================================================\n"
     ]
    }
   ],
   "source": [
    "print(nome.ljust(100))\n",
    "print(nome.ljust(100, '='))"
   ]
  },
  {
   "cell_type": "markdown",
   "metadata": {},
   "source": [
    "## .rjust()\n",
    "\n",
    "- Funciona de forma similar ao alinhamento à direita, dentro do método, coloca-se o tamanho mínimo dos caracteres e se vai substituir os espaços por algum caractere."
   ]
  },
  {
   "cell_type": "code",
   "execution_count": 21,
   "metadata": {},
   "outputs": [
    {
     "name": "stdout",
     "output_type": "stream",
     "text": [
      "                                                                               Angelo Bardy Idade 27\n",
      "===============================================================================Angelo Bardy Idade 27\n"
     ]
    }
   ],
   "source": [
    "print(nome.rjust(100))\n",
    "print(nome.rjust(100, '='))"
   ]
  },
  {
   "cell_type": "markdown",
   "id": "178f5705",
   "metadata": {},
   "source": [
    "## .replace()\n",
    "\n",
    "- Troca uma parte do texto de uma String, por outro texto.\n",
    "- Texto que será trocado como primeiro parâmetro\n",
    "- Texto novo como segundo parâmetro"
   ]
  },
  {
   "cell_type": "code",
   "execution_count": 22,
   "metadata": {},
   "outputs": [
    {
     "name": "stdout",
     "output_type": "stream",
     "text": [
      "Angelo Bardy Teste 27\n"
     ]
    }
   ],
   "source": [
    "nome = nome.replace('Idade', 'Teste')\n",
    "print(nome)"
   ]
  },
  {
   "cell_type": "markdown",
   "metadata": {},
   "source": [
    "## Transformar a caixa das letras"
   ]
  },
  {
   "cell_type": "markdown",
   "id": "71ced049",
   "metadata": {},
   "source": [
    "#### .upper() - Transforma todas as letras em maiúsculo"
   ]
  },
  {
   "cell_type": "code",
   "execution_count": 23,
   "metadata": {},
   "outputs": [
    {
     "name": "stdout",
     "output_type": "stream",
     "text": [
      "TESTE\n",
      "ANGELO BARDY TESTE 27\n"
     ]
    }
   ],
   "source": [
    "print('teste'.upper())\n",
    "print(nome.upper())"
   ]
  },
  {
   "cell_type": "markdown",
   "id": "c598e54a",
   "metadata": {},
   "source": [
    "#### .lower() - Transforma todas as letras em minúsculo"
   ]
  },
  {
   "cell_type": "code",
   "execution_count": 24,
   "metadata": {},
   "outputs": [
    {
     "name": "stdout",
     "output_type": "stream",
     "text": [
      "teste\n",
      "angelo bardy teste 27\n"
     ]
    }
   ],
   "source": [
    "print('teste'.lower())\n",
    "print(nome.lower())"
   ]
  },
  {
   "cell_type": "markdown",
   "id": "7ec0f840",
   "metadata": {},
   "source": [
    "#### .capitalize() - Apenas a primeira letra fica maiúscula"
   ]
  },
  {
   "cell_type": "code",
   "execution_count": 25,
   "metadata": {},
   "outputs": [
    {
     "name": "stdout",
     "output_type": "stream",
     "text": [
      "Teste de texto\n",
      "Angelo bardy teste 27\n"
     ]
    }
   ],
   "source": [
    "print('teste de texto'.capitalize())\n",
    "print(nome.capitalize())"
   ]
  },
  {
   "cell_type": "markdown",
   "id": "dc578055",
   "metadata": {},
   "source": [
    "#### .title() - Primeira letra de cada palavra fica maiúscula"
   ]
  },
  {
   "cell_type": "code",
   "execution_count": 26,
   "metadata": {},
   "outputs": [
    {
     "name": "stdout",
     "output_type": "stream",
     "text": [
      "Teste De Texto\n",
      "Angelo Bardy Teste 27\n"
     ]
    }
   ],
   "source": [
    "print('teste de texto'.title())\n",
    "print(nome.title())"
   ]
  },
  {
   "cell_type": "markdown",
   "id": "ad1926ca",
   "metadata": {},
   "source": [
    "## Excluindo espaços"
   ]
  },
  {
   "cell_type": "code",
   "execution_count": 27,
   "metadata": {},
   "outputs": [],
   "source": [
    "texto = \"                  Teste                    \""
   ]
  },
  {
   "cell_type": "markdown",
   "id": "c3182aa2",
   "metadata": {},
   "source": [
    "#### .rstrip() - Exclui os espaços do lado direito do texto"
   ]
  },
  {
   "cell_type": "code",
   "execution_count": 28,
   "metadata": {},
   "outputs": [
    {
     "name": "stdout",
     "output_type": "stream",
     "text": [
      "                  Teste\n"
     ]
    }
   ],
   "source": [
    "print(texto.rstrip())"
   ]
  },
  {
   "cell_type": "markdown",
   "id": "a46c6411",
   "metadata": {},
   "source": [
    "#### .lstrip() - Exclui os espaços do lado esquerdo do texto"
   ]
  },
  {
   "cell_type": "code",
   "execution_count": 29,
   "metadata": {},
   "outputs": [
    {
     "name": "stdout",
     "output_type": "stream",
     "text": [
      "Teste                    \n"
     ]
    }
   ],
   "source": [
    "print(texto.lstrip())"
   ]
  },
  {
   "cell_type": "markdown",
   "id": "4ddd31a4",
   "metadata": {},
   "source": [
    "#### .strip() - Exclui os espaços do lado esquerdo e direito do texto"
   ]
  },
  {
   "cell_type": "code",
   "execution_count": 30,
   "metadata": {},
   "outputs": [
    {
     "name": "stdout",
     "output_type": "stream",
     "text": [
      "Teste\n"
     ]
    }
   ],
   "source": [
    "print(texto.strip())"
   ]
  },
  {
   "cell_type": "markdown",
   "id": "c12ebf22",
   "metadata": {},
   "source": [
    "## Separando caracteres\n",
    "\n",
    "#### .split() - Separa as palavras por um caractere indicado em uma lista, quando não se indica o caractere é utilizado o espaço."
   ]
  },
  {
   "cell_type": "code",
   "execution_count": 31,
   "metadata": {},
   "outputs": [
    {
     "name": "stdout",
     "output_type": "stream",
     "text": [
      "['Angelo', 'Bardy', 'Teste', '27']\n",
      "['Ang', 'lo Bardy T', 'st', ' 27']\n"
     ]
    }
   ],
   "source": [
    "nome1 = nome.split()\n",
    "nome2 = nome.split('e')\n",
    "\n",
    "print(nome1)\n",
    "print(nome2)"
   ]
  },
  {
   "cell_type": "markdown",
   "id": "1d7a9f05",
   "metadata": {},
   "source": [
    "#### .rsplit() - Separa as palavras pela direita"
   ]
  },
  {
   "cell_type": "code",
   "execution_count": 32,
   "metadata": {},
   "outputs": [
    {
     "name": "stdout",
     "output_type": "stream",
     "text": [
      "['Angelo', 'Bardy', 'Teste', '27']\n",
      "['Ang', 'lo Bardy T', 'st', ' 27']\n"
     ]
    }
   ],
   "source": [
    "nome1 = nome.rsplit()\n",
    "nome2 = nome.rsplit('e')\n",
    "\n",
    "print(nome1)\n",
    "print(nome2)"
   ]
  },
  {
   "cell_type": "markdown",
   "id": "f964cfdf",
   "metadata": {},
   "source": [
    "#### Guardando valores em várias variáveis"
   ]
  },
  {
   "cell_type": "code",
   "execution_count": 33,
   "metadata": {},
   "outputs": [
    {
     "name": "stdout",
     "output_type": "stream",
     "text": [
      "Teste\n",
      "63\n",
      "12/11/2023\n"
     ]
    }
   ],
   "source": [
    "nome, idade, data = input('Digite Nome, idade e data separados por espaço: ').split()\n",
    "print(nome)\n",
    "print(idade)\n",
    "print(data)"
   ]
  }
 ],
 "metadata": {
  "kernelspec": {
   "display_name": "Python 3.9.12 ('base')",
   "language": "python",
   "name": "python3"
  },
  "language_info": {
   "codemirror_mode": {
    "name": "ipython",
    "version": 3
   },
   "file_extension": ".py",
   "mimetype": "text/x-python",
   "name": "python",
   "nbconvert_exporter": "python",
   "pygments_lexer": "ipython3",
   "version": "3.9.12"
  },
  "orig_nbformat": 4,
  "vscode": {
   "interpreter": {
    "hash": "406138e5a602b00810fbe7ee529c90a879f88a9479754810ee7f6ab28412affb"
   }
  }
 },
 "nbformat": 4,
 "nbformat_minor": 2
}
