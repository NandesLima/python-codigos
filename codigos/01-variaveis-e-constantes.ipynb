{
 "cells": [
  {
   "cell_type": "markdown",
   "metadata": {},
   "source": [
    "# 01 - Variáveis e Constantes"
   ]
  },
  {
   "cell_type": "markdown",
   "metadata": {},
   "source": [
    "## Variáveis\n",
    "\n",
    "Variáveis - São espaços na memória nomeados que guardam um valor, e podem ter seu valor mudado com tempo de código.\n",
    "\n",
    "### Estrutura das variáveis\n",
    "\n",
    "Nome da variável - Lado esquerdo antes da atribuição\n",
    "\n",
    "Atribuição - Sinal de igual (=) que fica no meio\n",
    "\n",
    "Valor da variável - Lado direito  depois da atribuição"
   ]
  },
  {
   "cell_type": "markdown",
   "metadata": {},
   "source": [
    "#### Valores do tipo String utilizam aspas, simples ou dupla, e repreesentam uma sequência de caracteeres (texto, data...)"
   ]
  },
  {
   "cell_type": "code",
   "execution_count": 1,
   "metadata": {},
   "outputs": [],
   "source": [
    "string = \"String\"\n",
    "string = 'String'"
   ]
  },
  {
   "cell_type": "markdown",
   "metadata": {},
   "source": [
    "#### Valores numéricos inteiros"
   ]
  },
  {
   "cell_type": "code",
   "execution_count": 3,
   "metadata": {},
   "outputs": [],
   "source": [
    "numero_inteiro = 100"
   ]
  },
  {
   "cell_type": "markdown",
   "metadata": {},
   "source": [
    "#### Valor real (ou de ponto flutuante)"
   ]
  },
  {
   "cell_type": "code",
   "execution_count": 4,
   "metadata": {},
   "outputs": [],
   "source": [
    "ponto_flutuante = 27.5"
   ]
  },
  {
   "cell_type": "markdown",
   "metadata": {},
   "source": [
    "#### Valores lógico\n",
    "\n",
    "True - Verdadeiro\n",
    "\n",
    "False - Falso"
   ]
  },
  {
   "cell_type": "code",
   "execution_count": 5,
   "metadata": {},
   "outputs": [],
   "source": [
    "valor_verdadeiro = True\n",
    "valor_falso = False"
   ]
  },
  {
   "cell_type": "markdown",
   "metadata": {},
   "source": [
    "### Variáveis de mesmo valor\n",
    "\n",
    "Ambas as variáveis recebem o valor atribuido"
   ]
  },
  {
   "cell_type": "code",
   "execution_count": 7,
   "metadata": {},
   "outputs": [],
   "source": [
    "numero_1 = numero_2 = 0.0"
   ]
  },
  {
   "cell_type": "markdown",
   "metadata": {},
   "source": [
    "### Atribuição de múltiplas variáveis\n",
    "\n",
    "Cada valor recebe um dos valores da tupla, com a atribuição dos valores seguindo a mesma sequência das variáveis"
   ]
  },
  {
   "cell_type": "code",
   "execution_count": 8,
   "metadata": {},
   "outputs": [],
   "source": [
    "idade, nome, data = (18, \"Angelo Bardy\", '30/04/1971')"
   ]
  },
  {
   "cell_type": "markdown",
   "metadata": {},
   "source": [
    "OBS: A estrutura que guarda valores entre parênteses se chama tupla\n"
   ]
  },
  {
   "cell_type": "markdown",
   "metadata": {},
   "source": [
    "## Constantes\n",
    "\n",
    "Contante - Espaço na memória nomeado, que guarda um valore não pode ser alterado com tempo de código.\n",
    "\n",
    "Em Python não existe estrutura específica para constantes, então como convenção, uma constante em Python é uma variável onde o seu nome possui todas suas letras em maiúsculo."
   ]
  },
  {
   "cell_type": "code",
   "execution_count": 11,
   "metadata": {},
   "outputs": [],
   "source": [
    "PI = 3.1415926\n",
    "NUMERO_EULER = 2.71"
   ]
  },
  {
   "cell_type": "markdown",
   "metadata": {},
   "source": [
    "## Imprimindo valores na tela - print()\n",
    "\n",
    "print() - Comando print, imprime valores no console. Os valores são colocados entre parênteses.\n",
    "\n"
   ]
  },
  {
   "cell_type": "markdown",
   "metadata": {},
   "source": [
    "#### Valores podem ser colocados diretamente no print"
   ]
  },
  {
   "cell_type": "code",
   "execution_count": 13,
   "metadata": {},
   "outputs": [
    {
     "name": "stdout",
     "output_type": "stream",
     "text": [
      "Escrevendo strings\n",
      "Outra String\n",
      "100\n",
      "184.56\n",
      "True\n",
      "False\n"
     ]
    }
   ],
   "source": [
    "print('Escrevendo strings')\n",
    "print(\"Outra String\")\n",
    "print(100)\n",
    "print(184.56)\n",
    "print(True)\n",
    "print(False)"
   ]
  },
  {
   "cell_type": "markdown",
   "metadata": {},
   "source": [
    "#### O print pode utilizar variáveis ou constantes"
   ]
  },
  {
   "cell_type": "code",
   "execution_count": 17,
   "metadata": {},
   "outputs": [
    {
     "name": "stdout",
     "output_type": "stream",
     "text": [
      "String\n",
      "100\n",
      "27.5\n",
      "True\n",
      "False\n",
      "0.0\n",
      "0.0\n",
      "18\n",
      "Angelo Bardy\n",
      "30/04/1971\n",
      "3.1415926\n",
      "2.71\n"
     ]
    }
   ],
   "source": [
    "print(string)\n",
    "print(numero_inteiro)\n",
    "print(ponto_flutuante)\n",
    "print(valor_verdadeiro)\n",
    "print(valor_falso)\n",
    "print(numero_1)\n",
    "print(numero_2)\n",
    "print(idade)\n",
    "print(nome)\n",
    "print(data)\n",
    "print(PI)\n",
    "print(NUMERO_EULER)"
   ]
  },
  {
   "cell_type": "markdown",
   "metadata": {},
   "source": [
    "## Solicitando valores do usuário - input()\n",
    "\n",
    "input() - Comando que solicita um valor do usuário, o valor digitado sempre será do tipo string."
   ]
  },
  {
   "cell_type": "code",
   "execution_count": 18,
   "metadata": {},
   "outputs": [
    {
     "name": "stdout",
     "output_type": "stream",
     "text": [
      "Digite um número: 30\n"
     ]
    },
    {
     "data": {
      "text/plain": [
       "'30'"
      ]
     },
     "execution_count": 18,
     "metadata": {},
     "output_type": "execute_result"
    }
   ],
   "source": [
    "input('Digite um número: ')"
   ]
  },
  {
   "cell_type": "markdown",
   "metadata": {},
   "source": [
    "O input() quando associado a uma variáve, guarda o valor digitado dentro da variável."
   ]
  },
  {
   "cell_type": "code",
   "execution_count": 19,
   "metadata": {},
   "outputs": [
    {
     "name": "stdout",
     "output_type": "stream",
     "text": [
      "Digite qualquer coisa: 35\n",
      "35\n"
     ]
    }
   ],
   "source": [
    "variavel_teste = input('Digite qualquer coisa: ')\n",
    "print(variavel_teste)"
   ]
  }
 ],
 "metadata": {
  "kernelspec": {
   "display_name": "Python 3 (ipykernel)",
   "language": "python",
   "name": "python3"
  },
  "language_info": {
   "codemirror_mode": {
    "name": "ipython",
    "version": 3
   },
   "file_extension": ".py",
   "mimetype": "text/x-python",
   "name": "python",
   "nbconvert_exporter": "python",
   "pygments_lexer": "ipython3",
   "version": "3.9.12"
  },
  "vscode": {
   "interpreter": {
    "hash": "e7370f93d1d0cde622a1f8e1c04877d8463912d04d973331ad4851f04de6915a"
   }
  }
 },
 "nbformat": 4,
 "nbformat_minor": 2
}
