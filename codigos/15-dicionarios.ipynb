{
 "cells": [
  {
   "cell_type": "markdown",
   "id": "4abad419",
   "metadata": {},
   "source": [
    "# Dicionários\n",
    "\n",
    "- Dicionários são objetos em python que armazenam elementos no formato {chave: valor}. O dicionário tem uma associação por mapeamento."
   ]
  },
  {
   "cell_type": "markdown",
   "id": "50d4ac8f",
   "metadata": {},
   "source": [
    "## Representando um dicionário\n",
    "\n",
    "#### Utilização de chaves"
   ]
  },
  {
   "cell_type": "code",
   "execution_count": 109,
   "id": "dda7cf8e",
   "metadata": {},
   "outputs": [
    {
     "name": "stdout",
     "output_type": "stream",
     "text": [
      "{'chave1': 'valor1', 'chave2': 'valor2'}\n",
      "<class 'dict'>\n"
     ]
    }
   ],
   "source": [
    "dicionario1 = {'chave1': 'valor1',\n",
    "               'chave2': 'valor2'}\n",
    "\n",
    "print(dicionario1)\n",
    "print(type(dicionario1))"
   ]
  },
  {
   "cell_type": "code",
   "execution_count": 110,
   "id": "b120de94",
   "metadata": {},
   "outputs": [
    {
     "name": "stdout",
     "output_type": "stream",
     "text": [
      "{'cidade': 'Fortaleza', 'estado': 'Ceará', 'populacao_milhoes': '12.5'}\n",
      "<class 'dict'>\n"
     ]
    }
   ],
   "source": [
    "dicionario1 = {\n",
    "    'cidade':'Fortaleza',\n",
    "    'estado':'Ceará',\n",
    "    'populacao_milhoes': '12.5',\n",
    "}\n",
    "\n",
    "print(dicionario1)\n",
    "print(type(dicionario1))"
   ]
  },
  {
   "cell_type": "code",
   "execution_count": 111,
   "id": "d06091bb",
   "metadata": {},
   "outputs": [
    {
     "name": "stdout",
     "output_type": "stream",
     "text": [
      "{'populacao_milhoes': '35', 'fundacao': '12/01/1554'}\n",
      "<class 'dict'>\n"
     ]
    }
   ],
   "source": [
    "dicionario2 = {\n",
    "    'populacao_milhoes': '35',\n",
    "    'fundacao': '12/01/1554'\n",
    "}\n",
    "\n",
    "print(dicionario2)\n",
    "print(type(dicionario2))"
   ]
  },
  {
   "cell_type": "markdown",
   "id": "22f9cfdf",
   "metadata": {},
   "source": [
    "#### Criando dicionário com dict"
   ]
  },
  {
   "cell_type": "code",
   "execution_count": 112,
   "id": "071d4d0b",
   "metadata": {},
   "outputs": [
    {
     "name": "stdout",
     "output_type": "stream",
     "text": [
      "{}\n",
      "<class 'dict'>\n"
     ]
    }
   ],
   "source": [
    "dicionario3 = dict()\n",
    "\n",
    "print(dicionario3)\n",
    "print(type(dicionario3))"
   ]
  },
  {
   "cell_type": "markdown",
   "id": "7d5687eb",
   "metadata": {},
   "source": [
    "## Manipulação do dicionário\n",
    "\n",
    "#### nome_do_dicionario[chave] - permite o acesso do valor da chave específicada"
   ]
  },
  {
   "cell_type": "code",
   "execution_count": 113,
   "id": "e7561068",
   "metadata": {},
   "outputs": [
    {
     "name": "stdout",
     "output_type": "stream",
     "text": [
      "Fortaleza\n"
     ]
    }
   ],
   "source": [
    "print(dicionario1['cidade'])"
   ]
  },
  {
   "cell_type": "markdown",
   "id": "44f95760",
   "metadata": {},
   "source": [
    "#### nome_do_dicionario[chave] = valor - Modifica o valor de uma chave já existente, ou caso a chave não exista, cria uma chave com o valor indicado."
   ]
  },
  {
   "cell_type": "code",
   "execution_count": 114,
   "id": "167aabd3",
   "metadata": {},
   "outputs": [
    {
     "name": "stdout",
     "output_type": "stream",
     "text": [
      "{'cidade': 'Maceió', 'estado': 'Alagoas', 'populacao_milhoes': '12.5', 'bairro': 'Pajuçara'}\n"
     ]
    }
   ],
   "source": [
    "dicionario1['cidade'] = 'Maceió'\n",
    "dicionario1['estado'] = 'Alagoas'\n",
    "dicionario1['bairro'] = 'Pajuçara'\n",
    "\n",
    "print(dicionario1)"
   ]
  },
  {
   "cell_type": "markdown",
   "id": "0b19ad7a",
   "metadata": {},
   "source": [
    "## Associando dicionários\n",
    "\n",
    "- Quando um dicionário é atribuido a outro, a alteração que é feita em um impacta no outro"
   ]
  },
  {
   "cell_type": "code",
   "execution_count": 115,
   "id": "d8849dee",
   "metadata": {},
   "outputs": [
    {
     "name": "stdout",
     "output_type": "stream",
     "text": [
      "{'cidade': 'Maceió', 'estado': 'Alagoas', 'populacao_milhoes': '12.5', 'bairro': 'Pajuçara'}\n",
      "{'cidade': 'Maceió', 'estado': 'Alagoas', 'populacao_milhoes': '12.5', 'bairro': 'Pajuçara'}\n"
     ]
    }
   ],
   "source": [
    "dicionario3 = dicionario1\n",
    "\n",
    "print(dicionario3)\n",
    "print(dicionario1)"
   ]
  },
  {
   "cell_type": "code",
   "execution_count": 116,
   "id": "df01a0ab",
   "metadata": {},
   "outputs": [
    {
     "name": "stdout",
     "output_type": "stream",
     "text": [
      "{'cidade': 'Fortaleza', 'estado': 'Ceará', 'populacao_milhoes': '12.5', 'bairro': 'Pajuçara'}\n",
      "{'cidade': 'Fortaleza', 'estado': 'Ceará', 'populacao_milhoes': '12.5', 'bairro': 'Pajuçara'}\n"
     ]
    }
   ],
   "source": [
    "dicionario3['estado'] = 'Ceará'\n",
    "dicionario3['cidade'] = 'Fortaleza'\n",
    "\n",
    "print(dicionario3)\n",
    "print(dicionario1)"
   ]
  },
  {
   "cell_type": "code",
   "execution_count": 117,
   "id": "e23480d0",
   "metadata": {},
   "outputs": [
    {
     "name": "stdout",
     "output_type": "stream",
     "text": [
      "{'cidade': 'Fortaleza', 'estado': 'Ceará', 'populacao_milhoes': '12.5', 'bairro': 'Cidade 2000'}\n",
      "{'cidade': 'Fortaleza', 'estado': 'Ceará', 'populacao_milhoes': '12.5', 'bairro': 'Cidade 2000'}\n"
     ]
    }
   ],
   "source": [
    "dicionario1['bairro'] = 'Cidade 2000'\n",
    "\n",
    "print(dicionario3)\n",
    "print(dicionario1)"
   ]
  },
  {
   "cell_type": "markdown",
   "id": "50e0e3be",
   "metadata": {},
   "source": [
    "## Copiando um dicionário\n",
    "\n",
    "#### .copy() - Copia o valor de um dicionário para outro, ou seja, uma alteração em um, não afeta no outro"
   ]
  },
  {
   "cell_type": "code",
   "execution_count": 118,
   "id": "445da4cc",
   "metadata": {},
   "outputs": [
    {
     "name": "stdout",
     "output_type": "stream",
     "text": [
      "{'cidade': 'Fortaleza', 'estado': 'Ceará', 'populacao_milhoes': '12.5', 'bairro': 'Cidade 2000'}\n",
      "{'cidade': 'Fortaleza', 'estado': 'Ceará', 'populacao_milhoes': '12.5', 'bairro': 'Cidade 2000'}\n"
     ]
    }
   ],
   "source": [
    "dicionario3 = dicionario1.copy()\n",
    "\n",
    "print(dicionario3)\n",
    "print(dicionario1)"
   ]
  },
  {
   "cell_type": "code",
   "execution_count": 119,
   "id": "23ab8889",
   "metadata": {},
   "outputs": [
    {
     "name": "stdout",
     "output_type": "stream",
     "text": [
      "{'cidade': 'Fortaleza', 'estado': 'Ceará', 'populacao_milhoes': '12.5', 'bairro': 'Cidade 2000'}\n",
      "{'cidade': 'Maceió', 'estado': 'Alagoas', 'populacao_milhoes': '12.5', 'bairro': 'Pajuçara'}\n"
     ]
    }
   ],
   "source": [
    "dicionario1['cidade'] = 'Maceió'\n",
    "dicionario1['estado'] = 'Alagoas'\n",
    "dicionario1['bairro'] = 'Pajuçara'\n",
    "\n",
    "print(dicionario3)\n",
    "print(dicionario1)"
   ]
  },
  {
   "cell_type": "markdown",
   "id": "6d01bd35",
   "metadata": {},
   "source": [
    "## Métodos e funções\n",
    "\n",
    "#### len() - Mostra a quantidade de elementos"
   ]
  },
  {
   "cell_type": "code",
   "execution_count": 120,
   "id": "62abe6af",
   "metadata": {},
   "outputs": [
    {
     "name": "stdout",
     "output_type": "stream",
     "text": [
      "4\n"
     ]
    }
   ],
   "source": [
    "print(len(dicionario1))"
   ]
  },
  {
   "cell_type": "markdown",
   "id": "5f0f66e2",
   "metadata": {},
   "source": [
    "#### .pop() - Elimina um elemento da posição indicada"
   ]
  },
  {
   "cell_type": "code",
   "execution_count": 121,
   "id": "4ef765f6",
   "metadata": {},
   "outputs": [
    {
     "name": "stdout",
     "output_type": "stream",
     "text": [
      "{'cidade': 'Maceió', 'estado': 'Alagoas', 'populacao_milhoes': '12.5'}\n"
     ]
    }
   ],
   "source": [
    "dicionario1.pop('bairro')\n",
    "\n",
    "print(dicionario1)"
   ]
  },
  {
   "cell_type": "markdown",
   "id": "69b368b2",
   "metadata": {},
   "source": [
    "#### .clear() - Limpa os elementos do objeto"
   ]
  },
  {
   "cell_type": "code",
   "execution_count": 122,
   "id": "0e4e21ea",
   "metadata": {},
   "outputs": [
    {
     "name": "stdout",
     "output_type": "stream",
     "text": [
      "{}\n"
     ]
    }
   ],
   "source": [
    "dicionario1.clear()\n",
    "\n",
    "print(dicionario1)"
   ]
  },
  {
   "cell_type": "markdown",
   "id": "41739c91",
   "metadata": {},
   "source": [
    "#### .values() - Cria uma lista apenas com os valores do dicionário"
   ]
  },
  {
   "cell_type": "code",
   "execution_count": 123,
   "id": "b2becb10",
   "metadata": {},
   "outputs": [
    {
     "name": "stdout",
     "output_type": "stream",
     "text": [
      "dict_values(['Fortaleza', 'Ceará', '12.5', 'Cidade 2000'])\n"
     ]
    }
   ],
   "source": [
    "print(dicionario3.values())"
   ]
  },
  {
   "cell_type": "markdown",
   "id": "0534dee8",
   "metadata": {},
   "source": [
    "#### .keys() - Cria uma lista apenas com as chaves do dicionário"
   ]
  },
  {
   "cell_type": "code",
   "execution_count": 124,
   "id": "f67b8d1f",
   "metadata": {},
   "outputs": [
    {
     "name": "stdout",
     "output_type": "stream",
     "text": [
      "dict_keys(['cidade', 'estado', 'populacao_milhoes', 'bairro'])\n"
     ]
    }
   ],
   "source": [
    "print(dicionario3.keys())"
   ]
  },
  {
   "cell_type": "markdown",
   "id": "7ab05d6f",
   "metadata": {},
   "source": [
    "#### .items() - Cria uma lista de tuplas, onde cada tupla possui chave e valor do dicionário."
   ]
  },
  {
   "cell_type": "code",
   "execution_count": 125,
   "id": "1a64205c",
   "metadata": {},
   "outputs": [
    {
     "name": "stdout",
     "output_type": "stream",
     "text": [
      "dict_items([('cidade', 'Fortaleza'), ('estado', 'Ceará'), ('populacao_milhoes', '12.5'), ('bairro', 'Cidade 2000')])\n"
     ]
    }
   ],
   "source": [
    "print(dicionario3.items())"
   ]
  },
  {
   "cell_type": "markdown",
   "id": "f001b299",
   "metadata": {},
   "source": [
    "#### .update() - Faz a atualização do dicionário à esquerda, com os dados do dicipnário à direita"
   ]
  },
  {
   "cell_type": "code",
   "execution_count": 126,
   "id": "ea9604e3",
   "metadata": {},
   "outputs": [
    {
     "name": "stdout",
     "output_type": "stream",
     "text": [
      "{'cidade': 'Fortaleza', 'estado': 'Ceará', 'populacao_milhoes': '35', 'bairro': 'Cidade 2000', 'fundacao': '12/01/1554'}\n"
     ]
    }
   ],
   "source": [
    "dicionario3.update(dicionario2)\n",
    "\n",
    "print(dicionario3)"
   ]
  },
  {
   "cell_type": "markdown",
   "id": "22f04ed7",
   "metadata": {},
   "source": [
    "## Ordem crescente dos dicionários\n",
    "\n",
    "#### Lista das chaves em ordem crescente"
   ]
  },
  {
   "cell_type": "code",
   "execution_count": 127,
   "id": "719d3cbb",
   "metadata": {},
   "outputs": [
    {
     "name": "stdout",
     "output_type": "stream",
     "text": [
      "['bairro', 'cidade', 'estado', 'fundacao', 'populacao_milhoes']\n"
     ]
    }
   ],
   "source": [
    "print(sorted(dicionario3))"
   ]
  },
  {
   "cell_type": "code",
   "execution_count": 128,
   "id": "65e27d79",
   "metadata": {},
   "outputs": [
    {
     "name": "stdout",
     "output_type": "stream",
     "text": [
      "['bairro', 'cidade', 'estado', 'fundacao', 'populacao_milhoes']\n"
     ]
    }
   ],
   "source": [
    "print(sorted(dicionario3.keys()))"
   ]
  },
  {
   "cell_type": "markdown",
   "id": "be0bd598",
   "metadata": {},
   "source": [
    "#### Lista de chaves e valor, em ordem crescente pela chave"
   ]
  },
  {
   "cell_type": "code",
   "execution_count": 129,
   "id": "260418d9",
   "metadata": {},
   "outputs": [
    {
     "name": "stdout",
     "output_type": "stream",
     "text": [
      "[('bairro', 'Cidade 2000'), ('cidade', 'Fortaleza'), ('estado', 'Ceará'), ('fundacao', '12/01/1554'), ('populacao_milhoes', '35')]\n"
     ]
    }
   ],
   "source": [
    "print(sorted(dicionario3.items()))"
   ]
  },
  {
   "cell_type": "markdown",
   "id": "89313068",
   "metadata": {},
   "source": [
    "#### Lista de chaves e valor em ordem crescente pelo valor, escolhe o índicide que será colocado na ordem crescente, no caso o índice 1 de cada tupla, é onde fica o valor"
   ]
  },
  {
   "cell_type": "code",
   "execution_count": 130,
   "id": "b17c033b",
   "metadata": {},
   "outputs": [
    {
     "name": "stdout",
     "output_type": "stream",
     "text": [
      "[('fundacao', '12/01/1554'), ('populacao_milhoes', '35'), ('estado', 'Ceará'), ('bairro', 'Cidade 2000'), ('cidade', 'Fortaleza')]\n"
     ]
    }
   ],
   "source": [
    "from operator import itemgetter\n",
    "\n",
    "print(sorted(dicionario3.items(), key=itemgetter(1)))"
   ]
  },
  {
   "cell_type": "markdown",
   "id": "5b0f7f3b",
   "metadata": {},
   "source": [
    "## Ordem decrescente dos dicionários\n",
    "\n",
    "#### Lista das chaves em ordem decrescente"
   ]
  },
  {
   "cell_type": "code",
   "execution_count": 131,
   "id": "57d472f4",
   "metadata": {},
   "outputs": [
    {
     "name": "stdout",
     "output_type": "stream",
     "text": [
      "['populacao_milhoes', 'fundacao', 'estado', 'cidade', 'bairro']\n"
     ]
    }
   ],
   "source": [
    "print(sorted(dicionario3, reverse=True))"
   ]
  },
  {
   "cell_type": "code",
   "execution_count": 132,
   "id": "3c6a1c82",
   "metadata": {},
   "outputs": [
    {
     "name": "stdout",
     "output_type": "stream",
     "text": [
      "['populacao_milhoes', 'fundacao', 'estado', 'cidade', 'bairro']\n"
     ]
    }
   ],
   "source": [
    "print(sorted(dicionario3.keys(), reverse=True))"
   ]
  },
  {
   "cell_type": "markdown",
   "id": "8cde18d2",
   "metadata": {},
   "source": [
    "#### Lista de chaves e valor, em ordem decrescente pela chave\n"
   ]
  },
  {
   "cell_type": "code",
   "execution_count": 133,
   "id": "bfdf7df3",
   "metadata": {},
   "outputs": [
    {
     "name": "stdout",
     "output_type": "stream",
     "text": [
      "[('populacao_milhoes', '35'), ('fundacao', '12/01/1554'), ('estado', 'Ceará'), ('cidade', 'Fortaleza'), ('bairro', 'Cidade 2000')]\n"
     ]
    }
   ],
   "source": [
    "print(sorted(dicionario3.items(), reverse=True))"
   ]
  },
  {
   "cell_type": "markdown",
   "id": "1473208b",
   "metadata": {},
   "source": [
    "#### Lista de chaves e valor em ordem crescente pelo valor, escolhe o índicide que será colocado na ordem decrescente, no caso o índice 1 de cada tupla, é onde fica o valor"
   ]
  },
  {
   "cell_type": "code",
   "execution_count": 134,
   "id": "f5dda3df",
   "metadata": {},
   "outputs": [
    {
     "name": "stdout",
     "output_type": "stream",
     "text": [
      "[('cidade', 'Fortaleza'), ('bairro', 'Cidade 2000'), ('estado', 'Ceará'), ('populacao_milhoes', '35'), ('fundacao', '12/01/1554')]\n"
     ]
    }
   ],
   "source": [
    "from operator import itemgetter\n",
    "\n",
    "print(sorted(dicionario3.items(), key=itemgetter(1), reverse=True))"
   ]
  },
  {
   "cell_type": "markdown",
   "id": "9af1e434",
   "metadata": {},
   "source": [
    "## Localização de chaves no dicionário\n",
    "\n",
    "#### Comando in "
   ]
  },
  {
   "cell_type": "code",
   "execution_count": 135,
   "id": "1154f3f4",
   "metadata": {},
   "outputs": [
    {
     "name": "stdout",
     "output_type": "stream",
     "text": [
      "True\n"
     ]
    }
   ],
   "source": [
    "print('bairro' in dicionario3)"
   ]
  },
  {
   "cell_type": "code",
   "execution_count": 136,
   "id": "2f5054a4",
   "metadata": {},
   "outputs": [
    {
     "name": "stdout",
     "output_type": "stream",
     "text": [
      "False\n"
     ]
    }
   ],
   "source": [
    "print('bairro' in dicionario1)"
   ]
  },
  {
   "cell_type": "markdown",
   "id": "773b401f",
   "metadata": {},
   "source": [
    "#### .get() - Retorna a chave se ela existir, caso não exista retorna None, pode utilizar uma palavra para substituir o None, no segundo parâmetro."
   ]
  },
  {
   "cell_type": "code",
   "execution_count": 137,
   "id": "c5fa40ca",
   "metadata": {},
   "outputs": [
    {
     "name": "stdout",
     "output_type": "stream",
     "text": [
      "Cidade 2000\n"
     ]
    }
   ],
   "source": [
    "print(dicionario3.get('bairro'))"
   ]
  },
  {
   "cell_type": "code",
   "execution_count": 138,
   "id": "3c6eefb0",
   "metadata": {},
   "outputs": [
    {
     "name": "stdout",
     "output_type": "stream",
     "text": [
      "None\n"
     ]
    }
   ],
   "source": [
    "print(dicionario3.get('rua'))"
   ]
  },
  {
   "cell_type": "code",
   "execution_count": 139,
   "id": "91c651e0",
   "metadata": {},
   "outputs": [
    {
     "name": "stdout",
     "output_type": "stream",
     "text": [
      "Não encontrado\n"
     ]
    }
   ],
   "source": [
    "print(dicionario3.get('avenida', 'Não encontrado'))"
   ]
  },
  {
   "cell_type": "markdown",
   "id": "bdb4d633",
   "metadata": {},
   "source": [
    "#### .setdefault() - Procura se existe determinada chave no dicionário (parâmetro esquerdo), caso não exista cria a chave e guarda um valor nela (parâmetro direito), caso exista retorna o valor da chave."
   ]
  },
  {
   "cell_type": "code",
   "execution_count": 140,
   "id": "d710fc8b",
   "metadata": {},
   "outputs": [
    {
     "data": {
      "text/plain": [
       "'Fortaleza'"
      ]
     },
     "execution_count": 140,
     "metadata": {},
     "output_type": "execute_result"
    }
   ],
   "source": [
    "dicionario3.setdefault('cidade','Aquiraz')"
   ]
  },
  {
   "cell_type": "code",
   "execution_count": 141,
   "id": "556fe416",
   "metadata": {},
   "outputs": [
    {
     "data": {
      "text/plain": [
       "'Joãozinho'"
      ]
     },
     "execution_count": 141,
     "metadata": {},
     "output_type": "execute_result"
    }
   ],
   "source": [
    "dicionario3.setdefault('prefeito','Joãozinho')"
   ]
  },
  {
   "cell_type": "code",
   "execution_count": 142,
   "id": "ce5410e9",
   "metadata": {},
   "outputs": [
    {
     "name": "stdout",
     "output_type": "stream",
     "text": [
      "{'cidade': 'Fortaleza', 'estado': 'Ceará', 'populacao_milhoes': '35', 'bairro': 'Cidade 2000', 'fundacao': '12/01/1554', 'prefeito': 'Joãozinho'}\n"
     ]
    }
   ],
   "source": [
    "print(dicionario3)"
   ]
  },
  {
   "cell_type": "markdown",
   "id": "b5a8dcd5",
   "metadata": {},
   "source": [
    "## Comando DEL\n",
    "\n",
    "#### Deleta um elemento específico"
   ]
  },
  {
   "cell_type": "code",
   "execution_count": 143,
   "id": "e50c928f",
   "metadata": {},
   "outputs": [
    {
     "name": "stdout",
     "output_type": "stream",
     "text": [
      "{'cidade': 'Fortaleza', 'estado': 'Ceará', 'populacao_milhoes': '35', 'fundacao': '12/01/1554', 'prefeito': 'Joãozinho'}\n"
     ]
    }
   ],
   "source": [
    "del dicionario3['bairro']\n",
    "\n",
    "print(dicionario3)"
   ]
  },
  {
   "cell_type": "markdown",
   "id": "7e865602",
   "metadata": {},
   "source": [
    "#### Deleta o elemento selecionado"
   ]
  },
  {
   "cell_type": "code",
   "execution_count": 144,
   "id": "830add65",
   "metadata": {},
   "outputs": [
    {
     "ename": "NameError",
     "evalue": "name 'dicionario2' is not defined",
     "output_type": "error",
     "traceback": [
      "\u001b[0;31m---------------------------------------------------------------------------\u001b[0m",
      "\u001b[0;31mNameError\u001b[0m                                 Traceback (most recent call last)",
      "Input \u001b[0;32mIn [144]\u001b[0m, in \u001b[0;36m<cell line: 3>\u001b[0;34m()\u001b[0m\n\u001b[1;32m      1\u001b[0m \u001b[38;5;28;01mdel\u001b[39;00m dicionario2\n\u001b[0;32m----> 3\u001b[0m \u001b[38;5;28mprint\u001b[39m(\u001b[43mdicionario2\u001b[49m)\n",
      "\u001b[0;31mNameError\u001b[0m: name 'dicionario2' is not defined"
     ]
    }
   ],
   "source": [
    "del dicionario2\n",
    "\n",
    "print(dicionario2)"
   ]
  }
 ],
 "metadata": {
  "kernelspec": {
   "display_name": "Python 3.9.12 ('base')",
   "language": "python",
   "name": "python3"
  },
  "language_info": {
   "codemirror_mode": {
    "name": "ipython",
    "version": 3
   },
   "file_extension": ".py",
   "mimetype": "text/x-python",
   "name": "python",
   "nbconvert_exporter": "python",
   "pygments_lexer": "ipython3",
   "version": "3.9.12"
  },
  "vscode": {
   "interpreter": {
    "hash": "406138e5a602b00810fbe7ee529c90a879f88a9479754810ee7f6ab28412affb"
   }
  }
 },
 "nbformat": 4,
 "nbformat_minor": 5
}
