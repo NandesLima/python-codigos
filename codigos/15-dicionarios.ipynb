{
 "cells": [
  {
   "attachments": {},
   "cell_type": "markdown",
   "id": "4abad419",
   "metadata": {},
   "source": [
    "# 15 - Dicionários\n",
    "\n",
    "- Dicionários são objetos em python que armazenam elementos no formato {chave: valor}. O dicionário tem uma associação por mapeamento."
   ]
  },
  {
   "cell_type": "markdown",
   "id": "50d4ac8f",
   "metadata": {},
   "source": [
    "## Representando um dicionário\n",
    "\n",
    "#### Utilização de chaves"
   ]
  },
  {
   "cell_type": "code",
   "execution_count": 166,
   "id": "dda7cf8e",
   "metadata": {},
   "outputs": [
    {
     "name": "stdout",
     "output_type": "stream",
     "text": [
      "{'chave1': 'valor1', 'chave2': 'valor2'}\n",
      "<class 'dict'>\n"
     ]
    }
   ],
   "source": [
    "dicionario1 = {'chave1': 'valor1',\n",
    "               'chave2': 'valor2'}\n",
    "\n",
    "print(dicionario1)\n",
    "print(type(dicionario1))"
   ]
  },
  {
   "cell_type": "code",
   "execution_count": 167,
   "id": "b120de94",
   "metadata": {},
   "outputs": [
    {
     "name": "stdout",
     "output_type": "stream",
     "text": [
      "{'cidade': 'Fortaleza', 'estado': 'Ceará', 'populacao_milhoes': '12.5'}\n",
      "<class 'dict'>\n"
     ]
    }
   ],
   "source": [
    "dicionario1 = {\n",
    "    'cidade':'Fortaleza',\n",
    "    'estado':'Ceará',\n",
    "    'populacao_milhoes': '12.5',\n",
    "}\n",
    "\n",
    "print(dicionario1)\n",
    "print(type(dicionario1))"
   ]
  },
  {
   "cell_type": "code",
   "execution_count": 168,
   "id": "d06091bb",
   "metadata": {},
   "outputs": [
    {
     "name": "stdout",
     "output_type": "stream",
     "text": [
      "{'populacao_milhoes': '35', 'fundacao': '12/01/1554'}\n",
      "<class 'dict'>\n"
     ]
    }
   ],
   "source": [
    "dicionario2 = {\n",
    "    'populacao_milhoes': '35',\n",
    "    'fundacao': '12/01/1554'\n",
    "}\n",
    "\n",
    "print(dicionario2)\n",
    "print(type(dicionario2))"
   ]
  },
  {
   "cell_type": "markdown",
   "id": "22f9cfdf",
   "metadata": {},
   "source": [
    "#### Criando dicionário com dict"
   ]
  },
  {
   "cell_type": "code",
   "execution_count": 169,
   "id": "071d4d0b",
   "metadata": {},
   "outputs": [
    {
     "name": "stdout",
     "output_type": "stream",
     "text": [
      "{}\n",
      "<class 'dict'>\n"
     ]
    }
   ],
   "source": [
    "dicionario3 = dict()\n",
    "\n",
    "print(dicionario3)\n",
    "print(type(dicionario3))"
   ]
  },
  {
   "cell_type": "code",
   "execution_count": 170,
   "id": "ed68beaf",
   "metadata": {},
   "outputs": [
    {
     "name": "stdout",
     "output_type": "stream",
     "text": [
      "{'nome': 'Angelo', 'idade': 30}\n"
     ]
    }
   ],
   "source": [
    "pessoa = dict(nome='Angelo', idade=30)\n",
    "print(pessoa)"
   ]
  },
  {
   "cell_type": "markdown",
   "id": "7d5687eb",
   "metadata": {},
   "source": [
    "## Manipulação do dicionário\n",
    "\n",
    "#### nome_do_dicionario[chave] - permite o acesso do valor da chave específicada"
   ]
  },
  {
   "cell_type": "code",
   "execution_count": 171,
   "id": "e7561068",
   "metadata": {},
   "outputs": [
    {
     "name": "stdout",
     "output_type": "stream",
     "text": [
      "Fortaleza\n"
     ]
    }
   ],
   "source": [
    "print(dicionario1['cidade'])"
   ]
  },
  {
   "cell_type": "markdown",
   "id": "44f95760",
   "metadata": {},
   "source": [
    "#### nome_do_dicionario[chave] = valor - Modifica o valor de uma chave já existente, ou caso a chave não exista, cria uma chave com o valor indicado."
   ]
  },
  {
   "cell_type": "code",
   "execution_count": 172,
   "id": "167aabd3",
   "metadata": {},
   "outputs": [
    {
     "name": "stdout",
     "output_type": "stream",
     "text": [
      "{'cidade': 'Maceió', 'estado': 'Alagoas', 'populacao_milhoes': '12.5', 'bairro': 'Pajuçara'}\n"
     ]
    }
   ],
   "source": [
    "dicionario1['cidade'] = 'Maceió'\n",
    "dicionario1['estado'] = 'Alagoas'\n",
    "dicionario1['bairro'] = 'Pajuçara'\n",
    "\n",
    "print(dicionario1)"
   ]
  },
  {
   "cell_type": "markdown",
   "id": "0b19ad7a",
   "metadata": {},
   "source": [
    "## Associando dicionários\n",
    "\n",
    "- Quando um dicionário é atribuido a outro, a alteração que é feita em um impacta no outro"
   ]
  },
  {
   "cell_type": "code",
   "execution_count": 173,
   "id": "d8849dee",
   "metadata": {},
   "outputs": [
    {
     "name": "stdout",
     "output_type": "stream",
     "text": [
      "{'cidade': 'Maceió', 'estado': 'Alagoas', 'populacao_milhoes': '12.5', 'bairro': 'Pajuçara'}\n",
      "{'cidade': 'Maceió', 'estado': 'Alagoas', 'populacao_milhoes': '12.5', 'bairro': 'Pajuçara'}\n"
     ]
    }
   ],
   "source": [
    "dicionario3 = dicionario1\n",
    "\n",
    "print(dicionario3)\n",
    "print(dicionario1)"
   ]
  },
  {
   "cell_type": "code",
   "execution_count": 174,
   "id": "df01a0ab",
   "metadata": {},
   "outputs": [
    {
     "name": "stdout",
     "output_type": "stream",
     "text": [
      "{'cidade': 'Fortaleza', 'estado': 'Ceará', 'populacao_milhoes': '12.5', 'bairro': 'Pajuçara'}\n",
      "{'cidade': 'Fortaleza', 'estado': 'Ceará', 'populacao_milhoes': '12.5', 'bairro': 'Pajuçara'}\n"
     ]
    }
   ],
   "source": [
    "dicionario3['estado'] = 'Ceará'\n",
    "dicionario3['cidade'] = 'Fortaleza'\n",
    "\n",
    "print(dicionario3)\n",
    "print(dicionario1)"
   ]
  },
  {
   "cell_type": "code",
   "execution_count": 175,
   "id": "e23480d0",
   "metadata": {},
   "outputs": [
    {
     "name": "stdout",
     "output_type": "stream",
     "text": [
      "{'cidade': 'Fortaleza', 'estado': 'Ceará', 'populacao_milhoes': '12.5', 'bairro': 'Cidade 2000'}\n",
      "{'cidade': 'Fortaleza', 'estado': 'Ceará', 'populacao_milhoes': '12.5', 'bairro': 'Cidade 2000'}\n"
     ]
    }
   ],
   "source": [
    "dicionario1['bairro'] = 'Cidade 2000'\n",
    "\n",
    "print(dicionario3)\n",
    "print(dicionario1)"
   ]
  },
  {
   "cell_type": "markdown",
   "id": "50e0e3be",
   "metadata": {},
   "source": [
    "## Copiando um dicionário\n",
    "\n",
    "#### .copy() - Copia o valor de um dicionário para outro, ou seja, uma alteração em um, não afeta no outro"
   ]
  },
  {
   "cell_type": "code",
   "execution_count": 176,
   "id": "445da4cc",
   "metadata": {},
   "outputs": [
    {
     "name": "stdout",
     "output_type": "stream",
     "text": [
      "{'cidade': 'Fortaleza', 'estado': 'Ceará', 'populacao_milhoes': '12.5', 'bairro': 'Cidade 2000'}\n",
      "{'cidade': 'Fortaleza', 'estado': 'Ceará', 'populacao_milhoes': '12.5', 'bairro': 'Cidade 2000'}\n"
     ]
    }
   ],
   "source": [
    "dicionario3 = dicionario1.copy()\n",
    "\n",
    "print(dicionario3)\n",
    "print(dicionario1)"
   ]
  },
  {
   "cell_type": "code",
   "execution_count": 177,
   "id": "23ab8889",
   "metadata": {},
   "outputs": [
    {
     "name": "stdout",
     "output_type": "stream",
     "text": [
      "{'cidade': 'Fortaleza', 'estado': 'Ceará', 'populacao_milhoes': '12.5', 'bairro': 'Cidade 2000'}\n",
      "{'cidade': 'Maceió', 'estado': 'Alagoas', 'populacao_milhoes': '12.5', 'bairro': 'Pajuçara'}\n"
     ]
    }
   ],
   "source": [
    "dicionario1['cidade'] = 'Maceió'\n",
    "dicionario1['estado'] = 'Alagoas'\n",
    "dicionario1['bairro'] = 'Pajuçara'\n",
    "\n",
    "print(dicionario3)\n",
    "print(dicionario1)"
   ]
  },
  {
   "cell_type": "markdown",
   "id": "6d01bd35",
   "metadata": {},
   "source": [
    "## Métodos e funções\n",
    "\n",
    "#### len() - Mostra a quantidade de elementos"
   ]
  },
  {
   "cell_type": "code",
   "execution_count": 178,
   "id": "62abe6af",
   "metadata": {},
   "outputs": [
    {
     "name": "stdout",
     "output_type": "stream",
     "text": [
      "4\n"
     ]
    }
   ],
   "source": [
    "print(len(dicionario1))"
   ]
  },
  {
   "attachments": {},
   "cell_type": "markdown",
   "id": "5f0f66e2",
   "metadata": {},
   "source": [
    "#### .pop() - Elimina um elemento da posição indicada e retorna o valor removido, caso não encontre a chave pode ser utilizado um valor padrão"
   ]
  },
  {
   "cell_type": "code",
   "execution_count": 179,
   "id": "4ef765f6",
   "metadata": {},
   "outputs": [
    {
     "name": "stdout",
     "output_type": "stream",
     "text": [
      "Pajuçara\n",
      "{'cidade': 'Maceió', 'estado': 'Alagoas', 'populacao_milhoes': '12.5'}\n"
     ]
    }
   ],
   "source": [
    "valor = dicionario1.pop('bairro')\n",
    "\n",
    "print(valor)\n",
    "print(dicionario1)"
   ]
  },
  {
   "cell_type": "code",
   "execution_count": 180,
   "id": "513c1a92",
   "metadata": {},
   "outputs": [
    {
     "name": "stdout",
     "output_type": "stream",
     "text": [
      "Não encontrado\n",
      "{'cidade': 'Maceió', 'estado': 'Alagoas', 'populacao_milhoes': '12.5'}\n"
     ]
    }
   ],
   "source": [
    "valor = dicionario1.pop('distrito', 'Não encontrado')\n",
    "\n",
    "print(valor)\n",
    "print(dicionario1)"
   ]
  },
  {
   "attachments": {},
   "cell_type": "markdown",
   "id": "3e31a84d",
   "metadata": {},
   "source": [
    "#### .popitem() - Não é informado a chave, mas tira os itens, em sequência, vai retirando itens até não haver mais, quando não existe os itens retorna KeyError"
   ]
  },
  {
   "cell_type": "code",
   "execution_count": 181,
   "id": "781b2405",
   "metadata": {},
   "outputs": [
    {
     "name": "stdout",
     "output_type": "stream",
     "text": [
      "{'nome': 'Angelo'}\n",
      "{}\n"
     ]
    },
    {
     "ename": "KeyError",
     "evalue": "'popitem(): dictionary is empty'",
     "output_type": "error",
     "traceback": [
      "\u001b[0;31m---------------------------------------------------------------------------\u001b[0m",
      "\u001b[0;31mKeyError\u001b[0m                                  Traceback (most recent call last)",
      "\u001b[1;32m/media/uta/Working/Python/python-codigos/codigos/15-dicionarios.ipynb Cell 26\u001b[0m in \u001b[0;36m<cell line: 5>\u001b[0;34m()\u001b[0m\n\u001b[1;32m      <a href='vscode-notebook-cell:/media/uta/Working/Python/python-codigos/codigos/15-dicionarios.ipynb#Y130sZmlsZQ%3D%3D?line=2'>3</a>\u001b[0m pessoa\u001b[39m.\u001b[39mpopitem()\n\u001b[1;32m      <a href='vscode-notebook-cell:/media/uta/Working/Python/python-codigos/codigos/15-dicionarios.ipynb#Y130sZmlsZQ%3D%3D?line=3'>4</a>\u001b[0m \u001b[39mprint\u001b[39m(pessoa)\n\u001b[0;32m----> <a href='vscode-notebook-cell:/media/uta/Working/Python/python-codigos/codigos/15-dicionarios.ipynb#Y130sZmlsZQ%3D%3D?line=4'>5</a>\u001b[0m pessoa\u001b[39m.\u001b[39;49mpopitem()\n",
      "\u001b[0;31mKeyError\u001b[0m: 'popitem(): dictionary is empty'"
     ]
    }
   ],
   "source": [
    "pessoa.popitem()\n",
    "print(pessoa)\n",
    "pessoa.popitem()\n",
    "print(pessoa)\n",
    "pessoa.popitem()"
   ]
  },
  {
   "attachments": {},
   "cell_type": "markdown",
   "id": "4dc666c3",
   "metadata": {},
   "source": [
    "#### .setdefault() - Verifica se uma chave existe, caso não, cria a chave e adiciona um item. Se a chave existir ele não muda o seu conteúdo."
   ]
  },
  {
   "cell_type": "code",
   "execution_count": null,
   "id": "0215ba31",
   "metadata": {},
   "outputs": [
    {
     "name": "stdout",
     "output_type": "stream",
     "text": [
      "{'cidade': 'Maceió', 'estado': 'Alagoas', 'populacao_milhoes': '12.5', 'praia': 'Ponta Verde'}\n"
     ]
    }
   ],
   "source": [
    "dicionario1.setdefault('praia', 'Ponta Verde')\n",
    "print(dicionario1)"
   ]
  },
  {
   "cell_type": "code",
   "execution_count": null,
   "id": "fe880071",
   "metadata": {},
   "outputs": [
    {
     "name": "stdout",
     "output_type": "stream",
     "text": [
      "{'cidade': 'Maceió', 'estado': 'Alagoas', 'populacao_milhoes': '12.5', 'praia': 'Ponta Verde'}\n"
     ]
    }
   ],
   "source": [
    "dicionario1.setdefault('praia', 'Farol')\n",
    "print(dicionario1)"
   ]
  },
  {
   "cell_type": "markdown",
   "id": "69b368b2",
   "metadata": {},
   "source": [
    "#### .clear() - Limpa os elementos do objeto"
   ]
  },
  {
   "cell_type": "code",
   "execution_count": null,
   "id": "0e4e21ea",
   "metadata": {},
   "outputs": [
    {
     "name": "stdout",
     "output_type": "stream",
     "text": [
      "{}\n"
     ]
    }
   ],
   "source": [
    "dicionario1.clear()\n",
    "\n",
    "print(dicionario1)"
   ]
  },
  {
   "cell_type": "markdown",
   "id": "41739c91",
   "metadata": {},
   "source": [
    "#### .values() - Cria uma lista apenas com os valores do dicionário"
   ]
  },
  {
   "cell_type": "code",
   "execution_count": null,
   "id": "b2becb10",
   "metadata": {},
   "outputs": [
    {
     "name": "stdout",
     "output_type": "stream",
     "text": [
      "dict_values(['Fortaleza', 'Ceará', '12.5', 'Cidade 2000'])\n"
     ]
    }
   ],
   "source": [
    "print(dicionario3.values())"
   ]
  },
  {
   "cell_type": "markdown",
   "id": "0534dee8",
   "metadata": {},
   "source": [
    "#### .keys() - Cria uma lista apenas com as chaves do dicionário"
   ]
  },
  {
   "cell_type": "code",
   "execution_count": null,
   "id": "f67b8d1f",
   "metadata": {},
   "outputs": [
    {
     "name": "stdout",
     "output_type": "stream",
     "text": [
      "dict_keys(['cidade', 'estado', 'populacao_milhoes', 'bairro'])\n"
     ]
    }
   ],
   "source": [
    "print(dicionario3.keys())"
   ]
  },
  {
   "cell_type": "markdown",
   "id": "7ab05d6f",
   "metadata": {},
   "source": [
    "#### .items() - Cria uma lista de tuplas, onde cada tupla possui chave e valor do dicionário."
   ]
  },
  {
   "cell_type": "code",
   "execution_count": null,
   "id": "1a64205c",
   "metadata": {},
   "outputs": [
    {
     "name": "stdout",
     "output_type": "stream",
     "text": [
      "dict_items([('cidade', 'Fortaleza'), ('estado', 'Ceará'), ('populacao_milhoes', '12.5'), ('bairro', 'Cidade 2000')])\n"
     ]
    }
   ],
   "source": [
    "print(dicionario3.items())"
   ]
  },
  {
   "attachments": {},
   "cell_type": "markdown",
   "id": "f001b299",
   "metadata": {},
   "source": [
    "#### .update() - Faz a atualização do dicionário à esquerda, com os dados do dicipnário à direita, ou adiciona chaves novas caso essas não existam"
   ]
  },
  {
   "cell_type": "code",
   "execution_count": null,
   "id": "ea9604e3",
   "metadata": {},
   "outputs": [
    {
     "name": "stdout",
     "output_type": "stream",
     "text": [
      "{'cidade': 'Fortaleza', 'estado': 'Ceará', 'populacao_milhoes': '35', 'bairro': 'Cidade 2000', 'fundacao': '12/01/1554'}\n"
     ]
    }
   ],
   "source": [
    "dicionario3.update(dicionario2)\n",
    "\n",
    "print(dicionario3)"
   ]
  },
  {
   "attachments": {},
   "cell_type": "markdown",
   "id": "476100f8",
   "metadata": {},
   "source": [
    "#### .fromkeys() - Cria chaves sem nenhum valor relacionado, ou cria chavez com um valor padrão dentro delas."
   ]
  },
  {
   "cell_type": "code",
   "execution_count": null,
   "id": "5a8397b9",
   "metadata": {},
   "outputs": [
    {
     "name": "stdout",
     "output_type": "stream",
     "text": [
      "{'nome': None, 'telefone': None, 'e-mail': None}\n"
     ]
    }
   ],
   "source": [
    "contato = dict.fromkeys(['nome', 'telefone', 'e-mail'])\n",
    "\n",
    "print(contato)"
   ]
  },
  {
   "cell_type": "code",
   "execution_count": null,
   "id": "c38681c7",
   "metadata": {},
   "outputs": [
    {
     "name": "stdout",
     "output_type": "stream",
     "text": [
      "{'nome': 'vazio', 'telefone': 'vazio', 'e-mail': 'vazio'}\n"
     ]
    }
   ],
   "source": [
    "del contato\n",
    "contato = dict.fromkeys(['nome', 'telefone', 'e-mail'], 'vazio')\n",
    "print(contato)"
   ]
  },
  {
   "cell_type": "markdown",
   "id": "22f04ed7",
   "metadata": {},
   "source": [
    "## Ordem crescente dos dicionários\n",
    "\n",
    "#### Lista das chaves em ordem crescente"
   ]
  },
  {
   "cell_type": "code",
   "execution_count": null,
   "id": "719d3cbb",
   "metadata": {},
   "outputs": [
    {
     "name": "stdout",
     "output_type": "stream",
     "text": [
      "['bairro', 'cidade', 'estado', 'fundacao', 'populacao_milhoes']\n"
     ]
    }
   ],
   "source": [
    "print(sorted(dicionario3))"
   ]
  },
  {
   "cell_type": "code",
   "execution_count": null,
   "id": "65e27d79",
   "metadata": {},
   "outputs": [
    {
     "name": "stdout",
     "output_type": "stream",
     "text": [
      "['bairro', 'cidade', 'estado', 'fundacao', 'populacao_milhoes']\n"
     ]
    }
   ],
   "source": [
    "print(sorted(dicionario3.keys()))"
   ]
  },
  {
   "cell_type": "markdown",
   "id": "be0bd598",
   "metadata": {},
   "source": [
    "#### Lista de chaves e valor, em ordem crescente pela chave"
   ]
  },
  {
   "cell_type": "code",
   "execution_count": null,
   "id": "260418d9",
   "metadata": {},
   "outputs": [
    {
     "name": "stdout",
     "output_type": "stream",
     "text": [
      "[('bairro', 'Cidade 2000'), ('cidade', 'Fortaleza'), ('estado', 'Ceará'), ('fundacao', '12/01/1554'), ('populacao_milhoes', '35')]\n"
     ]
    }
   ],
   "source": [
    "print(sorted(dicionario3.items()))"
   ]
  },
  {
   "cell_type": "markdown",
   "id": "89313068",
   "metadata": {},
   "source": [
    "#### Lista de chaves e valor em ordem crescente pelo valor, escolhe o índicide que será colocado na ordem crescente, no caso o índice 1 de cada tupla, é onde fica o valor"
   ]
  },
  {
   "cell_type": "code",
   "execution_count": null,
   "id": "b17c033b",
   "metadata": {},
   "outputs": [
    {
     "name": "stdout",
     "output_type": "stream",
     "text": [
      "[('fundacao', '12/01/1554'), ('populacao_milhoes', '35'), ('estado', 'Ceará'), ('bairro', 'Cidade 2000'), ('cidade', 'Fortaleza')]\n"
     ]
    }
   ],
   "source": [
    "from operator import itemgetter\n",
    "\n",
    "print(sorted(dicionario3.items(), key=itemgetter(1)))"
   ]
  },
  {
   "cell_type": "markdown",
   "id": "5b0f7f3b",
   "metadata": {},
   "source": [
    "## Ordem decrescente dos dicionários\n",
    "\n",
    "#### Lista das chaves em ordem decrescente"
   ]
  },
  {
   "cell_type": "code",
   "execution_count": null,
   "id": "57d472f4",
   "metadata": {},
   "outputs": [
    {
     "name": "stdout",
     "output_type": "stream",
     "text": [
      "['populacao_milhoes', 'fundacao', 'estado', 'cidade', 'bairro']\n"
     ]
    }
   ],
   "source": [
    "print(sorted(dicionario3, reverse=True))"
   ]
  },
  {
   "cell_type": "code",
   "execution_count": null,
   "id": "3c6a1c82",
   "metadata": {},
   "outputs": [
    {
     "name": "stdout",
     "output_type": "stream",
     "text": [
      "['populacao_milhoes', 'fundacao', 'estado', 'cidade', 'bairro']\n"
     ]
    }
   ],
   "source": [
    "print(sorted(dicionario3.keys(), reverse=True))"
   ]
  },
  {
   "cell_type": "markdown",
   "id": "8cde18d2",
   "metadata": {},
   "source": [
    "#### Lista de chaves e valor, em ordem decrescente pela chave\n"
   ]
  },
  {
   "cell_type": "code",
   "execution_count": null,
   "id": "bfdf7df3",
   "metadata": {},
   "outputs": [
    {
     "name": "stdout",
     "output_type": "stream",
     "text": [
      "[('populacao_milhoes', '35'), ('fundacao', '12/01/1554'), ('estado', 'Ceará'), ('cidade', 'Fortaleza'), ('bairro', 'Cidade 2000')]\n"
     ]
    }
   ],
   "source": [
    "print(sorted(dicionario3.items(), reverse=True))"
   ]
  },
  {
   "cell_type": "markdown",
   "id": "1473208b",
   "metadata": {},
   "source": [
    "#### Lista de chaves e valor em ordem crescente pelo valor, escolhe o índicide que será colocado na ordem decrescente, no caso o índice 1 de cada tupla, é onde fica o valor"
   ]
  },
  {
   "cell_type": "code",
   "execution_count": null,
   "id": "f5dda3df",
   "metadata": {},
   "outputs": [
    {
     "name": "stdout",
     "output_type": "stream",
     "text": [
      "[('cidade', 'Fortaleza'), ('bairro', 'Cidade 2000'), ('estado', 'Ceará'), ('populacao_milhoes', '35'), ('fundacao', '12/01/1554')]\n"
     ]
    }
   ],
   "source": [
    "from operator import itemgetter\n",
    "\n",
    "print(sorted(dicionario3.items(), key=itemgetter(1), reverse=True))"
   ]
  },
  {
   "cell_type": "markdown",
   "id": "9af1e434",
   "metadata": {},
   "source": [
    "## Localização de chaves no dicionário\n",
    "\n",
    "#### Comando in "
   ]
  },
  {
   "cell_type": "code",
   "execution_count": null,
   "id": "1154f3f4",
   "metadata": {},
   "outputs": [
    {
     "name": "stdout",
     "output_type": "stream",
     "text": [
      "True\n"
     ]
    }
   ],
   "source": [
    "print('bairro' in dicionario3)"
   ]
  },
  {
   "cell_type": "code",
   "execution_count": null,
   "id": "2f5054a4",
   "metadata": {},
   "outputs": [
    {
     "name": "stdout",
     "output_type": "stream",
     "text": [
      "False\n"
     ]
    }
   ],
   "source": [
    "print('bairro' in dicionario1)"
   ]
  },
  {
   "cell_type": "markdown",
   "id": "773b401f",
   "metadata": {},
   "source": [
    "#### .get() - Retorna a chave se ela existir, caso não exista retorna None, pode utilizar uma palavra para substituir o None, no segundo parâmetro."
   ]
  },
  {
   "cell_type": "code",
   "execution_count": null,
   "id": "c5fa40ca",
   "metadata": {},
   "outputs": [
    {
     "name": "stdout",
     "output_type": "stream",
     "text": [
      "Cidade 2000\n"
     ]
    }
   ],
   "source": [
    "print(dicionario3.get('bairro'))"
   ]
  },
  {
   "cell_type": "code",
   "execution_count": null,
   "id": "3c6eefb0",
   "metadata": {},
   "outputs": [
    {
     "name": "stdout",
     "output_type": "stream",
     "text": [
      "None\n"
     ]
    }
   ],
   "source": [
    "print(dicionario3.get('rua'))"
   ]
  },
  {
   "cell_type": "code",
   "execution_count": null,
   "id": "91c651e0",
   "metadata": {},
   "outputs": [
    {
     "name": "stdout",
     "output_type": "stream",
     "text": [
      "Não encontrado\n"
     ]
    }
   ],
   "source": [
    "print(dicionario3.get('avenida', 'Não encontrado'))"
   ]
  },
  {
   "cell_type": "markdown",
   "id": "bdb4d633",
   "metadata": {},
   "source": [
    "#### .setdefault() - Procura se existe determinada chave no dicionário (parâmetro esquerdo), caso não exista cria a chave e guarda um valor nela (parâmetro direito), caso exista retorna o valor da chave."
   ]
  },
  {
   "cell_type": "code",
   "execution_count": null,
   "id": "d710fc8b",
   "metadata": {},
   "outputs": [
    {
     "data": {
      "text/plain": [
       "'Fortaleza'"
      ]
     },
     "execution_count": 141,
     "metadata": {},
     "output_type": "execute_result"
    }
   ],
   "source": [
    "dicionario3.setdefault('cidade','Aquiraz')"
   ]
  },
  {
   "cell_type": "code",
   "execution_count": null,
   "id": "556fe416",
   "metadata": {},
   "outputs": [
    {
     "data": {
      "text/plain": [
       "'Joãozinho'"
      ]
     },
     "execution_count": 142,
     "metadata": {},
     "output_type": "execute_result"
    }
   ],
   "source": [
    "dicionario3.setdefault('prefeito','Joãozinho')"
   ]
  },
  {
   "cell_type": "code",
   "execution_count": null,
   "id": "ce5410e9",
   "metadata": {},
   "outputs": [
    {
     "name": "stdout",
     "output_type": "stream",
     "text": [
      "{'cidade': 'Fortaleza', 'estado': 'Ceará', 'populacao_milhoes': '35', 'bairro': 'Cidade 2000', 'fundacao': '12/01/1554', 'prefeito': 'Joãozinho'}\n"
     ]
    }
   ],
   "source": [
    "print(dicionario3)"
   ]
  },
  {
   "cell_type": "markdown",
   "id": "b5a8dcd5",
   "metadata": {},
   "source": [
    "## Comando DEL\n",
    "\n",
    "#### Deleta um elemento específico"
   ]
  },
  {
   "cell_type": "code",
   "execution_count": null,
   "id": "e50c928f",
   "metadata": {},
   "outputs": [
    {
     "name": "stdout",
     "output_type": "stream",
     "text": [
      "{'cidade': 'Fortaleza', 'estado': 'Ceará', 'populacao_milhoes': '35', 'fundacao': '12/01/1554', 'prefeito': 'Joãozinho'}\n"
     ]
    }
   ],
   "source": [
    "del dicionario3['bairro']\n",
    "\n",
    "print(dicionario3)"
   ]
  },
  {
   "cell_type": "markdown",
   "id": "7e865602",
   "metadata": {},
   "source": [
    "#### Deleta o elemento selecionado"
   ]
  },
  {
   "cell_type": "code",
   "execution_count": null,
   "id": "830add65",
   "metadata": {},
   "outputs": [
    {
     "ename": "NameError",
     "evalue": "name 'dicionario2' is not defined",
     "output_type": "error",
     "traceback": [
      "\u001b[0;31m---------------------------------------------------------------------------\u001b[0m",
      "\u001b[0;31mNameError\u001b[0m                                 Traceback (most recent call last)",
      "\u001b[1;32m/media/uta/Working/Python/python-codigos/codigos/15-dicionarios.ipynb Cell 68\u001b[0m in \u001b[0;36m<cell line: 3>\u001b[0;34m()\u001b[0m\n\u001b[1;32m      <a href='vscode-notebook-cell:/media/uta/Working/Python/python-codigos/codigos/15-dicionarios.ipynb#Y114sZmlsZQ%3D%3D?line=0'>1</a>\u001b[0m \u001b[39mdel\u001b[39;00m dicionario2\n\u001b[0;32m----> <a href='vscode-notebook-cell:/media/uta/Working/Python/python-codigos/codigos/15-dicionarios.ipynb#Y114sZmlsZQ%3D%3D?line=2'>3</a>\u001b[0m \u001b[39mprint\u001b[39m(dicionario2)\n",
      "\u001b[0;31mNameError\u001b[0m: name 'dicionario2' is not defined"
     ]
    }
   ],
   "source": [
    "del dicionario2\n",
    "\n",
    "print(dicionario2)"
   ]
  },
  {
   "attachments": {},
   "cell_type": "markdown",
   "id": "97c66475",
   "metadata": {},
   "source": [
    "|  [Conjuntos](https://github.com/NandesLima/python-codigos/blob/master/codigos/14-conjuntos.ipynb) | [Funções](https://github.com/NandesLima/python-codigos/blob/master/codigos/16-funcoes.ipynb) |\n",
    "| --------------------------------------------------------------------------- | ------------------------------------------------------------------------------------------------------------------------ |"
   ]
  }
 ],
 "metadata": {
  "kernelspec": {
   "display_name": "Python 3.9.12 ('base')",
   "language": "python",
   "name": "python3"
  },
  "language_info": {
   "codemirror_mode": {
    "name": "ipython",
    "version": 3
   },
   "file_extension": ".py",
   "mimetype": "text/x-python",
   "name": "python",
   "nbconvert_exporter": "python",
   "pygments_lexer": "ipython3",
   "version": "3.9.12"
  },
  "vscode": {
   "interpreter": {
    "hash": "406138e5a602b00810fbe7ee529c90a879f88a9479754810ee7f6ab28412affb"
   }
  }
 },
 "nbformat": 4,
 "nbformat_minor": 5
}
