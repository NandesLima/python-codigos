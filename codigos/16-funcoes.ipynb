{
 "cells": [
  {
   "cell_type": "markdown",
   "id": "5ea536ed",
   "metadata": {},
   "source": [
    "# 15 - Funções\n",
    "\n",
    "- Funções armazenam códigos para serem reutilizados mais de uma vez em tempo de execução de código.\n",
    "- A criação de uma função tem como base a palavra reservada **def** (define function).\n",
    "- O nome da função fica à direita da palavra reservada **def**, após o nome ficarão os parênteses que podem ou não conter os parâmetros da função, e após os parenteses, ficam dois pontos, terminando a eclaração da função.\n",
    "- O código que ficar abaixo da função de forma identado, será armazenado na função para ser reutilizado quando o nome dado à função for chamado no código."
   ]
  },
  {
   "cell_type": "markdown",
   "id": "bb6a6cb6",
   "metadata": {},
   "source": [
    "#### Função sem parâmetro e sem retornar valor"
   ]
  },
  {
   "cell_type": "code",
   "execution_count": 1,
   "id": "6e3d5877",
   "metadata": {},
   "outputs": [
    {
     "name": "stdout",
     "output_type": "stream",
     "text": [
      "Teste da função\n",
      "Teste da função\n"
     ]
    }
   ],
   "source": [
    "def nova_funcao():\n",
    "    for i in range(2):\n",
    "        print('Teste da função')\n",
    "\n",
    "nova_funcao()"
   ]
  },
  {
   "cell_type": "markdown",
   "id": "114cf190",
   "metadata": {},
   "source": [
    "#### Return faz com que a função retorne um valor no final da execução"
   ]
  },
  {
   "cell_type": "code",
   "execution_count": 2,
   "id": "f2435093",
   "metadata": {},
   "outputs": [
    {
     "data": {
      "text/plain": [
       "6"
      ]
     },
     "execution_count": 2,
     "metadata": {},
     "output_type": "execute_result"
    }
   ],
   "source": [
    "def soma():\n",
    "    quantidade = int(input('Digite a quantidade de números: '))\n",
    "    soma = 0\n",
    "    for i in range(1, quantidade+1):\n",
    "        numero = int(input(f'Digite o {i}º número: '))\n",
    "        soma += numero\n",
    "    \n",
    "    return soma\n",
    "\n",
    "soma()"
   ]
  },
  {
   "cell_type": "markdown",
   "id": "0b28c538",
   "metadata": {},
   "source": [
    "#### Utilização de parâmetros dentro da função"
   ]
  },
  {
   "cell_type": "code",
   "execution_count": 3,
   "id": "9034cf77",
   "metadata": {},
   "outputs": [
    {
     "data": {
      "text/plain": [
       "22"
      ]
     },
     "execution_count": 3,
     "metadata": {},
     "output_type": "execute_result"
    }
   ],
   "source": [
    "def soma_2(numero1, numero2):\n",
    "    return numero1 + numero2\n",
    "\n",
    "soma_2(10, 12)"
   ]
  },
  {
   "cell_type": "markdown",
   "id": "06d0c9ea",
   "metadata": {},
   "source": [
    "#### O parâmetro que recebe *, utiliza mais de um valor, ou seja, pode utilizar uma ou mais variáveis do mesmo tipo, os valores são guardados em uma tupla\n"
   ]
  },
  {
   "cell_type": "code",
   "execution_count": 5,
   "id": "6b59e564",
   "metadata": {},
   "outputs": [
    {
     "name": "stdout",
     "output_type": "stream",
     "text": [
      "30\n",
      "12\n"
     ]
    }
   ],
   "source": [
    "def soma_3(*numero):\n",
    "    soma = 0\n",
    "    for i in numero:\n",
    "        soma += i\n",
    "    return soma    \n",
    "\n",
    "print(soma_3(4,5,6,7,8))\n",
    "print(soma_3(5,7))"
   ]
  },
  {
   "cell_type": "markdown",
   "id": "444a2b95",
   "metadata": {},
   "source": [
    "#### O parâmetro quando já recebe um valor, começa com esse valor associado, mas pode ser utilizado um valor diferente\n"
   ]
  },
  {
   "cell_type": "code",
   "execution_count": 5,
   "id": "68556517",
   "metadata": {},
   "outputs": [],
   "source": [
    "def soma_4(*numero2, numero1=0):\n",
    "    for i in numero2:\n",
    "        numero1 += i\n",
    "    return numero1"
   ]
  },
  {
   "cell_type": "markdown",
   "id": "4284ae4b",
   "metadata": {},
   "source": [
    "#### ** Esse parâmetro cria um dicionário nos valores"
   ]
  },
  {
   "cell_type": "code",
   "execution_count": 8,
   "id": "2536cdfd",
   "metadata": {},
   "outputs": [],
   "source": [
    "def print_info (**dicionario):\n",
    "    print(dicionario,  type(dicionario))\n"
   ]
  },
  {
   "cell_type": "markdown",
   "id": "c72ddff3",
   "metadata": {},
   "source": [
    "## Recursividade\n",
    "\n",
    "#### Recursividade é quando uma função é chamada dentro dela mesmo. Toda função recursiva deve ter um critério de parada, para evitar um loop infinito.\n"
   ]
  },
  {
   "cell_type": "code",
   "execution_count": 7,
   "id": "fe588662",
   "metadata": {},
   "outputs": [],
   "source": [
    "def fatorial(numero):\n",
    "    if numero == 0:\n",
    "        return 1\n",
    "    else:\n",
    "        return numero * fatorial(numero - 1)"
   ]
  },
  {
   "cell_type": "code",
   "execution_count": 8,
   "id": "67906665",
   "metadata": {},
   "outputs": [],
   "source": [
    "def fibonacci(numero):\n",
    "    if numero == 0 or numero == 1:\n",
    "        return numero\n",
    "    else:\n",
    "        return fibonacci(numero-1) + fibonacci(numero-2)"
   ]
  },
  {
   "cell_type": "markdown",
   "id": "028700ed",
   "metadata": {},
   "source": [
    "## Retornando funções\n",
    "\n",
    "#### Para chamar a função criada é só colocar o nome colocado após o def, se tiver parâmetros colocar entre parâmetros.\n"
   ]
  },
  {
   "cell_type": "code",
   "execution_count": 9,
   "id": "0dc34888",
   "metadata": {},
   "outputs": [
    {
     "name": "stdout",
     "output_type": "stream",
     "text": [
      "Teste da função\n",
      "Teste da função\n"
     ]
    }
   ],
   "source": [
    "nova_funcao()"
   ]
  },
  {
   "cell_type": "code",
   "execution_count": 11,
   "id": "df75fc53",
   "metadata": {},
   "outputs": [
    {
     "name": "stdout",
     "output_type": "stream",
     "text": [
      "Digite a quantidade de números: 3\n",
      "Digite o 1º número: 1\n",
      "Digite o 2º número: 2\n",
      "Digite o 3º número: 3\n",
      "6\n"
     ]
    }
   ],
   "source": [
    "print(soma())"
   ]
  },
  {
   "cell_type": "markdown",
   "id": "e1829b9d",
   "metadata": {},
   "source": [
    "#### Executando os códigos direto do arquivo onde estão, no caso de serem importadas não são executadas\n"
   ]
  },
  {
   "cell_type": "code",
   "execution_count": 12,
   "id": "d0054925",
   "metadata": {},
   "outputs": [
    {
     "name": "stdout",
     "output_type": "stream",
     "text": [
      "25\n",
      "51\n",
      "37\n",
      "{'nome': 'Angelo', 'sobrenome': 'Bardy', 'idade': 32} <class 'dict'>\n"
     ]
    }
   ],
   "source": [
    "if __name__ == '__main__':\n",
    "    print(soma_2(12,13))\n",
    "    print(soma_3(10,9,8,7,6,5,3,2,1))\n",
    "    print(soma_4(4,5,5,5,6,numero1=12))\n",
    "    print_info(nome='Angelo',sobrenome='Bardy',idade=32)"
   ]
  },
  {
   "cell_type": "markdown",
   "id": "293cfa8d",
   "metadata": {},
   "source": [
    "## Função anônima - Lambda\n",
    "\n",
    "- Lambda cria uma função sem nome (anônima), os parâmetros são colocados antes dos dois pontos, as intruções de execução da função são colocadas após os dois pontos. A função é guardada dentro de uma variável."
   ]
  },
  {
   "cell_type": "code",
   "execution_count": 13,
   "id": "964ca29f",
   "metadata": {},
   "outputs": [],
   "source": [
    "soma_5 = lambda numero1, numero2: numero1 + numero2"
   ]
  },
  {
   "cell_type": "markdown",
   "id": "0dd09f4d",
   "metadata": {},
   "source": [
    "#### Os parâmetros são colocados na variável quando chamá-la"
   ]
  },
  {
   "cell_type": "code",
   "execution_count": 14,
   "id": "0148527b",
   "metadata": {},
   "outputs": [
    {
     "name": "stdout",
     "output_type": "stream",
     "text": [
      "22\n"
     ]
    }
   ],
   "source": [
    "print(soma_5(10,12))"
   ]
  },
  {
   "cell_type": "markdown",
   "id": "cf1518b8",
   "metadata": {},
   "source": [
    "#### A função lambda é últil para guardar várias funções em um dicionário"
   ]
  },
  {
   "cell_type": "code",
   "execution_count": 16,
   "id": "d5e313a9",
   "metadata": {},
   "outputs": [
    {
     "name": "stdout",
     "output_type": "stream",
     "text": [
      "12\n"
     ]
    }
   ],
   "source": [
    "dicionario = {'mutiplicar': lambda numero1,numero2: numero1 * numero2,\n",
    "              'somar'     : lambda numero1,numero2: numero1 + numero2,\n",
    "              'diminuir'  : lambda numero1,numero2: numero1 - numero2}\n",
    "\n",
    "print(dicionario['diminuir'](22,10))"
   ]
  },
  {
   "cell_type": "code",
   "execution_count": 17,
   "id": "c24889cc",
   "metadata": {},
   "outputs": [
    {
     "name": "stdout",
     "output_type": "stream",
     "text": [
      "32\n"
     ]
    }
   ],
   "source": [
    "print(dicionario['somar'](22,10))"
   ]
  },
  {
   "cell_type": "code",
   "execution_count": 18,
   "id": "af2af585",
   "metadata": {},
   "outputs": [
    {
     "name": "stdout",
     "output_type": "stream",
     "text": [
      "220\n"
     ]
    }
   ],
   "source": [
    "print(dicionario['mutiplicar'](22,10))"
   ]
  }
 ],
 "metadata": {
  "kernelspec": {
   "display_name": "Python 3.9.12 ('base')",
   "language": "python",
   "name": "python3"
  },
  "language_info": {
   "codemirror_mode": {
    "name": "ipython",
    "version": 3
   },
   "file_extension": ".py",
   "mimetype": "text/x-python",
   "name": "python",
   "nbconvert_exporter": "python",
   "pygments_lexer": "ipython3",
   "version": "3.9.12"
  },
  "vscode": {
   "interpreter": {
    "hash": "406138e5a602b00810fbe7ee529c90a879f88a9479754810ee7f6ab28412affb"
   }
  }
 },
 "nbformat": 4,
 "nbformat_minor": 5
}
