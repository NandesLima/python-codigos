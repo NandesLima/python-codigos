{
 "cells": [
  {
   "attachments": {},
   "cell_type": "markdown",
   "id": "5ea536ed",
   "metadata": {},
   "source": [
    "# 16 - Funções\n",
    "\n",
    "- Funções armazenam códigos para serem reutilizados mais de uma vez em tempo de execução de código.\n",
    "- A criação de uma função tem como base a palavra reservada **def** (define function).\n",
    "- O nome da função fica à direita da palavra reservada **def**, após o nome ficarão os parênteses que podem ou não conter os parâmetros da função, e após os parenteses, ficam dois pontos, terminando a eclaração da função.\n",
    "- O código que ficar abaixo da função de forma identado, será armazenado na função para ser reutilizado quando o nome dado à função for chamado no código."
   ]
  },
  {
   "cell_type": "markdown",
   "id": "bb6a6cb6",
   "metadata": {},
   "source": [
    "#### Função sem parâmetro e sem retornar valor"
   ]
  },
  {
   "cell_type": "code",
   "execution_count": 43,
   "id": "6e3d5877",
   "metadata": {},
   "outputs": [
    {
     "name": "stdout",
     "output_type": "stream",
     "text": [
      "Teste da função\n",
      "Teste da função\n"
     ]
    }
   ],
   "source": [
    "def nova_funcao():\n",
    "    for i in range(2):\n",
    "        print('Teste da função')\n",
    "\n",
    "nova_funcao()"
   ]
  },
  {
   "cell_type": "code",
   "execution_count": 44,
   "id": "b1a0c435",
   "metadata": {},
   "outputs": [
    {
     "name": "stdout",
     "output_type": "stream",
     "text": [
      "Teste da função\n",
      "Teste da função\n",
      "None\n"
     ]
    }
   ],
   "source": [
    "# Toda função sem um valor para retronar retorna None como valor padrão\n",
    "print(nova_funcao())"
   ]
  },
  {
   "cell_type": "markdown",
   "id": "114cf190",
   "metadata": {},
   "source": [
    "#### Return faz com que a função retorne um valor no final da execução"
   ]
  },
  {
   "cell_type": "code",
   "execution_count": 45,
   "id": "f2435093",
   "metadata": {},
   "outputs": [
    {
     "data": {
      "text/plain": [
       "21"
      ]
     },
     "execution_count": 45,
     "metadata": {},
     "output_type": "execute_result"
    }
   ],
   "source": [
    "def soma():\n",
    "    quantidade = int(input('Digite a quantidade de números: '))\n",
    "    soma = 0\n",
    "    for i in range(1, quantidade+1):\n",
    "        numero = int(input(f'Digite o {i}º número: '))\n",
    "        soma += numero\n",
    "    \n",
    "    return soma\n",
    "\n",
    "soma()"
   ]
  },
  {
   "cell_type": "markdown",
   "id": "0b28c538",
   "metadata": {},
   "source": [
    "#### Utilização de parâmetros dentro da função"
   ]
  },
  {
   "cell_type": "code",
   "execution_count": 46,
   "id": "9034cf77",
   "metadata": {},
   "outputs": [
    {
     "data": {
      "text/plain": [
       "22"
      ]
     },
     "execution_count": 46,
     "metadata": {},
     "output_type": "execute_result"
    }
   ],
   "source": [
    "def soma_2(numero1, numero2):\n",
    "    return numero1 + numero2\n",
    "\n",
    "soma_2(10, 12)"
   ]
  },
  {
   "attachments": {},
   "cell_type": "markdown",
   "id": "06d0c9ea",
   "metadata": {},
   "source": [
    "#### *args - O parâmetro que recebe *, utiliza mais de um valor, ou seja, pode utilizar uma ou mais variáveis do mesmo tipo, os valores são guardados em uma tupla\n"
   ]
  },
  {
   "cell_type": "code",
   "execution_count": 47,
   "id": "6b59e564",
   "metadata": {},
   "outputs": [
    {
     "name": "stdout",
     "output_type": "stream",
     "text": [
      "30\n",
      "12\n"
     ]
    }
   ],
   "source": [
    "def soma_3(*numero):\n",
    "    soma = 0\n",
    "    for i in numero:\n",
    "        soma += i\n",
    "    return soma    \n",
    "\n",
    "print(soma_3(4,5,6,7,8))\n",
    "print(soma_3(5,7))"
   ]
  },
  {
   "cell_type": "markdown",
   "id": "444a2b95",
   "metadata": {},
   "source": [
    "#### O parâmetro quando já recebe um valor, começa com esse valor associado, mas pode ser utilizado um valor diferente\n"
   ]
  },
  {
   "cell_type": "code",
   "execution_count": 48,
   "id": "68556517",
   "metadata": {},
   "outputs": [],
   "source": [
    "def soma_4(*numero2, numero1=0):\n",
    "    for i in numero2:\n",
    "        numero1 += i\n",
    "    return numero1"
   ]
  },
  {
   "attachments": {},
   "cell_type": "markdown",
   "id": "4284ae4b",
   "metadata": {},
   "source": [
    "#### **kwargs - ** Esse parâmetro cria um dicionário nos valores"
   ]
  },
  {
   "cell_type": "code",
   "execution_count": 49,
   "id": "2536cdfd",
   "metadata": {},
   "outputs": [],
   "source": [
    "def print_info (**dicionario):\n",
    "    print(dicionario,  type(dicionario))\n"
   ]
  },
  {
   "attachments": {},
   "cell_type": "markdown",
   "id": "ce5a1d8a",
   "metadata": {},
   "source": [
    "#### Utilizar args e keyargs"
   ]
  },
  {
   "cell_type": "code",
   "execution_count": 50,
   "id": "b552bc09",
   "metadata": {},
   "outputs": [
    {
     "name": "stdout",
     "output_type": "stream",
     "text": [
      "Domingo, 26 de Fevereiro de 2023\n",
      "\n",
      "One Piece\n",
      "\n",
      "O One Piece é real.\n",
      "Os sonhos das pessoas não tem fim.\n",
      "Uma pessoa não morre quando ela leva um tiro de canhão ou bebe um líquido envenenado.\n",
      "Uma pessoa morre quando ela é esquecida.\n",
      "\n",
      "Autor: Eiichiro Oda\n",
      "Ano: 1975\n"
     ]
    }
   ],
   "source": [
    "def exibir_poema(data_extenso, *args, **kwargs):\n",
    "    texto = \"\\n\".join(args)\n",
    "    meta_dados = \"\\n\".join([f\"{chave.title()}: {valor}\" for chave, valor in kwargs.items()])\n",
    "    mensagem = f\"{data_extenso}\\n\\n{texto}\\n\\n{meta_dados}\"\n",
    "    print(mensagem)\n",
    "\n",
    "\n",
    "exibir_poema(\n",
    "    \"Domingo, 26 de Fevereiro de 2023\",\n",
    "    \"One Piece\\n\", \n",
    "    \"O One Piece é real.\", \n",
    "    \"Os sonhos das pessoas não tem fim.\", \n",
    "    \"Uma pessoa não morre quando ela leva um tiro de canhão ou bebe um líquido envenenado.\",\n",
    "    \"Uma pessoa morre quando ela é esquecida.\",\n",
    "    autor=\"Eiichiro Oda\", ano=1975)"
   ]
  },
  {
   "attachments": {},
   "cell_type": "markdown",
   "id": "c5b9c107",
   "metadata": {},
   "source": [
    "#### Parâmetros especiais\n",
    "\n",
    "syntax:  def f(posicao1, posicao2, /, posicao_ou_kwd, *, kwd1, kwd2):\n",
    "\n",
    "\n",
    "- Tudo declarado antes da \"/\" é somente por posição (ou seja, a ordem não pode ser alterada, e não pode ser utilizado a chave para colocar o valor no parâmetro), tudo declarado depois do \"*\" é somente por palavra chave (Não se pode passar parâmetros sem a chave), tudo declarado entre \"/\" e \" *\" podem ser por posição ou palavra chave (Tem a escolha de passar nomeado ou não).\n"
   ]
  },
  {
   "cell_type": "code",
   "execution_count": 51,
   "id": "59a22bda",
   "metadata": {},
   "outputs": [],
   "source": [
    "def criar_carro(modelo, ano, placa, /, marca, motor, combustível):\n",
    "    print(modelo, ano, placa, marca, motor, combustível)"
   ]
  },
  {
   "cell_type": "code",
   "execution_count": 52,
   "id": "c8308586",
   "metadata": {},
   "outputs": [
    {
     "name": "stdout",
     "output_type": "stream",
     "text": [
      "Palio 1999 ABC-1234 Fiat 1.0 Gasolina\n"
     ]
    }
   ],
   "source": [
    "criar_carro(\"Palio\", 1999, \"ABC-1234\", motor=\"1.0\", combustível=\"Gasolina\", marca=\"Fiat\")"
   ]
  },
  {
   "cell_type": "code",
   "execution_count": 53,
   "id": "53e9678e",
   "metadata": {},
   "outputs": [
    {
     "ename": "TypeError",
     "evalue": "criar_carro() got some positional-only arguments passed as keyword arguments: 'modelo, ano, placa'",
     "output_type": "error",
     "traceback": [
      "\u001b[0;31m---------------------------------------------------------------------------\u001b[0m",
      "\u001b[0;31mTypeError\u001b[0m                                 Traceback (most recent call last)",
      "\u001b[1;32m/media/uta/Working/Python/python-codigos/codigos/16-funcoes.ipynb Cell 20\u001b[0m in \u001b[0;36m<cell line: 1>\u001b[0;34m()\u001b[0m\n\u001b[0;32m----> <a href='vscode-notebook-cell:/media/uta/Working/Python/python-codigos/codigos/16-funcoes.ipynb#X51sZmlsZQ%3D%3D?line=0'>1</a>\u001b[0m criar_carro(modelo\u001b[39m=\u001b[39;49m\u001b[39m\"\u001b[39;49m\u001b[39mPalio\u001b[39;49m\u001b[39m\"\u001b[39;49m, ano\u001b[39m=\u001b[39;49m\u001b[39m1999\u001b[39;49m, placa\u001b[39m=\u001b[39;49m\u001b[39m\"\u001b[39;49m\u001b[39mABC-1234\u001b[39;49m\u001b[39m\"\u001b[39;49m, marca\u001b[39m=\u001b[39;49m\u001b[39m\"\u001b[39;49m\u001b[39mFiat\u001b[39;49m\u001b[39m\"\u001b[39;49m, motor\u001b[39m=\u001b[39;49m\u001b[39m\"\u001b[39;49m\u001b[39m1.0\u001b[39;49m\u001b[39m\"\u001b[39;49m, combustível\u001b[39m=\u001b[39;49m\u001b[39m\"\u001b[39;49m\u001b[39mGasolina\u001b[39;49m\u001b[39m\"\u001b[39;49m)\n",
      "\u001b[0;31mTypeError\u001b[0m: criar_carro() got some positional-only arguments passed as keyword arguments: 'modelo, ano, placa'"
     ]
    }
   ],
   "source": [
    "criar_carro(modelo=\"Palio\", ano=1999, placa=\"ABC-1234\", marca=\"Fiat\", motor=\"1.0\", combustível=\"Gasolina\")"
   ]
  },
  {
   "cell_type": "code",
   "execution_count": null,
   "id": "bb0110f1",
   "metadata": {},
   "outputs": [],
   "source": [
    "def criar_carro(*, modelo, ano, placa, marca, motor, combustivel):\n",
    "    print(modelo, ano, placa, marca, motor, combustivel)"
   ]
  },
  {
   "cell_type": "code",
   "execution_count": null,
   "id": "cff1297c",
   "metadata": {},
   "outputs": [
    {
     "name": "stdout",
     "output_type": "stream",
     "text": [
      "Palio 1999 ABC-1234 Fiat 1.0 Gasolina\n"
     ]
    }
   ],
   "source": [
    "criar_carro(modelo=\"Palio\", ano=1999, placa=\"ABC-1234\", marca=\"Fiat\", motor=\"1.0\", combustivel=\"Gasolina\")"
   ]
  },
  {
   "cell_type": "code",
   "execution_count": null,
   "id": "6c8e55de",
   "metadata": {},
   "outputs": [
    {
     "ename": "SyntaxError",
     "evalue": "positional argument follows keyword argument (446582111.py, line 1)",
     "output_type": "error",
     "traceback": [
      "\u001b[0;36m  Input \u001b[0;32mIn [31]\u001b[0;36m\u001b[0m\n\u001b[0;31m    criar_carro(modelo=\"Palio\", ano=1999, placa=\"ABC-1234\", marca=\"Fiat\", motor=\"1.0\", \"Gasolina\")\u001b[0m\n\u001b[0m                                                                                                 ^\u001b[0m\n\u001b[0;31mSyntaxError\u001b[0m\u001b[0;31m:\u001b[0m positional argument follows keyword argument\n"
     ]
    }
   ],
   "source": [
    "criar_carro(modelo=\"Palio\", ano=1999, placa=\"ABC-1234\", marca=\"Fiat\", motor=\"1.0\", \"Gasolina\")"
   ]
  },
  {
   "cell_type": "markdown",
   "id": "028700ed",
   "metadata": {},
   "source": [
    "## Retornando funções\n",
    "\n",
    "#### Para chamar a função criada é só colocar o nome colocado após o def, se tiver parâmetros colocar entre parâmetros.\n"
   ]
  },
  {
   "cell_type": "code",
   "execution_count": null,
   "id": "0dc34888",
   "metadata": {},
   "outputs": [
    {
     "name": "stdout",
     "output_type": "stream",
     "text": [
      "Teste da função\n",
      "Teste da função\n"
     ]
    }
   ],
   "source": [
    "nova_funcao()"
   ]
  },
  {
   "cell_type": "code",
   "execution_count": null,
   "id": "df75fc53",
   "metadata": {},
   "outputs": [
    {
     "name": "stdout",
     "output_type": "stream",
     "text": [
      "3\n"
     ]
    }
   ],
   "source": [
    "print(soma())"
   ]
  },
  {
   "cell_type": "markdown",
   "id": "e1829b9d",
   "metadata": {},
   "source": [
    "#### Executando os códigos direto do arquivo onde estão, no caso de serem importadas não são executadas\n"
   ]
  },
  {
   "cell_type": "code",
   "execution_count": null,
   "id": "d0054925",
   "metadata": {},
   "outputs": [
    {
     "name": "stdout",
     "output_type": "stream",
     "text": [
      "25\n",
      "51\n",
      "37\n",
      "{'nome': 'Angelo', 'sobrenome': 'Bardy', 'idade': 32} <class 'dict'>\n"
     ]
    }
   ],
   "source": [
    "if __name__ == '__main__':\n",
    "    print(soma_2(12,13))\n",
    "    print(soma_3(10,9,8,7,6,5,3,2,1))\n",
    "    print(soma_4(4,5,5,5,6,numero1=12))\n",
    "    print_info(nome='Angelo',sobrenome='Bardy',idade=32)"
   ]
  },
  {
   "cell_type": "markdown",
   "id": "293cfa8d",
   "metadata": {},
   "source": [
    "## Função anônima - Lambda\n",
    "\n",
    "- Lambda cria uma função sem nome (anônima), os parâmetros são colocados antes dos dois pontos, as intruções de execução da função são colocadas após os dois pontos. A função é guardada dentro de uma variável."
   ]
  },
  {
   "cell_type": "code",
   "execution_count": null,
   "id": "964ca29f",
   "metadata": {},
   "outputs": [],
   "source": [
    "soma_5 = lambda numero1, numero2: numero1 + numero2"
   ]
  },
  {
   "cell_type": "markdown",
   "id": "0dd09f4d",
   "metadata": {},
   "source": [
    "#### Os parâmetros são colocados na variável quando chamá-la"
   ]
  },
  {
   "cell_type": "code",
   "execution_count": null,
   "id": "0148527b",
   "metadata": {},
   "outputs": [
    {
     "name": "stdout",
     "output_type": "stream",
     "text": [
      "22\n"
     ]
    }
   ],
   "source": [
    "print(soma_5(10,12))"
   ]
  },
  {
   "cell_type": "markdown",
   "id": "cf1518b8",
   "metadata": {},
   "source": [
    "#### A função lambda é últil para guardar várias funções em um dicionário"
   ]
  },
  {
   "cell_type": "code",
   "execution_count": null,
   "id": "d5e313a9",
   "metadata": {},
   "outputs": [
    {
     "name": "stdout",
     "output_type": "stream",
     "text": [
      "12\n"
     ]
    }
   ],
   "source": [
    "dicionario = {'mutiplicar': lambda numero1,numero2: numero1 * numero2,\n",
    "              'somar'     : lambda numero1,numero2: numero1 + numero2,\n",
    "              'diminuir'  : lambda numero1,numero2: numero1 - numero2}\n",
    "\n",
    "print(dicionario['diminuir'](22,10))"
   ]
  },
  {
   "cell_type": "code",
   "execution_count": null,
   "id": "c24889cc",
   "metadata": {},
   "outputs": [
    {
     "name": "stdout",
     "output_type": "stream",
     "text": [
      "32\n"
     ]
    }
   ],
   "source": [
    "print(dicionario['somar'](22,10))"
   ]
  },
  {
   "cell_type": "code",
   "execution_count": null,
   "id": "af2af585",
   "metadata": {},
   "outputs": [
    {
     "name": "stdout",
     "output_type": "stream",
     "text": [
      "220\n"
     ]
    }
   ],
   "source": [
    "print(dicionario['mutiplicar'](22,10))"
   ]
  },
  {
   "attachments": {},
   "cell_type": "markdown",
   "id": "af030438",
   "metadata": {},
   "source": [
    "## Objetos de primeira classe\n",
    "\n",
    "- Função é um objeto de primeira classe em Python, ou seja, funções podem ser atibuída a variáveis, podem ser parâmetros de outras funções, podem ser valores em uma estrutura de dados, e ser usado como valor de retorno para outra função (closures)"
   ]
  },
  {
   "cell_type": "code",
   "execution_count": null,
   "id": "4b74be7a",
   "metadata": {},
   "outputs": [],
   "source": [
    "def somar(a, b):\n",
    "    return a + b\n",
    "\n",
    "def subtrair(a, b):\n",
    "    return a - b\n",
    "\n",
    "def exibir_resultado(a, b, funcao):\n",
    "    resultado = funcao(a, b)\n",
    "    print(f'O resultado da operação é {resultado}')"
   ]
  },
  {
   "cell_type": "code",
   "execution_count": null,
   "id": "c0c364ba",
   "metadata": {},
   "outputs": [
    {
     "name": "stdout",
     "output_type": "stream",
     "text": [
      "O resultado da operação é 5\n",
      "O resultado da operação é 1\n"
     ]
    }
   ],
   "source": [
    "exibir_resultado(3,2,somar)\n",
    "exibir_resultado(3,2,subtrair)"
   ]
  },
  {
   "cell_type": "code",
   "execution_count": null,
   "id": "6dcd5507",
   "metadata": {},
   "outputs": [
    {
     "name": "stdout",
     "output_type": "stream",
     "text": [
      "12\n"
     ]
    }
   ],
   "source": [
    "op = somar\n",
    "\n",
    "print(op(5,7))"
   ]
  },
  {
   "cell_type": "markdown",
   "id": "c72ddff3",
   "metadata": {},
   "source": [
    "## Recursividade\n",
    "\n",
    "#### Recursividade é quando uma função é chamada dentro dela mesmo. Toda função recursiva deve ter um critério de parada, para evitar um loop infinito.\n"
   ]
  },
  {
   "cell_type": "code",
   "execution_count": 54,
   "id": "fe588662",
   "metadata": {},
   "outputs": [
    {
     "name": "stdout",
     "output_type": "stream",
     "text": [
      "40320\n"
     ]
    }
   ],
   "source": [
    "def fatorial(numero):\n",
    "    if numero == 0:\n",
    "        return 1\n",
    "    else:\n",
    "        return numero * fatorial(numero - 1)\n",
    "\n",
    "\n",
    "print(fatorial(8))"
   ]
  },
  {
   "cell_type": "code",
   "execution_count": 55,
   "id": "67906665",
   "metadata": {},
   "outputs": [
    {
     "name": "stdout",
     "output_type": "stream",
     "text": [
      "13\n"
     ]
    }
   ],
   "source": [
    "def fibonacci(numero):\n",
    "    if numero == 0 or numero == 1:\n",
    "        return numero\n",
    "    else:\n",
    "        return fibonacci(numero-1) + fibonacci(numero-2)\n",
    "\n",
    "print(fibonacci(7))"
   ]
  },
  {
   "attachments": {},
   "cell_type": "markdown",
   "id": "d2aa96a6",
   "metadata": {},
   "source": [
    "## Escopo Local e global\n",
    "\n",
    "- Variáveis internas da função são de escopo local\n",
    "- Variáveis externas da função são de escopo global"
   ]
  },
  {
   "attachments": {},
   "cell_type": "markdown",
   "id": "0e7b27b7",
   "metadata": {},
   "source": [
    "#### global - permite a utilização de um objeto de escopo global dentro do escopo local"
   ]
  },
  {
   "cell_type": "code",
   "execution_count": 1,
   "id": "83f5705e",
   "metadata": {},
   "outputs": [
    {
     "data": {
      "text/plain": [
       "2500"
      ]
     },
     "execution_count": 1,
     "metadata": {},
     "output_type": "execute_result"
    }
   ],
   "source": [
    "salario = 2000\n",
    "\n",
    "def salario_bonus(bonus):\n",
    "    global salario\n",
    "    salario += bonus\n",
    "    return salario\n",
    "\n",
    "salario_bonus(500)"
   ]
  },
  {
   "attachments": {},
   "cell_type": "markdown",
   "id": "97c66475",
   "metadata": {},
   "source": [
    "| [Dicionários](https://github.com/NandesLima/python-codigos/blob/master/codigos/15-dicionarios.ipynb) | [Manipulando Arquivos](https://github.com/NandesLima/python-codigos/blob/master/codigos/17-manipulando-arquivos.ipynb) |\n",
    "| --------------------------------------------------------------------------- | ------------------------------------------------------------------------------------------------------------------------ |"
   ]
  }
 ],
 "metadata": {
  "kernelspec": {
   "display_name": "Python 3.9.12 ('base')",
   "language": "python",
   "name": "python3"
  },
  "language_info": {
   "codemirror_mode": {
    "name": "ipython",
    "version": 3
   },
   "file_extension": ".py",
   "mimetype": "text/x-python",
   "name": "python",
   "nbconvert_exporter": "python",
   "pygments_lexer": "ipython3",
   "version": "3.9.12"
  },
  "vscode": {
   "interpreter": {
    "hash": "406138e5a602b00810fbe7ee529c90a879f88a9479754810ee7f6ab28412affb"
   }
  }
 },
 "nbformat": 4,
 "nbformat_minor": 5
}
