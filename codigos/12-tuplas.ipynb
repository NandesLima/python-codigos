{
 "cells": [
  {
   "attachments": {},
   "cell_type": "markdown",
   "id": "dac5e101",
   "metadata": {},
   "source": [
    "# 12 - Tuplas\n",
    "\n",
    "- São objetos que podem possuir um ou mais elementos, e não podem ser modificados. Os elementos ficam dentro de parênteses."
   ]
  },
  {
   "cell_type": "markdown",
   "id": "0bc02102",
   "metadata": {},
   "source": [
    "## Representando tuplas\n",
    "\n",
    "### Utilização de parênteses"
   ]
  },
  {
   "cell_type": "code",
   "execution_count": 27,
   "id": "3912cf58",
   "metadata": {},
   "outputs": [
    {
     "name": "stdout",
     "output_type": "stream",
     "text": [
      "(1, 2, 3, 4, 5, 5)\n",
      "<class 'tuple'>\n"
     ]
    }
   ],
   "source": [
    "tupla1 = (1,2,3,4,5,5)\n",
    "\n",
    "print(tupla1)\n",
    "print(type(tupla1))"
   ]
  },
  {
   "attachments": {},
   "cell_type": "markdown",
   "id": "8d6f3420",
   "metadata": {},
   "source": [
    "### Existe uma diferença na criação de tuplas de elemento único, se não tiver a vírgula após o elemento ele pode não ser considerado como uma tupla"
   ]
  },
  {
   "cell_type": "code",
   "execution_count": 28,
   "id": "b68ee37b",
   "metadata": {},
   "outputs": [
    {
     "name": "stdout",
     "output_type": "stream",
     "text": [
      "('carro',)\n",
      "<class 'tuple'>\n"
     ]
    }
   ],
   "source": [
    "tupla = ('carro',)\n",
    "print(tupla)\n",
    "print(type(tupla))"
   ]
  },
  {
   "cell_type": "code",
   "execution_count": 29,
   "id": "23864f34",
   "metadata": {},
   "outputs": [
    {
     "name": "stdout",
     "output_type": "stream",
     "text": [
      "carro\n",
      "<class 'str'>\n"
     ]
    }
   ],
   "source": [
    "string = ('carro')\n",
    "print(string)\n",
    "print(type(string))"
   ]
  },
  {
   "cell_type": "markdown",
   "id": "cf8668dc",
   "metadata": {},
   "source": [
    "### Utilização de vírgulas\n",
    "\n",
    "- Colocando elementos apenas separados por vírgula o Python já reconhece como uma tupla."
   ]
  },
  {
   "cell_type": "code",
   "execution_count": 30,
   "id": "232b2cce",
   "metadata": {},
   "outputs": [
    {
     "name": "stdout",
     "output_type": "stream",
     "text": [
      "('Brasil', 'Argentina', 'Chile', 'Peru')\n",
      "<class 'tuple'>\n"
     ]
    }
   ],
   "source": [
    "tupla2 = 'Brasil', 'Argentina', 'Chile', 'Peru'\n",
    "\n",
    "print(tupla2)\n",
    "print(type(tupla2))"
   ]
  },
  {
   "cell_type": "code",
   "execution_count": 31,
   "id": "6f82b713",
   "metadata": {},
   "outputs": [
    {
     "name": "stdout",
     "output_type": "stream",
     "text": [
      "('Ceará',)\n",
      "<class 'tuple'>\n"
     ]
    }
   ],
   "source": [
    "tupla3 = 'Ceará',\n",
    "\n",
    "print(tupla3)\n",
    "print(type(tupla3))"
   ]
  },
  {
   "cell_type": "markdown",
   "id": "b1518a24",
   "metadata": {},
   "source": [
    "### Convertendo outros objetos em tupla"
   ]
  },
  {
   "cell_type": "code",
   "execution_count": 32,
   "id": "8c4a7599",
   "metadata": {},
   "outputs": [
    {
     "name": "stdout",
     "output_type": "stream",
     "text": [
      "('Fortaleza', 'Aquiraz', 'Sobral', 'Quixadá')\n",
      "<class 'tuple'>\n"
     ]
    }
   ],
   "source": [
    "lista = ['Fortaleza', 'Aquiraz', 'Sobral', 'Quixadá']\n",
    "tupla4 = tuple(lista)\n",
    "\n",
    "print(tupla4)\n",
    "print(type(tupla4))"
   ]
  },
  {
   "cell_type": "code",
   "execution_count": 33,
   "id": "2c243014",
   "metadata": {},
   "outputs": [
    {
     "name": "stdout",
     "output_type": "stream",
     "text": [
      "()\n",
      "<class 'tuple'>\n"
     ]
    }
   ],
   "source": [
    "tupla5 = tuple()\n",
    "\n",
    "print(tupla5)\n",
    "print(type(tupla5))"
   ]
  },
  {
   "cell_type": "code",
   "execution_count": 34,
   "id": "e241f9f7",
   "metadata": {},
   "outputs": [
    {
     "name": "stdout",
     "output_type": "stream",
     "text": [
      "('p', 'y', 't', 'h', 'o', 'n')\n"
     ]
    }
   ],
   "source": [
    "letras = tuple(\"python\")\n",
    "print(letras)"
   ]
  },
  {
   "cell_type": "markdown",
   "id": "0247c50a",
   "metadata": {},
   "source": [
    "## Atribuindo valores de uma tupla para variáveis"
   ]
  },
  {
   "cell_type": "code",
   "execution_count": 35,
   "id": "1719810c",
   "metadata": {},
   "outputs": [
    {
     "name": "stdout",
     "output_type": "stream",
     "text": [
      "Brasil Argentina Chile Peru\n"
     ]
    }
   ],
   "source": [
    "pais1, pais2, pais3, pais4 = tupla2\n",
    "\n",
    "print(pais1, pais2, pais3, pais4)"
   ]
  },
  {
   "attachments": {},
   "cell_type": "markdown",
   "id": "1e08cf67",
   "metadata": {},
   "source": [
    "## Manipulação de tuplas - Slicing\n",
    "\n",
    "#### Elemento da posição indicada"
   ]
  },
  {
   "cell_type": "code",
   "execution_count": 36,
   "id": "f221a2d2",
   "metadata": {},
   "outputs": [
    {
     "name": "stdout",
     "output_type": "stream",
     "text": [
      "Quixadá\n"
     ]
    }
   ],
   "source": [
    "print(tupla4[3])"
   ]
  },
  {
   "cell_type": "markdown",
   "id": "03c7e7f6",
   "metadata": {},
   "source": [
    "#### Elementos entre a posição inicial e a final, o último número é excludente\n"
   ]
  },
  {
   "cell_type": "code",
   "execution_count": 37,
   "id": "7dac0ede",
   "metadata": {},
   "outputs": [
    {
     "name": "stdout",
     "output_type": "stream",
     "text": [
      "('Aquiraz', 'Sobral')\n"
     ]
    }
   ],
   "source": [
    "print(tupla4[1:3])"
   ]
  },
  {
   "cell_type": "markdown",
   "id": "eb111647",
   "metadata": {},
   "source": [
    "#### Elementos entre a posição incical e a final, com saltos diferentes de 1"
   ]
  },
  {
   "cell_type": "code",
   "execution_count": 38,
   "id": "fb8c0262",
   "metadata": {},
   "outputs": [
    {
     "name": "stdout",
     "output_type": "stream",
     "text": [
      "('Fortaleza', 'Sobral')\n"
     ]
    }
   ],
   "source": [
    "print(tupla4[0:4:2])"
   ]
  },
  {
   "cell_type": "markdown",
   "id": "408ce5c6",
   "metadata": {},
   "source": [
    "#### Elementos antes do último indicado"
   ]
  },
  {
   "cell_type": "code",
   "execution_count": 39,
   "id": "40fcd4a5",
   "metadata": {},
   "outputs": [
    {
     "name": "stdout",
     "output_type": "stream",
     "text": [
      "('Fortaleza', 'Aquiraz', 'Sobral')\n"
     ]
    }
   ],
   "source": [
    "print(tupla4[:3])"
   ]
  },
  {
   "cell_type": "markdown",
   "id": "1e46f295",
   "metadata": {},
   "source": [
    "#### Elementos após o primeiro indicado"
   ]
  },
  {
   "cell_type": "code",
   "execution_count": 40,
   "id": "23e630ae",
   "metadata": {},
   "outputs": [
    {
     "name": "stdout",
     "output_type": "stream",
     "text": [
      "('Aquiraz', 'Sobral', 'Quixadá')\n"
     ]
    }
   ],
   "source": [
    "print(tupla4[1:])"
   ]
  },
  {
   "cell_type": "markdown",
   "id": "b6219131",
   "metadata": {},
   "source": [
    "#### Todos os elementos com passo diferente de 1"
   ]
  },
  {
   "cell_type": "code",
   "execution_count": 41,
   "id": "2b51192f",
   "metadata": {},
   "outputs": [
    {
     "name": "stdout",
     "output_type": "stream",
     "text": [
      "('Fortaleza', 'Quixadá')\n"
     ]
    }
   ],
   "source": [
    "print(tupla4[::3])"
   ]
  },
  {
   "cell_type": "markdown",
   "id": "d312fb60",
   "metadata": {},
   "source": [
    "#### Passo inverso"
   ]
  },
  {
   "cell_type": "code",
   "execution_count": 42,
   "id": "3eb9c4e7",
   "metadata": {
    "scrolled": true
   },
   "outputs": [
    {
     "name": "stdout",
     "output_type": "stream",
     "text": [
      "('Quixadá', 'Sobral', 'Aquiraz', 'Fortaleza')\n"
     ]
    }
   ],
   "source": [
    "print(tupla4[::-1])"
   ]
  },
  {
   "cell_type": "markdown",
   "id": "a3e23094",
   "metadata": {},
   "source": [
    "#### Todos os elementos após o primeiro indicado, com passo diferente de 1"
   ]
  },
  {
   "cell_type": "code",
   "execution_count": 43,
   "id": "978f2b6a",
   "metadata": {},
   "outputs": [
    {
     "name": "stdout",
     "output_type": "stream",
     "text": [
      "('Sobral',)\n"
     ]
    }
   ],
   "source": [
    "print(tupla4[2::2])"
   ]
  },
  {
   "cell_type": "markdown",
   "id": "20dc2362",
   "metadata": {},
   "source": [
    "#### Todos os elementos antes do último indicado, com passo diferente de 1"
   ]
  },
  {
   "cell_type": "code",
   "execution_count": 44,
   "id": "565d29e1",
   "metadata": {},
   "outputs": [
    {
     "name": "stdout",
     "output_type": "stream",
     "text": [
      "('Fortaleza', 'Sobral')\n"
     ]
    }
   ],
   "source": [
    "print(tupla4[:3:2])"
   ]
  },
  {
   "cell_type": "markdown",
   "id": "547a9112",
   "metadata": {},
   "source": [
    "## Métodos e funções\n",
    "\n",
    "#### .count() - Retorna quantas vezes aparece o elemento no objeto indicado"
   ]
  },
  {
   "cell_type": "code",
   "execution_count": 45,
   "id": "465b466b",
   "metadata": {},
   "outputs": [
    {
     "name": "stdout",
     "output_type": "stream",
     "text": [
      "2\n"
     ]
    }
   ],
   "source": [
    "print(tupla1.count(5))"
   ]
  },
  {
   "cell_type": "markdown",
   "id": "bc654da2",
   "metadata": {},
   "source": [
    "#### .index() - Retorna a posição de um elemento, a partir da primeira ocorrência ou a partir da posição indicada"
   ]
  },
  {
   "cell_type": "code",
   "execution_count": 46,
   "id": "5188b562",
   "metadata": {},
   "outputs": [
    {
     "name": "stdout",
     "output_type": "stream",
     "text": [
      "1\n",
      "5\n"
     ]
    }
   ],
   "source": [
    "print(tupla4.index('Aquiraz'))\n",
    "print(tupla1.index(5, 5))"
   ]
  },
  {
   "cell_type": "markdown",
   "id": "d592f3ad",
   "metadata": {},
   "source": [
    "#### min() - Retorna o menor valor do objeto\n",
    "#### max() - Retorna o maior valor do objeto\n",
    "#### sum() - Soma os valores do objeto"
   ]
  },
  {
   "cell_type": "code",
   "execution_count": 47,
   "id": "35f83f78",
   "metadata": {},
   "outputs": [
    {
     "name": "stdout",
     "output_type": "stream",
     "text": [
      "1\n",
      "5\n",
      "20\n"
     ]
    }
   ],
   "source": [
    "print(min(tupla1))\n",
    "print(max(tupla1))\n",
    "print(sum(tupla1))"
   ]
  },
  {
   "cell_type": "markdown",
   "id": "40535296",
   "metadata": {},
   "source": [
    "#### len() - Mostra a quantidade de elementos do objeto"
   ]
  },
  {
   "cell_type": "code",
   "execution_count": 48,
   "id": "52736be6",
   "metadata": {},
   "outputs": [
    {
     "name": "stdout",
     "output_type": "stream",
     "text": [
      "4\n"
     ]
    }
   ],
   "source": [
    "print(len(tupla4))"
   ]
  },
  {
   "cell_type": "markdown",
   "id": "9e6ad2b4",
   "metadata": {},
   "source": [
    "## Imprimindo os valores de uma tupla\n",
    "\n",
    "- O sinal de asterisco antes da tupla, mostra os valores separados, como se guardado em variáveis diferentes."
   ]
  },
  {
   "cell_type": "code",
   "execution_count": 49,
   "id": "21b12b95",
   "metadata": {},
   "outputs": [
    {
     "name": "stdout",
     "output_type": "stream",
     "text": [
      "Fortaleza Aquiraz Sobral Quixadá\n"
     ]
    }
   ],
   "source": [
    "print(*tupla4)"
   ]
  },
  {
   "cell_type": "markdown",
   "id": "5b89be75",
   "metadata": {},
   "source": [
    "## Comando DEL\n",
    "\n",
    "#### del - Deleta o objeto selecionado"
   ]
  },
  {
   "cell_type": "code",
   "execution_count": 50,
   "id": "12652318",
   "metadata": {},
   "outputs": [],
   "source": [
    "del tupla2"
   ]
  },
  {
   "cell_type": "code",
   "execution_count": 51,
   "id": "84bfab16",
   "metadata": {},
   "outputs": [
    {
     "ename": "NameError",
     "evalue": "name 'tupla2' is not defined",
     "output_type": "error",
     "traceback": [
      "\u001b[0;31m---------------------------------------------------------------------------\u001b[0m",
      "\u001b[0;31mNameError\u001b[0m                                 Traceback (most recent call last)",
      "\u001b[1;32m/media/uta/Working/Python/python-codigos/codigos/12-tuplas.ipynb Cell 46\u001b[0m in \u001b[0;36m<cell line: 1>\u001b[0;34m()\u001b[0m\n\u001b[0;32m----> <a href='vscode-notebook-cell:/media/uta/Working/Python/python-codigos/codigos/12-tuplas.ipynb#X56sZmlsZQ%3D%3D?line=0'>1</a>\u001b[0m \u001b[39mprint\u001b[39m(tupla2)\n",
      "\u001b[0;31mNameError\u001b[0m: name 'tupla2' is not defined"
     ]
    }
   ],
   "source": [
    "print(tupla2)"
   ]
  },
  {
   "attachments": {},
   "cell_type": "markdown",
   "id": "97c66475",
   "metadata": {},
   "source": [
    "| [Estruturas de Repetição](https://github.com/NandesLima/python-codigos/blob/master/codigos/11-estrutura-de-repeticao.ipynb) | [Listas](https://github.com/NandesLima/python-codigos/blob/master/codigos/13-listas.ipynb) |\n",
    "| --------------------------------------------------------------------------- | ------------------------------------------------------------------------------------------------------------------------ |"
   ]
  }
 ],
 "metadata": {
  "kernelspec": {
   "display_name": "base",
   "language": "python",
   "name": "python3"
  },
  "language_info": {
   "codemirror_mode": {
    "name": "ipython",
    "version": 3
   },
   "file_extension": ".py",
   "mimetype": "text/x-python",
   "name": "python",
   "nbconvert_exporter": "python",
   "pygments_lexer": "ipython3",
   "version": "3.9.12"
  },
  "vscode": {
   "interpreter": {
    "hash": "406138e5a602b00810fbe7ee529c90a879f88a9479754810ee7f6ab28412affb"
   }
  }
 },
 "nbformat": 4,
 "nbformat_minor": 5
}
