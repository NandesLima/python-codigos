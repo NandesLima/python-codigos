{
 "cells": [
  {
   "attachments": {},
   "cell_type": "markdown",
   "id": "22078eb4",
   "metadata": {},
   "source": [
    "# 14 - Conjuntos\n",
    "\n",
    "- Objetos em python que armazena múltiplos elementos, são mutáveis, mas não aceita elementos duplicados, os elementos não são mutáveis, ou ordenados então não possuem um índice associado. "
   ]
  },
  {
   "cell_type": "markdown",
   "id": "d6ccf23a",
   "metadata": {},
   "source": [
    "## Representando Conjuntos\n",
    "\n",
    "#### Utilização de chaves"
   ]
  },
  {
   "cell_type": "code",
   "execution_count": 71,
   "id": "214fa80a",
   "metadata": {},
   "outputs": [
    {
     "name": "stdout",
     "output_type": "stream",
     "text": [
      "{1, 2, 3, 4, 5, 6}\n",
      "<class 'set'>\n"
     ]
    }
   ],
   "source": [
    "conjunto1 = {1, 2, 3, 4, 5, 6}\n",
    "\n",
    "print(conjunto1)\n",
    "print(type(conjunto1))"
   ]
  },
  {
   "cell_type": "markdown",
   "id": "e4095b55",
   "metadata": {},
   "source": [
    "#### Convertendo outros objetos em conjuntos"
   ]
  },
  {
   "cell_type": "code",
   "execution_count": 72,
   "id": "d0b75744",
   "metadata": {},
   "outputs": [
    {
     "name": "stdout",
     "output_type": "stream",
     "text": [
      "{8, 9, 6, 7}\n",
      "<class 'set'>\n"
     ]
    }
   ],
   "source": [
    "tupla = (6, 7, 8, 9, 6, 7, 6, 8, 6, 9)\n",
    "\n",
    "conjunto2 = set(tupla)\n",
    "\n",
    "print(conjunto2)\n",
    "print(type(conjunto2))"
   ]
  },
  {
   "cell_type": "code",
   "execution_count": 73,
   "id": "7d41130b",
   "metadata": {},
   "outputs": [
    {
     "name": "stdout",
     "output_type": "stream",
     "text": [
      "set()\n",
      "<class 'set'>\n"
     ]
    }
   ],
   "source": [
    "conjunto3 = set()\n",
    "\n",
    "print(conjunto3)\n",
    "print(type(conjunto3))"
   ]
  },
  {
   "cell_type": "code",
   "execution_count": 74,
   "id": "ed63609f",
   "metadata": {},
   "outputs": [
    {
     "name": "stdout",
     "output_type": "stream",
     "text": [
      "{'t', 'h', 'o', 'p', 'n', 'y'}\n"
     ]
    }
   ],
   "source": [
    "letras = set('python')\n",
    "print(letras)"
   ]
  },
  {
   "cell_type": "markdown",
   "id": "450a304e",
   "metadata": {},
   "source": [
    "## Métodos e funções\n",
    "\n",
    "#### min() - Retorna o menor valor do objeto\n",
    "#### max() - Retorna o maior valor do objeto\n",
    "#### sum() - Soma os valores do objeto"
   ]
  },
  {
   "cell_type": "code",
   "execution_count": 75,
   "id": "ed038e4a",
   "metadata": {},
   "outputs": [
    {
     "name": "stdout",
     "output_type": "stream",
     "text": [
      "6\n",
      "9\n",
      "30\n"
     ]
    }
   ],
   "source": [
    "print(min(conjunto2))\n",
    "print(max(conjunto2))\n",
    "print(sum(conjunto2))"
   ]
  },
  {
   "cell_type": "markdown",
   "id": "d84c6d42",
   "metadata": {},
   "source": [
    "#### len() - Mostra a quantidade de elementos do objeto"
   ]
  },
  {
   "cell_type": "code",
   "execution_count": 76,
   "id": "311cbb61",
   "metadata": {},
   "outputs": [
    {
     "name": "stdout",
     "output_type": "stream",
     "text": [
      "4\n"
     ]
    }
   ],
   "source": [
    "print(len(conjunto2))"
   ]
  },
  {
   "cell_type": "markdown",
   "id": "ba093d0b",
   "metadata": {},
   "source": [
    "#### .add() - Adiciona um elemento no conjunto"
   ]
  },
  {
   "cell_type": "code",
   "execution_count": 77,
   "id": "5f2bbb83",
   "metadata": {},
   "outputs": [
    {
     "name": "stdout",
     "output_type": "stream",
     "text": [
      "{1, 2, 3, 4, 5, 6, 7}\n"
     ]
    }
   ],
   "source": [
    "conjunto1.add(7)\n",
    "\n",
    "print(conjunto1)"
   ]
  },
  {
   "attachments": {},
   "cell_type": "markdown",
   "id": "9f614f88",
   "metadata": {},
   "source": [
    "#### .copy() - Copia um conjunto"
   ]
  },
  {
   "cell_type": "code",
   "execution_count": 78,
   "id": "62606ccb",
   "metadata": {},
   "outputs": [
    {
     "name": "stdout",
     "output_type": "stream",
     "text": [
      "{1, 2, 3, 4, 5, 6, 7}\n"
     ]
    }
   ],
   "source": [
    "copia = conjunto1.copy()\n",
    "print(copia)"
   ]
  },
  {
   "attachments": {},
   "cell_type": "markdown",
   "id": "95bf4f1c",
   "metadata": {},
   "source": [
    "#### .remove() - Elimina o elemento indicado, se o elemento não existir ele dá um erro"
   ]
  },
  {
   "cell_type": "code",
   "execution_count": 79,
   "id": "68662c42",
   "metadata": {},
   "outputs": [
    {
     "name": "stdout",
     "output_type": "stream",
     "text": [
      "{8, 9, 6}\n"
     ]
    }
   ],
   "source": [
    "conjunto2.remove(7)\n",
    "\n",
    "print(conjunto2)"
   ]
  },
  {
   "attachments": {},
   "cell_type": "markdown",
   "id": "5e8f0367",
   "metadata": {},
   "source": [
    "#### .discard() - Elimina um elemento de um conjunto, se o elemento não existir ele continua a execução"
   ]
  },
  {
   "cell_type": "code",
   "execution_count": 80,
   "id": "b30d0353",
   "metadata": {},
   "outputs": [
    {
     "name": "stdout",
     "output_type": "stream",
     "text": [
      "{1, 2, 3, 4, 5, 7}\n"
     ]
    }
   ],
   "source": [
    "conjunto1.discard(6)\n",
    "\n",
    "print(conjunto1)"
   ]
  },
  {
   "attachments": {},
   "cell_type": "markdown",
   "id": "c19995c5",
   "metadata": {},
   "source": [
    "#### .pop() - Elimina o primeiro elemento do conjunto"
   ]
  },
  {
   "cell_type": "code",
   "execution_count": 81,
   "id": "405ea066",
   "metadata": {},
   "outputs": [
    {
     "name": "stdout",
     "output_type": "stream",
     "text": [
      "{2, 3, 4, 5, 7}\n",
      "1\n"
     ]
    }
   ],
   "source": [
    "retorno = conjunto1.pop()\n",
    "print(conjunto1)\n",
    "print(retorno)"
   ]
  },
  {
   "cell_type": "markdown",
   "id": "771497db",
   "metadata": {},
   "source": [
    "#### .union() - Faz a união de dois conjuntos"
   ]
  },
  {
   "cell_type": "code",
   "execution_count": 82,
   "id": "490e7445",
   "metadata": {},
   "outputs": [
    {
     "name": "stdout",
     "output_type": "stream",
     "text": [
      "{2, 3, 4, 5, 6, 7, 8, 9}\n"
     ]
    }
   ],
   "source": [
    "conjunto3 = conjunto2.union(conjunto1)\n",
    "\n",
    "print(conjunto3)"
   ]
  },
  {
   "cell_type": "markdown",
   "id": "de173291",
   "metadata": {},
   "source": [
    "#### .intersection() - Retorna a interseção de dois conjuntos"
   ]
  },
  {
   "cell_type": "code",
   "execution_count": 83,
   "id": "8f99212c",
   "metadata": {},
   "outputs": [
    {
     "name": "stdout",
     "output_type": "stream",
     "text": [
      "set()\n"
     ]
    }
   ],
   "source": [
    "conjunto3 = conjunto1.intersection(conjunto2)\n",
    "\n",
    "print(conjunto3)"
   ]
  },
  {
   "cell_type": "markdown",
   "id": "f66bf129",
   "metadata": {},
   "source": [
    "#### .difference() - Retorna apenas os valores que que tem apenas co conjunto antes do ponto"
   ]
  },
  {
   "cell_type": "code",
   "execution_count": 84,
   "id": "90ce343b",
   "metadata": {},
   "outputs": [
    {
     "name": "stdout",
     "output_type": "stream",
     "text": [
      "{8, 9, 6}\n"
     ]
    }
   ],
   "source": [
    "conjunto2 = conjunto2.difference(conjunto3)\n",
    "\n",
    "print(conjunto2)"
   ]
  },
  {
   "attachments": {},
   "cell_type": "markdown",
   "id": "dfee5d03",
   "metadata": {},
   "source": [
    "#### .symmetric_difference() - Pega tudo de diferente entre dois conjuntos e junta, ou seja, só não retorna a interseção"
   ]
  },
  {
   "cell_type": "code",
   "execution_count": 85,
   "id": "73a8f3f3",
   "metadata": {},
   "outputs": [
    {
     "name": "stdout",
     "output_type": "stream",
     "text": [
      "{2, 3, 4, 5, 6, 7, 8, 9}\n"
     ]
    }
   ],
   "source": [
    "conjunto3 = conjunto2.symmetric_difference(conjunto1)\n",
    "\n",
    "print(conjunto3)"
   ]
  },
  {
   "cell_type": "markdown",
   "id": "690f9fa1",
   "metadata": {},
   "source": [
    "#### .issubset() - Retorna um booleano caso o conjunto antes do ponto esteja contido no conjunto depois do ponto"
   ]
  },
  {
   "cell_type": "code",
   "execution_count": 86,
   "id": "5aec22d4",
   "metadata": {},
   "outputs": [
    {
     "name": "stdout",
     "output_type": "stream",
     "text": [
      "False\n"
     ]
    }
   ],
   "source": [
    "print(conjunto3.issubset(conjunto2))"
   ]
  },
  {
   "cell_type": "code",
   "execution_count": 87,
   "id": "d1a6cfd2",
   "metadata": {},
   "outputs": [
    {
     "name": "stdout",
     "output_type": "stream",
     "text": [
      "True\n"
     ]
    }
   ],
   "source": [
    "print(conjunto2.issubset(conjunto3))"
   ]
  },
  {
   "cell_type": "markdown",
   "id": "6f4aaa8d",
   "metadata": {},
   "source": [
    "#### .issuperset() - Retorna um booleano caso o conjunto antes do ponto contenha o conjunto após o ponto"
   ]
  },
  {
   "cell_type": "code",
   "execution_count": 88,
   "id": "dcbf2e14",
   "metadata": {},
   "outputs": [
    {
     "name": "stdout",
     "output_type": "stream",
     "text": [
      "False\n"
     ]
    }
   ],
   "source": [
    "print(conjunto2.issuperset(conjunto3))"
   ]
  },
  {
   "cell_type": "code",
   "execution_count": 89,
   "id": "72959754",
   "metadata": {},
   "outputs": [
    {
     "name": "stdout",
     "output_type": "stream",
     "text": [
      "True\n"
     ]
    }
   ],
   "source": [
    "print(conjunto3.issuperset(conjunto2))"
   ]
  },
  {
   "attachments": {},
   "cell_type": "markdown",
   "id": "eaffa1e4",
   "metadata": {},
   "source": [
    "#### .isdisjoint() - Operação de conjunto disjunto, conjuntos qua não possuem uma interseção, retorna o valor lógico caso seja disjunto ou não"
   ]
  },
  {
   "cell_type": "code",
   "execution_count": 90,
   "id": "198c43d2",
   "metadata": {},
   "outputs": [
    {
     "name": "stdout",
     "output_type": "stream",
     "text": [
      "True\n",
      "False\n"
     ]
    }
   ],
   "source": [
    "print(conjunto1.isdisjoint(conjunto2))\n",
    "print(conjunto1.isdisjoint(conjunto3))"
   ]
  },
  {
   "cell_type": "markdown",
   "id": "4c69617f",
   "metadata": {},
   "source": [
    "#### .clear() - Limpa os dados do conjunto"
   ]
  },
  {
   "cell_type": "code",
   "execution_count": 91,
   "id": "1e297833",
   "metadata": {},
   "outputs": [
    {
     "name": "stdout",
     "output_type": "stream",
     "text": [
      "set()\n"
     ]
    }
   ],
   "source": [
    "conjunto3.clear()\n",
    "\n",
    "print(conjunto3)"
   ]
  },
  {
   "cell_type": "markdown",
   "id": "f5f21e57",
   "metadata": {},
   "source": [
    "#### enumerate() - Cria uma lista de tuplas"
   ]
  },
  {
   "cell_type": "code",
   "execution_count": 92,
   "id": "ab564bf2",
   "metadata": {},
   "outputs": [
    {
     "name": "stdout",
     "output_type": "stream",
     "text": [
      "0 8\n",
      "1 9\n",
      "2 6\n"
     ]
    }
   ],
   "source": [
    "lista = enumerate(conjunto2)\n",
    "\n",
    "for i, e in lista:\n",
    "    print(i, e)"
   ]
  },
  {
   "cell_type": "markdown",
   "id": "a15a877e",
   "metadata": {},
   "source": [
    "#### del - deleta um objeto"
   ]
  },
  {
   "cell_type": "code",
   "execution_count": 93,
   "id": "4f8e0de1",
   "metadata": {},
   "outputs": [],
   "source": [
    "del conjunto3"
   ]
  },
  {
   "cell_type": "code",
   "execution_count": 94,
   "id": "dab98a36",
   "metadata": {},
   "outputs": [
    {
     "ename": "NameError",
     "evalue": "name 'conjunto3' is not defined",
     "output_type": "error",
     "traceback": [
      "\u001b[0;31m---------------------------------------------------------------------------\u001b[0m",
      "\u001b[0;31mNameError\u001b[0m                                 Traceback (most recent call last)",
      "\u001b[1;32m/media/uta/Working/Python/python-codigos/codigos/14-conjuntos.ipynb Cell 44\u001b[0m in \u001b[0;36m<cell line: 1>\u001b[0;34m()\u001b[0m\n\u001b[0;32m----> <a href='vscode-notebook-cell:/media/uta/Working/Python/python-codigos/codigos/14-conjuntos.ipynb#X51sZmlsZQ%3D%3D?line=0'>1</a>\u001b[0m \u001b[39mprint\u001b[39m(conjunto3)\n",
      "\u001b[0;31mNameError\u001b[0m: name 'conjunto3' is not defined"
     ]
    }
   ],
   "source": [
    "print(conjunto3)"
   ]
  },
  {
   "attachments": {},
   "cell_type": "markdown",
   "id": "97c66475",
   "metadata": {},
   "source": [
    "| [Listas](https://github.com/NandesLima/python-codigos/blob/master/codigos/13-listas.ipynb) | [Dicionários](https://github.com/NandesLima/python-codigos/blob/master/codigos/15-dicionarios.ipynb) |\n",
    "| --------------------------------------------------------------------------- | ------------------------------------------------------------------------------------------------------------------------ |"
   ]
  }
 ],
 "metadata": {
  "kernelspec": {
   "display_name": "Python 3.9.12 ('base')",
   "language": "python",
   "name": "python3"
  },
  "language_info": {
   "codemirror_mode": {
    "name": "ipython",
    "version": 3
   },
   "file_extension": ".py",
   "mimetype": "text/x-python",
   "name": "python",
   "nbconvert_exporter": "python",
   "pygments_lexer": "ipython3",
   "version": "3.9.12"
  },
  "vscode": {
   "interpreter": {
    "hash": "406138e5a602b00810fbe7ee529c90a879f88a9479754810ee7f6ab28412affb"
   }
  }
 },
 "nbformat": 4,
 "nbformat_minor": 5
}
